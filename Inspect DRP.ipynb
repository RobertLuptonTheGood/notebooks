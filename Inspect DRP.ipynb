{
 "cells": [
  {
   "cell_type": "code",
   "execution_count": 1,
   "metadata": {
    "collapsed": true
   },
   "outputs": [],
   "source": [
    "import numpy as np\n",
    "\n",
    "%matplotlib inline\n",
    "import matplotlib.pyplot as plt"
   ]
  },
  {
   "cell_type": "code",
   "execution_count": 2,
   "metadata": {
    "collapsed": false
   },
   "outputs": [],
   "source": [
    "import lsst.daf.persistence as dafPersist\n",
    "import lsst.afw.image as afwImage\n",
    "import lsst.afw.display as afwDisp\n",
    "import lsst.afw.coord as afwCoord\n",
    "import lsst.afw.geom as afwGeom\n",
    "\n",
    "from pfs.datamodel.pfsArm import PfsArm, PfsConfig"
   ]
  },
  {
   "cell_type": "code",
   "execution_count": 3,
   "metadata": {
    "collapsed": false
   },
   "outputs": [
    {
     "ename": "RuntimeError",
     "evalue": "Unable to set backend to lsst.display.ginga: \"'NoneType' object has no attribute 'frame'\"",
     "output_type": "error",
     "traceback": [
      "\u001b[0;31m---------------------------------------------------------------------------\u001b[0m",
      "\u001b[0;31mRuntimeError\u001b[0m                              Traceback (most recent call last)",
      "\u001b[0;32m<ipython-input-3-00167686ac86>\u001b[0m in \u001b[0;36m<module>\u001b[0;34m()\u001b[0m\n\u001b[1;32m      1\u001b[0m \u001b[0mbutler\u001b[0m \u001b[0;34m=\u001b[0m \u001b[0mdafPersist\u001b[0m\u001b[0;34m.\u001b[0m\u001b[0mButler\u001b[0m\u001b[0;34m(\u001b[0m\u001b[0mos\u001b[0m\u001b[0;34m.\u001b[0m\u001b[0mpath\u001b[0m\u001b[0;34m.\u001b[0m\u001b[0mjoin\u001b[0m\u001b[0;34m(\u001b[0m\u001b[0;34m\"/Users/rhl/PFS/Data/rerun\"\u001b[0m\u001b[0;34m,\u001b[0m \u001b[0;34m\"rhl\"\u001b[0m\u001b[0;34m,\u001b[0m \u001b[0;34m\"talk\"\u001b[0m\u001b[0;34m)\u001b[0m\u001b[0;34m)\u001b[0m\u001b[0;34m\u001b[0m\u001b[0m\n\u001b[0;32m----> 2\u001b[0;31m \u001b[0mafwDisplay\u001b[0m\u001b[0;34m.\u001b[0m\u001b[0msetDefaultBackend\u001b[0m\u001b[0;34m(\u001b[0m\u001b[0;34m\"lsst.display.ginga\"\u001b[0m \u001b[0;32mif\u001b[0m \u001b[0mTrue\u001b[0m \u001b[0;32melse\u001b[0m \u001b[0;34m\"ds9\"\u001b[0m\u001b[0;34m)\u001b[0m\u001b[0;34m\u001b[0m\u001b[0m\n\u001b[0m\u001b[1;32m      3\u001b[0m \u001b[0mafwDisplay\u001b[0m\u001b[0;34m.\u001b[0m\u001b[0mDisplay\u001b[0m\u001b[0;34m.\u001b[0m\u001b[0mdelAllDisplays\u001b[0m\u001b[0;34m(\u001b[0m\u001b[0;34m)\u001b[0m\u001b[0;34m\u001b[0m\u001b[0m\n\u001b[1;32m      4\u001b[0m \u001b[0mdisp\u001b[0m \u001b[0;34m=\u001b[0m \u001b[0mafwDisplay\u001b[0m\u001b[0;34m.\u001b[0m\u001b[0mDisplay\u001b[0m\u001b[0;34m(\u001b[0m\u001b[0;36m1\u001b[0m\u001b[0;34m,\u001b[0m \u001b[0mopen\u001b[0m\u001b[0;34m=\u001b[0m\u001b[0mTrue\u001b[0m\u001b[0;34m)\u001b[0m\u001b[0;34m\u001b[0m\u001b[0m\n\u001b[1;32m      5\u001b[0m \u001b[0mdisp2\u001b[0m \u001b[0;34m=\u001b[0m \u001b[0mafwDisplay\u001b[0m\u001b[0;34m.\u001b[0m\u001b[0mDisplay\u001b[0m\u001b[0;34m(\u001b[0m\u001b[0;36m2\u001b[0m\u001b[0;34m,\u001b[0m \u001b[0mopen\u001b[0m\u001b[0;34m=\u001b[0m\u001b[0mTrue\u001b[0m\u001b[0;34m)\u001b[0m\u001b[0;34m\u001b[0m\u001b[0m\n",
      "\u001b[0;32m/Users/lsst/products/DarwinX86/miniconda/latest/envs/lsst-v12_1/var/opt/eups/DarwinX86/afw/12.1-4-gaba3f16/python/lsst/afw/display/interface.pyc\u001b[0m in \u001b[0;36msetDefaultBackend\u001b[0;34m(backend)\u001b[0m\n\u001b[1;32m    620\u001b[0m \u001b[0;31m#\u001b[0m\u001b[0;34m\u001b[0m\u001b[0;34m\u001b[0m\u001b[0m\n\u001b[1;32m    621\u001b[0m \u001b[0;32mdef\u001b[0m \u001b[0msetDefaultBackend\u001b[0m\u001b[0;34m(\u001b[0m\u001b[0mbackend\u001b[0m\u001b[0;34m)\u001b[0m\u001b[0;34m:\u001b[0m\u001b[0;34m\u001b[0m\u001b[0m\n\u001b[0;32m--> 622\u001b[0;31m     \u001b[0mDisplay\u001b[0m\u001b[0;34m.\u001b[0m\u001b[0msetDefaultBackend\u001b[0m\u001b[0;34m(\u001b[0m\u001b[0mbackend\u001b[0m\u001b[0;34m)\u001b[0m\u001b[0;34m\u001b[0m\u001b[0m\n\u001b[0m\u001b[1;32m    623\u001b[0m \u001b[0;34m\u001b[0m\u001b[0m\n\u001b[1;32m    624\u001b[0m \u001b[0;32mdef\u001b[0m \u001b[0mgetDefaultBackend\u001b[0m\u001b[0;34m(\u001b[0m\u001b[0;34m)\u001b[0m\u001b[0;34m:\u001b[0m\u001b[0;34m\u001b[0m\u001b[0m\n",
      "\u001b[0;32m/Users/lsst/products/DarwinX86/miniconda/latest/envs/lsst-v12_1/var/opt/eups/DarwinX86/afw/12.1-4-gaba3f16/python/lsst/afw/display/interface.pyc\u001b[0m in \u001b[0;36msetDefaultBackend\u001b[0;34m(backend)\u001b[0m\n\u001b[1;32m    211\u001b[0m             \u001b[0m_makeDisplayImpl\u001b[0m\u001b[0;34m(\u001b[0m\u001b[0mNone\u001b[0m\u001b[0;34m,\u001b[0m \u001b[0mbackend\u001b[0m\u001b[0;34m)\u001b[0m\u001b[0;34m\u001b[0m\u001b[0m\n\u001b[1;32m    212\u001b[0m         \u001b[0;32mexcept\u001b[0m \u001b[0mException\u001b[0m \u001b[0;32mas\u001b[0m \u001b[0me\u001b[0m\u001b[0;34m:\u001b[0m\u001b[0;34m\u001b[0m\u001b[0m\n\u001b[0;32m--> 213\u001b[0;31m             \u001b[0;32mraise\u001b[0m \u001b[0mRuntimeError\u001b[0m\u001b[0;34m(\u001b[0m\u001b[0;34m\"Unable to set backend to %s: \\\"%s\\\"\"\u001b[0m \u001b[0;34m%\u001b[0m \u001b[0;34m(\u001b[0m\u001b[0mbackend\u001b[0m\u001b[0;34m,\u001b[0m \u001b[0me\u001b[0m\u001b[0;34m)\u001b[0m\u001b[0;34m)\u001b[0m\u001b[0;34m\u001b[0m\u001b[0m\n\u001b[0m\u001b[1;32m    214\u001b[0m \u001b[0;34m\u001b[0m\u001b[0m\n\u001b[1;32m    215\u001b[0m         \u001b[0mDisplay\u001b[0m\u001b[0;34m.\u001b[0m\u001b[0m_defaultBackend\u001b[0m \u001b[0;34m=\u001b[0m \u001b[0mbackend\u001b[0m\u001b[0;34m\u001b[0m\u001b[0m\n",
      "\u001b[0;31mRuntimeError\u001b[0m: Unable to set backend to lsst.display.ginga: \"'NoneType' object has no attribute 'frame'\""
     ]
    }
   ],
   "source": [
    "butler = dafPersist.Butler(os.path.join(\"/Users/rhl/PFS/Data/rerun\", \"rhl\", \"talk\"))\n",
    "afwDisplay.setDefaultBackend(\"lsst.display.ginga\" if True else \"ds9\")\n",
    "afwDisplay.Display.delAllDisplays()\n",
    "disp = afwDisplay.Display(1, open=True)\n",
    "disp2 = afwDisplay.Display(2, open=True)\n",
    "\n",
    "figDir = os.path.expanduser(\"~/TeX/Talks/PFS/Princeton-2016-09\") if False else None\n",
    "\n",
    "dataId = dict(visit=4, arm=\"r\", spectrograph=2)"
   ]
  },
  {
   "cell_type": "code",
   "execution_count": null,
   "metadata": {
    "collapsed": false,
    "scrolled": true
   },
   "outputs": [],
   "source": [
    "fiberId = 1 + np.arange(11)\n",
    "ra  = np.zeros_like(fiberId, dtype='float32')\n",
    "dec = np.zeros_like(ra)\n",
    "\n",
    "catId = np.zeros_like(fiberId)\n",
    "objId = np.zeros_like(catId)\n",
    "\n",
    "filterNames = \"grizy\"\n",
    "fiberMags   = np.zeros((len(fiberId), len(filterNames)))\n",
    "mpsCentroid = np.zeros((len(fiberId), 2))\n",
    "\n",
    "pfsConfig = PfsConfig(#tract=[0], patch=['0,0'], \n",
    "                      fiberId=fiberId, ra=ra, dec=dec,\n",
    "                      catId=catId, objId=objId, fiberMag=fiberMags, filterNames=filterNames,\n",
    "                      mpsCen=mpsCentroid)\n",
    "\n",
    "if False:\n",
    "    pfsConfig.write(dirName=\"/Users/rhl\")\n",
    "else:\n",
    "    from pfs.drp.stella.datamodelIO import PfsConfigIO\n",
    "\n",
    "    dateObs = butler.queryMetadata('raw', 'dateObs', dataId)[0]\n",
    "\n",
    "    butler.put(PfsConfigIO(pfsConfig), 'pfsConfig',\n",
    "               dict(dateObs=dateObs, pfsConfigId=pfsConfig.pfsConfigId))"
   ]
  },
  {
   "cell_type": "code",
   "execution_count": null,
   "metadata": {
    "collapsed": true
   },
   "outputs": [],
   "source": [
    "exp = butler.get(\"postISRCCD\", dataId, visit=4)\n",
    "\n",
    "if False:\n",
    "    disp2.mtv(exp, title=\"postISRCCD\")"
   ]
  },
  {
   "cell_type": "code",
   "execution_count": null,
   "metadata": {
    "collapsed": false
   },
   "outputs": [],
   "source": [
    "calexp = butler.get(\"calexp\", dataId, visit=4)\n",
    "\n",
    "disp.mtv(calexp, title=\"calexp\")\n",
    "disp.scale('linear', 'zscale')"
   ]
  },
  {
   "cell_type": "code",
   "execution_count": null,
   "metadata": {
    "collapsed": false
   },
   "outputs": [],
   "source": [
    "disp.get_viewer().show()"
   ]
  },
  {
   "cell_type": "code",
   "execution_count": null,
   "metadata": {
    "collapsed": false
   },
   "outputs": [],
   "source": [
    "disp2.mtv(calexp.getPsf().computeImage())\n",
    "disp2.zoom(32)\n",
    "disp2.pan(0, 0)\n",
    "\n",
    "disp2.get_viewer().show()"
   ]
  },
  {
   "cell_type": "code",
   "execution_count": null,
   "metadata": {
    "collapsed": false
   },
   "outputs": [],
   "source": [
    "import lsst.meas.algorithms.utils as maUtils\n",
    "\n",
    "mos = maUtils.showPsfMosaic(calexp, nx=8, ny=8, showCenter=False, showFwhm=False, display=disp)\n",
    "disp.scale('linear', 'minmax')\n",
    "disp.get_viewer().show()"
   ]
  },
  {
   "cell_type": "code",
   "execution_count": null,
   "metadata": {
    "collapsed": true
   },
   "outputs": [],
   "source": [
    "disp.pan(3197, 783)\n",
    "disp.zoom(2)"
   ]
  },
  {
   "cell_type": "code",
   "execution_count": null,
   "metadata": {
    "collapsed": false
   },
   "outputs": [],
   "source": [
    "%pdb 1\n",
    "bias = butler.get(\"bias\", dataId, arm=\"r\")  # arm=\"m\" fails\n",
    "disp.mtv(bias, title=\"bias\")\n",
    "disp.scale('linear', 'zscale')\n",
    "disp.get_viewer().show()"
   ]
  },
  {
   "cell_type": "code",
   "execution_count": null,
   "metadata": {
    "collapsed": false
   },
   "outputs": [],
   "source": [
    "dark = butler.get(\"dark\", dataId)\n",
    "disp.mtv(dark, title=\"dark\")\n",
    "disp.get_viewer().show()"
   ]
  },
  {
   "cell_type": "code",
   "execution_count": null,
   "metadata": {
    "collapsed": false
   },
   "outputs": [],
   "source": [
    "if False:\n",
    "    flat = butler.get(\"flat\", dataId)\n",
    "    disp.mtv(flat, title=\"flat\")\n",
    "    #disp.get_viewer().show()"
   ]
  },
  {
   "cell_type": "code",
   "execution_count": null,
   "metadata": {
    "collapsed": false
   },
   "outputs": [],
   "source": [
    "raw = butler.get(\"raw\", dataId, visit=7253)\n",
    "disp.mtv(raw, title=\"raw 7253\")\n",
    "\n",
    "raw2 = butler.get(\"raw\", dataId, visit=7251)\n",
    "disp2.mtv(raw2, title=\"raw 7251\")\n",
    "\n",
    "print \"Exposure time: %.1fs\" % (raw.getCalib().getExptime())\n",
    "\n",
    "disp2.get_viewer().show()"
   ]
  },
  {
   "cell_type": "code",
   "execution_count": null,
   "metadata": {
    "collapsed": false
   },
   "outputs": [],
   "source": [
    "import lsst.afw.cameraGeom.utils as cgUtils\n",
    "\n",
    "disp.mtv(raw, title='Raw dark 7291')\n",
    "disp.scale('linear', 'zscale')\n",
    "\n",
    "cgUtils.overlayCcdBoxes(raw.getDetector(), raw.getBBox(), nQuarter=0, isTrimmed=False,\n",
    "                        ccdOrigin=afwGeom.PointI(0,0), display=disp, binSize=1)\n",
    "disp.get_viewer().show()"
   ]
  },
  {
   "cell_type": "code",
   "execution_count": null,
   "metadata": {
    "collapsed": false
   },
   "outputs": [],
   "source": [
    "visit = 7291 if True else 4\n",
    "raw = butler.get(\"raw\", dataId, visit=visit)\n",
    "disp2.mtv(raw, title=\"dark\" if visit == 7291 else \"arc\")\n",
    "\n",
    "print \"%.1fs\" % (raw.getCalib().getExptime())\n",
    "disp2.get_viewer().show()"
   ]
  },
  {
   "cell_type": "markdown",
   "metadata": {},
   "source": [
    "### Look at 2-D Outputs"
   ]
  },
  {
   "cell_type": "code",
   "execution_count": null,
   "metadata": {
    "collapsed": false
   },
   "outputs": [],
   "source": [
    "import lsst.afw.math as afwMath\n",
    "import lsst.afw.display.utils as afwDisplayUtils\n",
    "\n",
    "spot = exp[1967:1997, 2254:2284].getMaskedImage().getImage()\n",
    "spot1 = afwMath.offsetImage(spot, 0.5, 0)\n",
    "spot2 = afwMath.offsetImage(spot1, -0.5, 0)\n",
    "spot2 -= spot\n",
    "m = afwDisplayUtils.Mosaic()\n",
    "#m.makeMosaic([spot, spot1, spot2]) # , display=disp)\n",
    "disp.mtv(spot2)\n",
    "disp.scale('linear', 'minmax')\n",
    "#disp.get_viewer().show()"
   ]
  },
  {
   "cell_type": "code",
   "execution_count": null,
   "metadata": {
    "collapsed": false
   },
   "outputs": [],
   "source": [
    "pfsArm = butler.get(\"pfsArm\", dataId)\n",
    "if False:\n",
    "    dateObs = butler.queryMetadata('raw', 'dateObs', dataId)[0]\n",
    "\n",
    "    pfsArm.pfsConfig = butler.get(\"pfsConfig\", dataId,\n",
    "                                  pfsConfigId=pfsArm.pfsConfigId, dateObs=dateObs)\n",
    "    pfsArm.checkPfsConfig()\n",
    "\n",
    "pfsArm.plot()"
   ]
  },
  {
   "cell_type": "code",
   "execution_count": null,
   "metadata": {
    "collapsed": false
   },
   "outputs": [],
   "source": [
    "for fid in range(1, len(pfsArm.flux[:, 0]) + 1):\n",
    "    if fid == 11:\n",
    "        pfsArm.plot(fid, showFlux=True, showPlot=False)\n",
    "plt.xlim(600, 1000)\n",
    "#plt.ylim(-10, 10000)\n",
    "if figDir:\n",
    "    plt.savefig(os.path.join(figDir, \"arc-4-extracted.png\"))\n",
    "plt.show()"
   ]
  },
  {
   "cell_type": "code",
   "execution_count": null,
   "metadata": {
    "collapsed": false,
    "scrolled": false
   },
   "outputs": [],
   "source": [
    "for i in range(len(pfsArm.flux[:, 0])):\n",
    "    plt.plot(pfsArm.lam[i], pfsArm.flux[i], label=str(i + 1))\n",
    "plt.xlim(856 - 10, 858 + 10)\n",
    "plt.xlabel(r\"$\\lambda (nm)$\")\n",
    "plt.ylim(-10, 5000)\n",
    "plt.legend(loc='upper right')\n",
    "if figDir:\n",
    "    plt.savefig(figDir, \"arc-4-extracted-detail.png\")\n",
    "plt.show()"
   ]
  },
  {
   "cell_type": "markdown",
   "metadata": {},
   "source": [
    "### Look at defects"
   ]
  },
  {
   "cell_type": "code",
   "execution_count": null,
   "metadata": {
    "collapsed": false
   },
   "outputs": [],
   "source": [
    "dataId = dict(visit=4, arm=\"r\", spectrograph=2)\n",
    "calexp = butler.get(\"postISRCCD\", dataId, visit=4)\n",
    "\n",
    "disp.mtv(calexp, title=\"calexp\")\n",
    "disp.scale('linear', 'zscale')"
   ]
  },
  {
   "cell_type": "code",
   "execution_count": null,
   "metadata": {
    "collapsed": false
   },
   "outputs": [],
   "source": [
    "import lsst.afw.detection as afwDetect\n",
    "import lsst.afw.display.utils as afwDisplayUtils\n",
    "\n",
    "defects = afwDetect.FootprintSet(calexp.getMaskedImage().getMask(), \n",
    "                                 afwDetect.Threshold(afwDetect.Threshold.BITMASK)).getFootprints()\n",
    "\n",
    "disp.erase()\n",
    "with disp.Buffering():\n",
    "    for d in butler.get(\"defects\", dataId):\n",
    "        afwDisplayUtils.drawBBox(d.getBBox(), display=disp,\n",
    "                                 ctype=afwDisplay.GREEN, borderWidth=0.5)"
   ]
  },
  {
   "cell_type": "code",
   "execution_count": null,
   "metadata": {
    "collapsed": false
   },
   "outputs": [],
   "source": [
    "raw = butler.get(\"raw\", dataId, visit=4).convertF()\n",
    "for a in raw.getDetector():\n",
    "    mi = raw.getMaskedImage()\n",
    "    overscanImage = mi[a.getRawHorizontalOverscanBBox()]\n",
    "    mi[a.getRawBBox()].getImage()[:] -= np.median(overscanImage.getImage().getArray())\n",
    "    \n",
    "if True:\n",
    "    disp.mtv(raw, title=\"raw\")\n",
    "else:\n",
    "    disp.erase()\n",
    "disp.scale('linear', 'zscale')\n",
    "\n",
    "import lsst.afw.cameraGeom.utils as cgUtils\n",
    "\n",
    "cgUtils.overlayCcdBoxes(raw.getDetector(), raw.getBBox(), nQuarter=0, isTrimmed=False,\n",
    "                        ccdOrigin=afwGeom.PointI(0,0), display=disp, binSize=1)\n",
    "\n",
    "with disp.Buffering():\n",
    "    for a in raw.getDetector():\n",
    "        delta = a.getBBox().getMin() - a.getRawBBox().getMin()\n",
    "        for d in butler.get(\"defects\", dataId):\n",
    "            if a.getBBox().contains(d.getBBox()):\n",
    "                afwDisplayUtils.drawBBox(d.getBBox(), display=disp, origin=delta,\n",
    "                                         ctype=afwDisplay.GREEN, borderWidth=0.5)"
   ]
  },
  {
   "cell_type": "code",
   "execution_count": null,
   "metadata": {
    "collapsed": false
   },
   "outputs": [],
   "source": [
    "disp.get_viewer().show()"
   ]
  },
  {
   "cell_type": "code",
   "execution_count": null,
   "metadata": {
    "collapsed": false
   },
   "outputs": [],
   "source": [
    "import lsst.afw.coord as afwCoord\n",
    "afwImage.makeWcs(afwCoord.Coord(afwGeom.PointD(0, 0), afwGeom.degrees), afwGeom.PointD(0, 0), 1, 0, 0, 1)"
   ]
  }
 ],
 "metadata": {
  "kernelspec": {
   "display_name": "Python 2",
   "language": "python",
   "name": "python2"
  },
  "language_info": {
   "codemirror_mode": {
    "name": "ipython",
    "version": 2
   },
   "file_extension": ".py",
   "mimetype": "text/x-python",
   "name": "python",
   "nbconvert_exporter": "python",
   "pygments_lexer": "ipython2",
   "version": "2.7.11"
  }
 },
 "nbformat": 4,
 "nbformat_minor": 0
}

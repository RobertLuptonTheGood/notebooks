{
 "cells": [
  {
   "cell_type": "markdown",
   "metadata": {},
   "source": [
    "### Display a mosaic of the LSST camera"
   ]
  },
  {
   "cell_type": "code",
   "execution_count": null,
   "metadata": {},
   "outputs": [],
   "source": [
    "import os\n",
    "import numpy as np\n",
    "import lsst.daf.persistence as dafPersist\n",
    "import lsst.afw.cameraGeom.utils as cameraGeomUtils\n",
    "import lsst.afw.display as afwDisplay\n",
    "import matplotlib.pyplot as plt   # Not needed for image displays, but used for analysis\n",
    "\n",
    "%matplotlib ipympl\n",
    "%config InlineBackend.figure_format = 'retina'\n",
    "plt.rcParams['figure.figsize'] = (10, 7)"
   ]
  },
  {
   "cell_type": "code",
   "execution_count": null,
   "metadata": {},
   "outputs": [],
   "source": [
    "afwDisplay.setDefaultBackend(\"matplotlib\")"
   ]
  },
  {
   "cell_type": "code",
   "execution_count": null,
   "metadata": {},
   "outputs": [],
   "source": [
    "dataRoot = \"/project/shared/BOT\"\n",
    "calibRoot=os.path.join(dataRoot, \"rerun/rhl\", \"CALIB-6813D\")\n",
    "\n",
    "butler = dafPersist.Butler(dataRoot, calibRoot=calibRoot)\n",
    "\n",
    "camera = butler.get(\"camera\")\n",
    "\n",
    "dataId = dict(run='12526')"
   ]
  },
  {
   "cell_type": "markdown",
   "metadata": {},
   "source": [
    "It'll be easier to see if we correct for the gains.\n",
    "\n",
    "To do this, we'll define a custom callback:"
   ]
  },
  {
   "cell_type": "code",
   "execution_count": null,
   "metadata": {},
   "outputs": [],
   "source": [
    "def myCallback(im, ccd, imageSource):\n",
    "    \"\"\"Assemble the CCD image, subtracting the overscan correcting for the gain\"\"\"\n",
    "\n",
    "    return cameraGeomUtils.rawCallback(im, ccd, imageSource,\n",
    "                                       subtractBias=True, correctGain=False)"
   ]
  },
  {
   "cell_type": "code",
   "execution_count": null,
   "metadata": {},
   "outputs": [],
   "source": [
    "disp = afwDisplay.Display(1, reopenPlot=True)\n",
    "\n",
    "\n",
    "disp.scale('asinh', 'zscale', Q=2)\n",
    "disp.setImageColormap('viridis' if True else 'gray')\n",
    "\n",
    "#\n",
    "# Set detectorNameList to only display a subset of the detectors\n",
    "#\n",
    "if False:   # just a single raft\n",
    "    detectorNameList = [det.getName() for det in camera if \"R22\" in det.getName()]\n",
    "else:\n",
    "    detectorNameList = None\n",
    "\n",
    "dataType = \"raw\"\n",
    "seqNum = 32\n",
    "mos = cameraGeomUtils.showCamera(camera,\n",
    "                                 cameraGeomUtils.ButlerImage(butler, dataType, run=dataId[\"run\"], seqNum=seqNum,\n",
    "                                                             callback=myCallback, verbose=True),\n",
    "                                 binSize=16, detectorNameList=detectorNameList, display=disp, overlay=False,\n",
    "                                 title=f'{dataId[\"run\"]} {seqNum}')"
   ]
  },
  {
   "cell_type": "code",
   "execution_count": null,
   "metadata": {},
   "outputs": [],
   "source": [
    "#plt.savefig(\"BOT-Flammarion.png\")"
   ]
  },
  {
   "cell_type": "code",
   "execution_count": null,
   "metadata": {},
   "outputs": [],
   "source": [
    "disp = afwDisplay.Display(1, reopenPlot=True)\n",
    "disp.setImageColormap('viridis' if False else 'gray')\n",
    "\n",
    "disp.scale('asinh', 'zscale', Q=2)\n",
    "\n",
    "disp.mtv(mos)\n",
    "plt.title(f'{dataId[\"run\"]} {seqNum}');"
   ]
  }
 ],
 "metadata": {
  "kernelspec": {
   "display_name": "LSST",
   "language": "python",
   "name": "lsst"
  },
  "language_info": {
   "codemirror_mode": {
    "name": "ipython",
    "version": 3
   },
   "file_extension": ".py",
   "mimetype": "text/x-python",
   "name": "python",
   "nbconvert_exporter": "python",
   "pygments_lexer": "ipython3",
   "version": "3.7.8"
  }
 },
 "nbformat": 4,
 "nbformat_minor": 4
}

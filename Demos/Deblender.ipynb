{
 "cells": [
  {
   "cell_type": "code",
   "execution_count": 1,
   "metadata": {
    "collapsed": false
   },
   "outputs": [],
   "source": [
    "import lsst.daf.persistence as dafPersist\n",
    "import lsst.analysis.deblender as deblender\n",
    "import lsst.afw.display as afwDisplay\n",
    "\n",
    "disp1  = afwDisplay.Display(1)\n",
    "disp2 = afwDisplay.Display(2)\n",
    "\n",
    "%matplotlib inline\n",
    "import matplotlib.pyplot as plt\n",
    "plt.rcParams['figure.figsize'] = (13, 8)"
   ]
  },
  {
   "cell_type": "code",
   "execution_count": 2,
   "metadata": {
    "collapsed": false
   },
   "outputs": [],
   "source": [
    "dataPath = \"/Volumes/RHLData/hsc-v13_0\"\n",
    "\n",
    "butler = dafPersist.Butler(dataPath)\n",
    "skymap = butler.get(\"deepCoadd_skyMap\")"
   ]
  },
  {
   "cell_type": "markdown",
   "metadata": {},
   "source": [
    "### Read some data"
   ]
  },
  {
   "cell_type": "code",
   "execution_count": 3,
   "metadata": {
    "collapsed": false
   },
   "outputs": [],
   "source": [
    "if True:\n",
    "    dataId = dict(tract=8766, patch='2,1', filter='HSC-I')\n",
    "else:\n",
    "    dataId = dict(tract=9348, patch='7,6', filter='HSC-I')\n",
    "\n",
    "coadd = butler.get(\"deepCoadd_calexp\", dataId, immediate=True)\n",
    "\n",
    "ss = butler.get('deepCoadd_meas', dataId)\n",
    "families = deblender.Families(ss, butler, nChildMin=0)\n",
    "\n",
    "nameNchild = \"deblend_nChild\"                # Old HSC v. LSST convention\n",
    "if nameNchild not in ss.getSchema().extract(\"*\").keys():\n",
    "    nameNchild = \"deblend_nchild\"\n",
    "\n",
    "assert ss.getSchema().find(nameNchild) is not None"
   ]
  },
  {
   "cell_type": "markdown",
   "metadata": {},
   "source": [
    "### Display it"
   ]
  },
  {
   "cell_type": "code",
   "execution_count": 4,
   "metadata": {
    "collapsed": false
   },
   "outputs": [],
   "source": [
    "disp1.mtv(coadd, title=\"%(tract)s %(patch)s\" % dataId)\n",
    "\n",
    "with disp1.Buffering():\n",
    "    for s in ss:\n",
    "        disp1.dot('+' if s[nameNchild] > 0 else 'x',\n",
    "                  *s.getCentroid(), size=3, ctype=afwDisplay.RED)"
   ]
  },
  {
   "cell_type": "markdown",
   "metadata": {},
   "source": [
    "### You only need to set these dicts to make 'r' work as a callback to show RGB images of blends"
   ]
  },
  {
   "cell_type": "code",
   "execution_count": 5,
   "metadata": {
    "collapsed": false
   },
   "outputs": [],
   "source": [
    "deblender = reload(deblender)\n",
    "for bandName in \"GRI\":\n",
    "    filterName = \"HSC-%s\" % bandName.upper()\n",
    "    \n",
    "    deblender.coaddDict[filterName] = butler.get(\"deepCoadd_calexp\", dataId, filter=filterName)\n",
    "    sources = butler.get('deepCoadd_meas', dataId, filter=filterName)\n",
    "    deblender.familiesDict[filterName] = deblender.Families(sources, butler, nChildMin=0)"
   ]
  },
  {
   "cell_type": "markdown",
   "metadata": {},
   "source": [
    "### Show the deblended families\n",
    "\n",
    "Put us into a loop waiting on the display.  Sigh.\n",
    "\n",
    "Live keys in display window:\n",
    "-  d on an object in frame frame to show the children in display\n",
    "-  l  Toggle various useful stretches for the children\n",
    "-  r  Display RGB mosaic of children in notebook (you must have run previous cell)\n",
    "-  1 2 3 4  Zoom levels for children\n",
    "-  q to quit the interactive loop"
   ]
  },
  {
   "cell_type": "code",
   "execution_count": 9,
   "metadata": {
    "collapsed": false,
    "scrolled": false
   },
   "outputs": [
    {
     "data": {
      "image/png": "[encoded data removed]",
      "text/plain": [
       "<matplotlib.figure.Figure at 0x15ff1e0d0>"
      ]
     },
     "metadata": {},
     "output_type": "display_data"
    }
   ],
   "source": [
    "deblender.showBlend(coadd, families, display=disp2, imageDisplay=disp1)"
   ]
  },
  {
   "cell_type": "markdown",
   "metadata": {},
   "source": [
    "### Here's how to take ra, dec and get (tract, patch)"
   ]
  },
  {
   "cell_type": "code",
   "execution_count": 10,
   "metadata": {
    "collapsed": false
   },
   "outputs": [
    {
     "name": "stdout",
     "output_type": "stream",
     "text": [
      "8766 2,1\n"
     ]
    }
   ],
   "source": [
    "import lsst.afw.geom as afwGeom\n",
    "import lsst.afw.coord as afwCoord\n",
    "\n",
    "def decimalRaDec(raStr, decStr):\n",
    "    \"\"\"Convert ra, dec as strings to decimals.\n",
    "    A leading sign for the dec field is optional\n",
    "\n",
    "    E.g. decimalRaDec(\"09:59:21.76\", \"+02:06:38.4\")\n",
    "    \"\"\"\n",
    "    ra, dec = raStr.split(':'), decStr.split(':')\n",
    "    if dec[0][0] in \"-+\":\n",
    "        decSign = +1 if dec[0][0] == '+' else -1\n",
    "        dec[0] = dec[0][1:]\n",
    "    else:\n",
    "        decSign = +1\n",
    "\n",
    "    d, m, s = [float(_) for _ in dec]\n",
    "    dec = decSign*(d + (m + s/60.0)/60.0)\n",
    "\n",
    "    h, m, s = [float(_) for _ in ra]\n",
    "    ra = 15*(h + (m + s/60.0)/60.0)\n",
    "\n",
    "    return ra, dec\n",
    "\n",
    "ra, dec = \"02:24:16.42\", \"-04:16:41.88\"\n",
    "ra, dec = decimalRaDec(ra, dec)\n",
    "    \n",
    "raDec = afwCoord.Coord(ra*afwGeom.degrees, dec*afwGeom.degrees)\n",
    "tractInfo, patchInfo = skymap.findClosestTractPatchList([raDec])[0]\n",
    "\n",
    "dataId = dict(tract = tractInfo.getId(),\n",
    "              patch = \"%d,%d\" % patchInfo[0].getIndex(),\n",
    "              filter='HSC-Z')\n",
    "\n",
    "print dataId[\"tract\"], dataId[\"patch\"]"
   ]
  },
  {
   "cell_type": "markdown",
   "metadata": {},
   "source": [
    "### Playground"
   ]
  }
 ],
 "metadata": {
  "anaconda-cloud": {},
  "kernelspec": {
   "display_name": "Python [default]",
   "language": "python",
   "name": "python2"
  },
  "language_info": {
   "codemirror_mode": {
    "name": "ipython",
    "version": 2
   },
   "file_extension": ".py",
   "mimetype": "text/x-python",
   "name": "python",
   "nbconvert_exporter": "python",
   "pygments_lexer": "ipython2",
   "version": "2.7.12"
  }
 },
 "nbformat": 4,
 "nbformat_minor": 0
}

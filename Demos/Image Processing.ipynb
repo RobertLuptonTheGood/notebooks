{
 "cells": [
  {
   "cell_type": "code",
   "execution_count": 1,
   "metadata": {
    "collapsed": false
   },
   "outputs": [],
   "source": [
    "import numpy as np\n",
    "\n",
    "%matplotlib ipympl\n",
    "import matplotlib.pyplot as plt"
   ]
  },
  {
   "cell_type": "markdown",
   "metadata": {},
   "source": [
    "I don't understand why you need to run this command twice to get an interactive matplotlib display"
   ]
  },
  {
   "cell_type": "code",
   "execution_count": 2,
   "metadata": {},
   "outputs": [],
   "source": [
    "%matplotlib ipympl"
   ]
  },
  {
   "cell_type": "code",
   "execution_count": 3,
   "metadata": {
    "collapsed": true
   },
   "outputs": [],
   "source": [
    "import lsst.daf.persistence        as dafPersist\n",
    "import lsst.pex.exceptions         as pexExcept\n",
    "\n",
    "import lsst.afw.display            as afwDisplay\n",
    "import lsst.daf.base               as dafBase\n",
    "\n",
    "import lsst.afw.image              as afwImage\n",
    "import lsst.afw.geom               as afwGeom\n",
    "import lsst.afw.table              as afwTable\n",
    "\n",
    "import lsst.meas.algorithms        as measAlg"
   ]
  },
  {
   "cell_type": "markdown",
   "metadata": {},
   "source": [
    "#### Load the high-level \"tasks\" that process the pixels"
   ]
  },
  {
   "cell_type": "code",
   "execution_count": 4,
   "metadata": {
    "collapsed": true
   },
   "outputs": [],
   "source": [
    "from lsst.pipe.tasks.characterizeImage import CharacterizeImageTask\n",
    "from lsst.meas.algorithms.detection    import SourceDetectionTask\n",
    "from lsst.meas.deblender               import SourceDeblendTask\n",
    "from lsst.meas.base                    import SingleFrameMeasurementTask"
   ]
  },
  {
   "cell_type": "markdown",
   "metadata": {},
   "source": [
    "#### Setup the displays (by default an interface to ds9)"
   ]
  },
  {
   "cell_type": "code",
   "execution_count": null,
   "metadata": {
    "collapsed": true
   },
   "outputs": [],
   "source": [
    "afwDisplay.setDefaultBackend(\"matplotlib\")"
   ]
  },
  {
   "cell_type": "markdown",
   "metadata": {},
   "source": [
    "## Create the tasks"
   ]
  },
  {
   "cell_type": "code",
   "execution_count": null,
   "metadata": {
    "collapsed": false
   },
   "outputs": [],
   "source": [
    "schema = afwTable.SourceTable.makeMinimalSchema()\n",
    "algMetadata = dafBase.PropertyList()\n",
    "\n",
    "config = CharacterizeImageTask.ConfigClass()\n",
    "config.psfIterations = 1\n",
    "charImageTask =         CharacterizeImageTask(None, config=config)\n",
    "\n",
    "sourceDetectionTask =   SourceDetectionTask(schema=schema)\n",
    "\n",
    "sourceDeblendTask =     SourceDeblendTask(schema=schema)\n",
    "\n",
    "if False:\n",
    "    sourceMeasurementTask = SingleFrameMeasurementTask(schema=schema,\n",
    "                                                       algMetadata=algMetadata)\n",
    "else:\n",
    "    config = SingleFrameMeasurementTask.ConfigClass()\n",
    "    config.slots.apFlux = 'base_CircularApertureFlux_12_0'\n",
    "    \n",
    "    if True:    # Warning:  this takes too long -- be prepared to wait when running sourceMeasurementTask\n",
    "        import lsst.meas.modelfit\n",
    "        config.plugins.names |= [\"modelfit_DoubleShapeletPsfApprox\", \"modelfit_CModel\"]\n",
    "        config.slots.modelFlux = 'modelfit_CModel'\n",
    "        #config.catalogCalculation.plugins['base_ClassificationExtendedness'].fluxRatio = 0.985\n",
    "        \n",
    "    sourceMeasurementTask = SingleFrameMeasurementTask(schema=schema, config=config,\n",
    "                                                       algMetadata=algMetadata)"
   ]
  },
  {
   "cell_type": "markdown",
   "metadata": {},
   "source": [
    "## Time to process some data"
   ]
  },
  {
   "cell_type": "markdown",
   "metadata": {},
   "source": [
    "#### Read the input data"
   ]
  },
  {
   "cell_type": "code",
   "execution_count": null,
   "metadata": {
    "collapsed": true
   },
   "outputs": [],
   "source": [
    "butler = dafPersist.Butler(\"/datasets/hsc/repo/rerun/RC/w_2019_18/DM-19151\")"
   ]
  },
  {
   "cell_type": "code",
   "execution_count": null,
   "metadata": {
    "collapsed": true
   },
   "outputs": [],
   "source": [
    "dataId = dict(visit=1232, ccd=51)\n",
    "exposure = butler.get('calexp', dataId)"
   ]
  },
  {
   "cell_type": "code",
   "execution_count": null,
   "metadata": {},
   "outputs": [
    {
     "data": {
      "application/vnd.jupyter.widget-view+json": {
       "model_id": "3f9a738556414428b33f8485c6600c30",
       "version_major": 2,
       "version_minor": 0
      },
      "text/plain": [
       "FigureCanvasNbAgg()"
      ]
     },
     "metadata": {},
     "output_type": "display_data"
    }
   ],
   "source": [
    "disp = afwDisplay.Display(reopenPlot=True, fastMaskDisplay=True)\n",
    "\n",
    "disp.scale('asinh', -20, 30, Q=8)\n",
    "disp.mtv(exposure, title=dataId)\n",
    "\n",
    "disp.zoom(8, 500, 1500);"
   ]
  },
  {
   "cell_type": "markdown",
   "metadata": {},
   "source": [
    "#### Create the output table"
   ]
  },
  {
   "cell_type": "code",
   "execution_count": null,
   "metadata": {
    "collapsed": true
   },
   "outputs": [],
   "source": [
    "tab = afwTable.SourceTable.make(schema)"
   ]
  },
  {
   "cell_type": "markdown",
   "metadata": {},
   "source": [
    "### Process the pixels\n",
    "\n",
    "##### Characterise the exposure (e.g. estimate the PSF)"
   ]
  },
  {
   "cell_type": "code",
   "execution_count": null,
   "metadata": {
    "collapsed": false
   },
   "outputs": [],
   "source": [
    "result = charImageTask.run(exposure)"
   ]
  },
  {
   "cell_type": "markdown",
   "metadata": {},
   "source": [
    "##### Detect objects (`sources')"
   ]
  },
  {
   "cell_type": "code",
   "execution_count": null,
   "metadata": {
    "collapsed": false
   },
   "outputs": [],
   "source": [
    "result = sourceDetectionTask.run(tab, exposure)\n",
    "sources = result.sources"
   ]
  },
  {
   "cell_type": "markdown",
   "metadata": {},
   "source": [
    "##### Deblend overlapping objects"
   ]
  },
  {
   "cell_type": "code",
   "execution_count": null,
   "metadata": {
    "collapsed": false
   },
   "outputs": [],
   "source": [
    "sourceDeblendTask.run(exposure, sources)"
   ]
  },
  {
   "cell_type": "markdown",
   "metadata": {},
   "source": [
    "##### Measure the objects' properties"
   ]
  },
  {
   "cell_type": "code",
   "execution_count": null,
   "metadata": {
    "collapsed": false
   },
   "outputs": [],
   "source": [
    "sourceMeasurementTask.run(sources, exposure)"
   ]
  },
  {
   "cell_type": "markdown",
   "metadata": {},
   "source": [
    "#### Write the results to a FITS file (if desired)"
   ]
  },
  {
   "cell_type": "code",
   "execution_count": null,
   "metadata": {
    "collapsed": true
   },
   "outputs": [],
   "source": [
    "if False:\n",
    "    fitsTableFile = \"outputTable.fits\"\n",
    "    sources.writeFits(fitsTableFile)\n",
    "\n",
    "    exposure.writeFits(\"example1-out.fits\")\n",
    "else:\n",
    "    fitsTableFile = None"
   ]
  },
  {
   "cell_type": "markdown",
   "metadata": {},
   "source": [
    "## OK, we've finished the image processing."
   ]
  },
  {
   "cell_type": "markdown",
   "metadata": {},
   "source": [
    "We have our list of sources, but it's not currently continuous in memory"
   ]
  },
  {
   "cell_type": "code",
   "execution_count": null,
   "metadata": {
    "collapsed": false
   },
   "outputs": [],
   "source": [
    "try:\n",
    "    sources.get(\"id\")\n",
    "except Exception as e:\n",
    "    print(e)"
   ]
  },
  {
   "cell_type": "markdown",
   "metadata": {},
   "source": [
    "We can fix this with a deep copy"
   ]
  },
  {
   "cell_type": "code",
   "execution_count": null,
   "metadata": {
    "collapsed": false
   },
   "outputs": [],
   "source": [
    "sources = sources.copy(True)"
   ]
  },
  {
   "cell_type": "raw",
   "metadata": {},
   "source": [
    "An alternative would have been to read the data back from disk"
   ]
  },
  {
   "cell_type": "code",
   "execution_count": null,
   "metadata": {
    "collapsed": false
   },
   "outputs": [],
   "source": [
    "if fitsTableFile is not None:\n",
    "    sources = afwTable.SourceCatalog.readFits(fitsTableFile)"
   ]
  },
  {
   "cell_type": "markdown",
   "metadata": {},
   "source": [
    "## Look at the results"
   ]
  },
  {
   "cell_type": "code",
   "execution_count": null,
   "metadata": {
    "collapsed": true
   },
   "outputs": [],
   "source": [
    "import lsst.afw.display.utils as afwDisplayUtils"
   ]
  },
  {
   "cell_type": "markdown",
   "metadata": {},
   "source": [
    "Define a boolean array that tells us which objects are 'good'; in this case:\n",
    " - No saturated pixels near their centres\n",
    " - terminal objects that haven't been further deblended"
   ]
  },
  {
   "cell_type": "code",
   "execution_count": null,
   "metadata": {
    "collapsed": true
   },
   "outputs": [],
   "source": [
    "good = np.logical_and.reduce([sources.get('base_PixelFlags_flag_interpolatedCenter') == 0,\n",
    "                              sources.get(\"deblend_nChild\") == 0,\n",
    "                              ])"
   ]
  },
  {
   "cell_type": "markdown",
   "metadata": {},
   "source": [
    "#### Look at how well the aperture photometry agrees with the PSF measurements"
   ]
  },
  {
   "cell_type": "code",
   "execution_count": null,
   "metadata": {
    "collapsed": false
   },
   "outputs": [],
   "source": [
    "if False:\n",
    "    apMag = exposure.getPhotoCalib().instFluxToMagnitude(sources, 'base_CircularApertureFlux_12_0')\n",
    "else:\n",
    "    apMag = exposure.getPhotoCalib().instFluxToMagnitude(sources, 'slot_ApFlux')\n",
    "  \n",
    "try:\n",
    "    modelMag = exposure.getPhotoCalib().instFluxToMagnitude(sources, 'modelfit_CModel')\n",
    "except pexExcept.NotFoundError:\n",
    "    modelMag = None\n",
    "\n",
    "psfMag = exposure.getPhotoCalib().instFluxToMagnitude(sources, 'slot_PsfFlux')\n",
    "\n",
    "if False or modelMag is None:\n",
    "    mag1, str1 = apMag, \"ap\"\n",
    "else:\n",
    "    mag1, str1 = modelMag, \"model\"\n",
    "mag2, str2 = psfMag, \"psf\"\n",
    "\n",
    "plt.close(1); plt.figure(1)\n",
    "plt.plot(mag1[good], (mag2 - mag1)[good], 'o')\n",
    "\n",
    "plt.axhline(0.0, ls=':', color='black')\n",
    "plt.xlim(14, 24.5)\n",
    "plt.ylim(-0.2, 0.8)\n",
    "\n",
    "plt.xlabel(str1)\n",
    "plt.ylabel(f\"{str2} - {str1}\")\n",
    "\n",
    "plt.show()"
   ]
  },
  {
   "cell_type": "markdown",
   "metadata": {},
   "source": [
    "This doesn't look like modern CCD data as there's no brighter-fatter effect.  That's because we corrected it at the pixel level as part of the instrumental signature effect."
   ]
  },
  {
   "cell_type": "markdown",
   "metadata": {},
   "source": [
    "## What photometry is available?"
   ]
  },
  {
   "cell_type": "code",
   "execution_count": null,
   "metadata": {},
   "outputs": [],
   "source": [
    "for k in sources.getSchema().extract(\"*_instFlux\").keys():\n",
    "    if \"slot\" not in k and \"Blendedness\" not in k:\n",
    "        print(k)"
   ]
  },
  {
   "cell_type": "code",
   "execution_count": null,
   "metadata": {
    "collapsed": false
   },
   "outputs": [],
   "source": [
    "disp2 = afwDisplay.Display(2, reopenPlot=True)\n",
    "\n",
    "disp2.setMaskPlaneColor(\"CROSSTALK\", afwDisplay.IGNORE)   # I don't care about crosstalk-corrected pixels\n",
    "\n",
    "disp2.scale('asinh', 'zscale', Q=4)\n",
    "disp2.mtv(exposure, title='post calib')"
   ]
  },
  {
   "cell_type": "markdown",
   "metadata": {},
   "source": [
    "##### Overlay something about the measurements"
   ]
  },
  {
   "cell_type": "code",
   "execution_count": null,
   "metadata": {
    "collapsed": false
   },
   "outputs": [],
   "source": [
    "disp2.erase()\n",
    "with disp2.Buffering():\n",
    "    for s in sources[good]:\n",
    "        disp2.dot('+', *s.getCentroid(),\n",
    "                  ctype=afwDisplay.GREEN if s.get(\"parent\") == 0 else afwDisplay.CYAN)"
   ]
  },
  {
   "cell_type": "code",
   "execution_count": null,
   "metadata": {
    "collapsed": true
   },
   "outputs": [],
   "source": [
    "if True:\n",
    "    radii = algMetadata.getArray(\"base_CircularApertureFlux_radii\")\n",
    "\n",
    "    with disp2.Buffering():\n",
    "        for s in sources[good]:\n",
    "            if exposure.getPhotoCalib().instFluxToMagnitude(s, 'slot_ApFlux').value < 20.0:\n",
    "                for radius in radii:\n",
    "                    disp2.dot('o', *s.getCentroid(), size=radius, ctype=afwDisplay.YELLOW)"
   ]
  },
  {
   "cell_type": "markdown",
   "metadata": {},
   "source": [
    "### Astropy"
   ]
  },
  {
   "cell_type": "code",
   "execution_count": null,
   "metadata": {
    "collapsed": false
   },
   "outputs": [],
   "source": [
    "sources[good].copy(deep=True).asAstropy()"
   ]
  }
 ],
 "metadata": {
  "anaconda-cloud": {},
  "kernelspec": {
   "display_name": "LSST",
   "language": "python",
   "name": "lsst"
  },
  "language_info": {
   "codemirror_mode": {
    "name": "ipython",
    "version": 3
   },
   "file_extension": ".py",
   "mimetype": "text/x-python",
   "name": "python",
   "nbconvert_exporter": "python",
   "pygments_lexer": "ipython3",
   "version": "3.7.2"
  }
 },
 "nbformat": 4,
 "nbformat_minor": 2
}

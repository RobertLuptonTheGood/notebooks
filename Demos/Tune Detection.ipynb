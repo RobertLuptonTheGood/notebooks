{
 "cells": [
  {
   "cell_type": "code",
   "execution_count": 1,
   "metadata": {
    "collapsed": false
   },
   "outputs": [],
   "source": [
    "import numpy as np\n",
    "\n",
    "%matplotlib inline\n",
    "import matplotlib.pyplot as plt"
   ]
  },
  {
   "cell_type": "code",
   "execution_count": 7,
   "metadata": {
    "collapsed": true
   },
   "outputs": [],
   "source": [
    "import lsst.daf.persistence        as dafPersist\n",
    "import lsst.afw.display            as afwDisplay\n",
    "import lsst.afw.table              as afwTable\n",
    "\n",
    "from lsst.pipe.tasks.characterizeImage import CharacterizeImageTask\n",
    "from lsst.pipe.tasks.calibrate         import CalibrateTask\n",
    "from lsst.meas.algorithms.detection    import SourceDetectionTask\n",
    "from lsst.meas.deblender               import SourceDeblendTask\n",
    "from lsst.meas.base                    import SingleFrameMeasurementTask"
   ]
  },
  {
   "cell_type": "code",
   "execution_count": 3,
   "metadata": {
    "collapsed": true
   },
   "outputs": [],
   "source": [
    "disp  = afwDisplay.Display(1)"
   ]
  },
  {
   "cell_type": "markdown",
   "metadata": {},
   "source": [
    "## Create the tasks"
   ]
  },
  {
   "cell_type": "code",
   "execution_count": 5,
   "metadata": {
    "collapsed": false
   },
   "outputs": [
    {
     "name": "stdout",
     "output_type": "stream",
     "text": [
      "SourceDetectionTask.thresholdType: specifies the desired flavor of Threshold\n",
      "Allowed values:\n",
      "\tpixel_stdev\tthreshold applied to per-pixel std deviation\n",
      "\tvariance\tthreshold applied to image variance\n",
      "\tvalue\tthreshold applied to image value\n",
      "\tstdev\tthreshold applied to image std deviation\n",
      "\n"
     ]
    }
   ],
   "source": [
    "schema = afwTable.SourceTable.makeMinimalSchema()\n",
    "algMetadata = dafBase.PropertyList()\n",
    "\n",
    "config = CharacterizeImageTask.ConfigClass()\n",
    "config.psfIterations = 1\n",
    "charImageTask =         CharacterizeImageTask(None, config=config)\n",
    "\n",
    "config = SourceDetectionTask.ConfigClass()\n",
    "if True:\n",
    "    config.thresholdValue = 30       # detection threshold in units of thresholdType\n",
    "    if True:\n",
    "        print \"SourceDetectionTask.thresholdType: %s\" % (\n",
    "            SourceDetectionTask.ConfigClass.thresholdType.__doc__)\n",
    "    config.thresholdType = \"stdev\"   # units for thresholdValue\n",
    "if False:                    \n",
    "    config.doTempLocalBackground = True  # Use local-background during detection step\n",
    "sourceDetectionTask =   SourceDetectionTask(schema=schema, config=config)\n",
    "\n",
    "sourceDeblendTask =     SourceDeblendTask(schema=schema)\n",
    "\n",
    "config = SingleFrameMeasurementTask.ConfigClass()\n",
    "sourceMeasurementTask = SingleFrameMeasurementTask(schema=schema, config=config,\n",
    "                                                   algMetadata=algMetadata)"
   ]
  },
  {
   "cell_type": "markdown",
   "metadata": {},
   "source": [
    "## Process the data"
   ]
  },
  {
   "cell_type": "code",
   "execution_count": 8,
   "metadata": {
    "collapsed": false
   },
   "outputs": [],
   "source": [
    "butler = dafPersist.Butler(\"/Volumes/RHLData/hsc-v13_0\")"
   ]
  },
  {
   "cell_type": "code",
   "execution_count": 11,
   "metadata": {
    "collapsed": false
   },
   "outputs": [],
   "source": [
    "if False:\n",
    "    dataId = dict(tract=9348, patch='7,6', filter='HSC-I')\n",
    "    exposure = butler.get('deepCoadd_calexp',dataId)\n",
    "else:\n",
    "    dataId = dict(visit=29352, ccd=50)\n",
    "    exposure = butler.get('calexp', dataId)\n",
    "    \n",
    "tab = afwTable.SourceTable.make(schema)\n",
    "\n",
    "result = charImageTask.characterize(exposure)\n",
    "\n",
    "result = sourceDetectionTask.run(tab, exposure)\n",
    "sources = result.sources\n",
    "\n",
    "sourceDeblendTask.run(exposure, sources)\n",
    "\n",
    "sourceMeasurementTask.run(exposure, sources)\n",
    "\n",
    "if False:\n",
    "    sources.writeFits(\"outputTable.fits\")\n",
    "    exposure.writeFits(\"example1-out.fits\")"
   ]
  },
  {
   "cell_type": "markdown",
   "metadata": {},
   "source": [
    "## Look at the results"
   ]
  },
  {
   "cell_type": "code",
   "execution_count": 12,
   "metadata": {
    "collapsed": true
   },
   "outputs": [],
   "source": [
    "sources = sources.copy(True)\n",
    "\n",
    "good = np.logical_and.reduce([sources.get('base_PixelFlags_flag_saturatedCenter') == 0,\n",
    "                              sources.get(\"deblend_nChild\") == 0,\n",
    "                              ])"
   ]
  },
  {
   "cell_type": "code",
   "execution_count": 13,
   "metadata": {
    "collapsed": false
   },
   "outputs": [],
   "source": [
    "if True:\n",
    "    disp.mtv(exposure)\n",
    "else:\n",
    "    disp.erase()\n",
    "    \n",
    "disp.pan(1163, 533); disp.zoom(1)\n",
    "\n",
    "with disp.Buffering():\n",
    "    for s in sources[good]:\n",
    "        disp.dot('+', *s.getCentroid(), ctype=afwDisplay.RED)"
   ]
  }
 ],
 "metadata": {
  "anaconda-cloud": {},
  "kernelspec": {
   "display_name": "Python [default]",
   "language": "python",
   "name": "python2"
  },
  "language_info": {
   "codemirror_mode": {
    "name": "ipython",
    "version": 2
   },
   "file_extension": ".py",
   "mimetype": "text/x-python",
   "name": "python",
   "nbconvert_exporter": "python",
   "pygments_lexer": "ipython2",
   "version": "2.7.12"
  }
 },
 "nbformat": 4,
 "nbformat_minor": 0
}

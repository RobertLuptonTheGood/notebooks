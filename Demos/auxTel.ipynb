{
 "cells": [
  {
   "cell_type": "code",
   "execution_count": 1,
   "metadata": {},
   "outputs": [],
   "source": [
    "import os\n",
    "import numpy as np\n",
    "import matplotlib.pyplot as plt\n",
    "import matplotlib.cm as cm\n",
    "\n",
    "%matplotlib ipympl\n",
    "plt.rcParams['figure.figsize'] = [7, 6]\n",
    "\n",
    "import lsst.daf.persistence as dafPersist\n",
    "import lsst.afw.display as afwDisplay\n",
    "import lsst.afw.cameraGeom as cameraGeom\n",
    "import lsst.afw.cameraGeom.utils as cgUtils\n",
    "import lsst.afw.math as afwMath\n",
    "\n",
    "afwDisplay.setDefaultBackend(\"matplotlib\")   # you may prefer ds9"
   ]
  },
  {
   "cell_type": "code",
   "execution_count": 2,
   "metadata": {},
   "outputs": [],
   "source": [
    "# For some reason we need to run this command twice to get interactive plots\n",
    "%matplotlib ipympl"
   ]
  },
  {
   "cell_type": "markdown",
   "metadata": {},
   "source": [
    "## Create the IsrTask"
   ]
  },
  {
   "cell_type": "code",
   "execution_count": 3,
   "metadata": {},
   "outputs": [],
   "source": [
    "from lsst.ip.isr import IsrTask\n",
    "\n",
    "config = IsrTask.ConfigClass()\n",
    "if False:\n",
    "    config.overscanFitType = \"AKIMA_SPLINE\"\n",
    "    config.overscanOrder = 5\n",
    "else:\n",
    "    config.overscanFitType = \"POLY\"\n",
    "    config.overscanOrder = 3\n",
    "config.doBias = True\n",
    "config.doDark = False\n",
    "config.doFringe = False\n",
    "config.doFlat = False\n",
    "config.doLinearize = False\n",
    "config.doDefect = True\n",
    "config.doAddDistortionModel = False\n",
    "config.doSaturationInterpolation = False\n",
    "config.overscanNumLeadingColumnsToSkip = 20\n",
    "\n",
    "isrTask = IsrTask(config=config)"
   ]
  },
  {
   "cell_type": "code",
   "execution_count": 4,
   "metadata": {
    "scrolled": false
   },
   "outputs": [],
   "source": [
    "rerun = \"rhl/tmp\"\n",
    "\n",
    "repo = os.path.join('/project/shared/auxTel')\n",
    "if rerun:\n",
    "    repo = os.path.join(repo, 'rerun', rerun)\n",
    "\n",
    "butler = dafPersist.Butler(repo)\n",
    "\n",
    "dataId = dict(dayObs=\"2019-03-08\")\n",
    "\n",
    "camera = butler.get('camera')"
   ]
  },
  {
   "cell_type": "code",
   "execution_count": 5,
   "metadata": {},
   "outputs": [
    {
     "name": "stderr",
     "output_type": "stream",
     "text": [
      "Explicit dark time not found, setting dark time to the exposure time.\n",
      "Unable to determine observation type. Guessing 'unknown'\n"
     ]
    },
    {
     "data": {
      "application/vnd.jupyter.widget-view+json": {
       "model_id": "30f0ce224d82411d9423f978847e5399",
       "version_major": 2,
       "version_minor": 0
      },
      "text/plain": [
       "FigureCanvasNbAgg()"
      ]
     },
     "metadata": {},
     "output_type": "display_data"
    }
   ],
   "source": [
    "plt.close('all')\n",
    "\n",
    "seqNum = 170\n",
    "# Read the data\n",
    "exposure = butler.get('raw', dataId, seqNum=seqNum)\n",
    "# Read the calibs if needed (you probably only need do this once)\n",
    "bias = butler.get('bias', dataId, seqNum=seqNum) if isrTask.config.doBias else None\n",
    "visit = butler.queryMetadata('raw', ['visit'], dataId, seqNum=seqNum)[0]  # bug in gen2\n",
    "defects = butler.get('defects', dataId, seqNum=seqNum, visit=visit) if isrTask.config.doDefect else None\n",
    "#\n",
    "# Run ISR\n",
    "#\n",
    "exposure = isrTask.run(exposure, bias=bias, defects=defects).exposure\n",
    "\n",
    "# Display the answer\n",
    "\n",
    "disp = afwDisplay.Display(2, reopenPlot=True)\n",
    "disp.setMaskPlaneColor('SAT', afwDisplay.IGNORE)\n",
    "disp.setImageColormap('gray')\n",
    "disp.scale('asinh', 'zscale')\n",
    "\n",
    "disp.mtv(exposure, title=\"(%s, %s)\" % (dataId[\"dayObs\"], seqNum))\n",
    "\n",
    "cgUtils.overlayCcdBoxes(exposure.getDetector(), isTrimmed=True, display=disp)"
   ]
  },
  {
   "cell_type": "code",
   "execution_count": null,
   "metadata": {},
   "outputs": [],
   "source": []
  }
 ],
 "metadata": {
  "kernelspec": {
   "display_name": "LSST",
   "language": "python",
   "name": "lsst"
  },
  "language_info": {
   "codemirror_mode": {
    "name": "ipython",
    "version": 3
   },
   "file_extension": ".py",
   "mimetype": "text/x-python",
   "name": "python",
   "nbconvert_exporter": "python",
   "pygments_lexer": "ipython3",
   "version": "3.7.2"
  }
 },
 "nbformat": 4,
 "nbformat_minor": 2
}

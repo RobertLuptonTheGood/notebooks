{
 "cells": [
  {
   "cell_type": "code",
   "execution_count": 1,
   "metadata": {
    "collapsed": false
   },
   "outputs": [],
   "source": [
    "import numpy as np\n",
    "\n",
    "%matplotlib inline\n",
    "import matplotlib.pyplot as plt"
   ]
  },
  {
   "cell_type": "code",
   "execution_count": 2,
   "metadata": {
    "collapsed": true
   },
   "outputs": [],
   "source": [
    "import lsst.daf.persistence        as dafPersist\n",
    "\n",
    "import lsst.afw.display            as afwDisplay\n",
    "import lsst.afw.table              as afwTable\n",
    "\n",
    "import lsst.afw.display.utils as afwDisplayUtils\n",
    "import lsst.afw.image.utils as afwImageUtils"
   ]
  },
  {
   "cell_type": "markdown",
   "metadata": {},
   "source": [
    "#### Load the high-level \"tasks\" that process the pixels"
   ]
  },
  {
   "cell_type": "code",
   "execution_count": 3,
   "metadata": {
    "collapsed": true
   },
   "outputs": [],
   "source": [
    "from lsst.pipe.tasks.characterizeImage import CharacterizeImageTask\n",
    "from lsst.pipe.tasks.calibrate         import CalibrateTask\n",
    "from lsst.meas.algorithms.detection    import SourceDetectionTask\n",
    "from lsst.meas.deblender               import SourceDeblendTask\n",
    "from lsst.meas.base                    import SingleFrameMeasurementTask"
   ]
  },
  {
   "cell_type": "markdown",
   "metadata": {},
   "source": [
    "#### Load a version of psfex that implements our Psf object"
   ]
  },
  {
   "cell_type": "code",
   "execution_count": 4,
   "metadata": {
    "collapsed": true
   },
   "outputs": [],
   "source": [
    "import lsst.meas.extensions.psfex.psfexPsfDeterminer"
   ]
  },
  {
   "cell_type": "markdown",
   "metadata": {},
   "source": [
    "#### Setup the displays (by default an interface to ds9)"
   ]
  },
  {
   "cell_type": "code",
   "execution_count": 5,
   "metadata": {
    "collapsed": true
   },
   "outputs": [],
   "source": [
    "disp  = afwDisplay.Display(1)\n",
    "disp2 = afwDisplay.Display(2)"
   ]
  },
  {
   "cell_type": "markdown",
   "metadata": {},
   "source": [
    "## Create the tasks"
   ]
  },
  {
   "cell_type": "code",
   "execution_count": 6,
   "metadata": {
    "collapsed": false
   },
   "outputs": [],
   "source": [
    "schema = afwTable.SourceTable.makeMinimalSchema()\n",
    "algMetadata = dafBase.PropertyList()\n",
    "\n",
    "config = CharacterizeImageTask.ConfigClass()\n",
    "config.psfIterations = 1\n",
    "if False:\n",
    "    config.measurePsf.psfDeterminer.name = \"pca\"\n",
    "else:\n",
    "    config.measurePsf.psfDeterminer.name = \"psfex\"\n",
    "    \n",
    "charImageTask =         CharacterizeImageTask(None, config=config)\n",
    "\n",
    "config = SourceDetectionTask.ConfigClass()\n",
    "sourceDetectionTask =   SourceDetectionTask(schema=schema, config=config)\n",
    "\n",
    "sourceDeblendTask =     SourceDeblendTask(schema=schema)\n",
    "\n",
    "config = SingleFrameMeasurementTask.ConfigClass()\n",
    "config.slots.apFlux = 'base_CircularApertureFlux_12_0'\n",
    "sourceMeasurementTask = SingleFrameMeasurementTask(schema=schema, config=config,\n",
    "                                                   algMetadata=algMetadata)"
   ]
  },
  {
   "cell_type": "markdown",
   "metadata": {},
   "source": [
    "## Process the data"
   ]
  },
  {
   "cell_type": "code",
   "execution_count": 7,
   "metadata": {
    "collapsed": true
   },
   "outputs": [],
   "source": [
    "butler = dafPersist.Butler(\"/Volumes/RHLData/hsc-v13_0\")"
   ]
  },
  {
   "cell_type": "code",
   "execution_count": 8,
   "metadata": {
    "collapsed": false
   },
   "outputs": [],
   "source": [
    "dataId = dict(visit=29352, ccd=50)\n",
    "exposure = butler.get('calexp', dataId)\n",
    "\n",
    "tab = afwTable.SourceTable.make(schema)\n",
    "\n",
    "result = charImageTask.characterize(exposure)\n",
    "psfCellSet = result.psfCellSet     # we'll look at this data structure later\n",
    "\n",
    "result = sourceDetectionTask.run(tab, exposure)\n",
    "sources = result.sources\n",
    "\n",
    "sourceDeblendTask.run(exposure, sources)\n",
    "\n",
    "sourceMeasurementTask.run(exposure, sources)\n",
    "\n",
    "sources.writeFits(\"outputTable.fits\")\n",
    "exposure.writeFits(\"example1-out.fits\")"
   ]
  },
  {
   "cell_type": "markdown",
   "metadata": {},
   "source": [
    "Define a boolean array that tells us which objects are 'good'; in this case:\n",
    " - No saturated pixels near their centres\n",
    " - terminal objects that haven't been further deblended"
   ]
  },
  {
   "cell_type": "code",
   "execution_count": 9,
   "metadata": {
    "collapsed": false
   },
   "outputs": [],
   "source": [
    "sources = sources.copy(True)\n",
    "\n",
    "good = np.logical_and.reduce([sources.get('base_PixelFlags_flag_saturatedCenter') == 0,\n",
    "                              sources.get(\"deblend_nChild\") == 0,\n",
    "                              ])"
   ]
  },
  {
   "cell_type": "markdown",
   "metadata": {},
   "source": [
    "#### Look at how well the aperture photometry agrees with the PSF measurements"
   ]
  },
  {
   "cell_type": "code",
   "execution_count": 10,
   "metadata": {
    "collapsed": false
   },
   "outputs": [
    {
     "data": {
      "image/png": "[encoded data removed]",
      "text/plain": [
       "<matplotlib.figure.Figure at 0x118ab10d0>"
      ]
     },
     "metadata": {},
     "output_type": "display_data"
    }
   ],
   "source": [
    "with afwImageUtils.CalibNoThrow():\n",
    "    apMag = exposure.getCalib().getMagnitude(sources.getApFlux())\n",
    "    psfMag = exposure.getCalib().getMagnitude(sources.getPsfFlux())\n",
    "\n",
    "plt.plot(apMag[good], (psfMag - apMag)[good], 'o')\n",
    "\n",
    "plt.axhline(0.0, ls=':', color='black')\n",
    "plt.xlim(14, 24.5)\n",
    "plt.ylim(-0.2, 0.8)\n",
    "\n",
    "plt.xlabel(\"apMag\")\n",
    "plt.ylabel(\"psfMag - apMag\")\n",
    "\n",
    "plt.show()"
   ]
  },
  {
   "cell_type": "markdown",
   "metadata": {},
   "source": [
    "#### Show the PSF candidates on the image"
   ]
  },
  {
   "cell_type": "code",
   "execution_count": 11,
   "metadata": {
    "collapsed": false
   },
   "outputs": [],
   "source": [
    "if True:\n",
    "    disp2.mtv(exposure)\n",
    "else:\n",
    "    disp2.erase()\n",
    "\n",
    "if psfCellSet:\n",
    "    with disp2.Buffering():\n",
    "        for cell in psfCellSet.getCellList():\n",
    "            afwDisplayUtils.drawBBox(cell.getBBox(), display=disp2, \n",
    "                                     borderWidth=0.5, ctype=afwDisplay.CYAN)\n",
    "\n",
    "            for cand in cell:\n",
    "                disp2.dot(\"o\", cand.getXCenter(), cand.getYCenter(), size=15,\n",
    "                          ctype=afwDisplay.GREEN if cand.GOOD else afwDisplay.RED)"
   ]
  },
  {
   "cell_type": "markdown",
   "metadata": {},
   "source": [
    "##### Look at the residuals from the PSF modelling"
   ]
  },
  {
   "cell_type": "code",
   "execution_count": 12,
   "metadata": {
    "collapsed": false
   },
   "outputs": [],
   "source": [
    "residuals = exposure.getMaskedImage().getImage().clone()\n",
    "psf = exposure.getPsf()\n",
    "\n",
    "with disp.Buffering():\n",
    "    for s in sources[good]:\n",
    "        psfImage = psf.computeImage(s.getCentroid()).convertF()\n",
    "        psfImage *= s.getPsfFlux()/np.sum(psfImage.getArray())\n",
    "            \n",
    "        try:\n",
    "            residuals[psfImage.getBBox()] -= psfImage\n",
    "        except:\n",
    "            pass\n",
    "            \n",
    "disp.mtv(residuals)\n",
    "\n",
    "with disp.Buffering():\n",
    "    for s in sources[good]:\n",
    "        disp.dot(\"o\", *s.getCentroid(), size=20) "
   ]
  },
  {
   "cell_type": "markdown",
   "metadata": {},
   "source": [
    "#### Fit a double-Gaussian approximtion to the PSF"
   ]
  },
  {
   "cell_type": "code",
   "execution_count": 172,
   "metadata": {
    "collapsed": false
   },
   "outputs": [],
   "source": [
    "def fitPsfAsDoubleGaussian(psf, position):\n",
    "    \"\"\"Return a double-Gaussian fit \n",
    "\n",
    "    Return:\n",
    "      DoubleShapeletPsfApproxAlgorithm\n",
    "      a list of(amplitude, sigma) for both components\n",
    "    \"\"\"\n",
    "    import lsst.afw.geom as afwGeom\n",
    "    import lsst.afw.geom.ellipses as afwEllipse\n",
    "    from lsst.meas.modelfit import DoubleShapeletPsfApproxControl, DoubleShapeletPsfApproxAlgorithm\n",
    "    from lsst.shapelet import ShapeletFunction \n",
    "\n",
    "    psfImage = psf.computeKernelImage(position)\n",
    "    ctrl = DoubleShapeletPsfApproxControl()\n",
    "    ctrl.innerOrder = 0\n",
    "    ctrl.outerOrder = 0\n",
    "    circularGaussians = 0\n",
    "    result = DoubleShapeletPsfApproxAlgorithm.initializeResult(ctrl)\n",
    "    DoubleShapeletPsfApproxAlgorithm.fitMoments(result, ctrl, psfImage)\n",
    "\n",
    "    if circularGaussians:\n",
    "        for comp in result.getComponents():\n",
    "            roundCore = afwEllipse.Quadrupole()\n",
    "            roundCore.scale(comp.getEllipse().getCore().getTraceRadius())\n",
    "            comp.getEllipse().setCore(roundCore)\n",
    "\n",
    "    DoubleShapeletPsfApproxAlgorithm.fitProfile(result, ctrl, psfImage)\n",
    "\n",
    "    params = []\n",
    "    for comp in result.getComponents():\n",
    "        alpha = comp.getEllipse().getCore().getTraceRadius()\n",
    "        params.append([comp.getCoefficients()[0]/ShapeletFunction.FLUX_FACTOR/(2*pi*alpha**2),\n",
    "                       alpha])\n",
    "\n",
    "    a0 = params[0][0]\n",
    "    for p in params:\n",
    "        p[0] /= a0\n",
    "        \n",
    "    return result, params"
   ]
  },
  {
   "cell_type": "code",
   "execution_count": 173,
   "metadata": {
    "collapsed": false
   },
   "outputs": [
    {
     "name": "stdout",
     "output_type": "stream",
     "text": [
      "[[1.0, 2.503092281190429], [0.27037680782676266, 5.402059442341348]]\n"
     ]
    }
   ],
   "source": [
    "import lsst.afw.image as afwImage\n",
    "import lsst.afw.math as afwMath\n",
    "\n",
    "position = afwGeom.PointD(1000, 1000)\n",
    "result, params = fitPsfAsDoubleGaussian(exposure.getPsf(), position)\n",
    "print params\n",
    "\n",
    "psfIm = exposure.getPsf().computeKernelImage(position)\n",
    "im = afwImage.ImageD(psfIm.getBBox())\n",
    "result.evaluate().addToImage(im)\n",
    "    \n",
    "im -= psfIm\n",
    "afwDisplay.getDisplay(0).mtv(im)"
   ]
  }
 ],
 "metadata": {
  "anaconda-cloud": {},
  "kernelspec": {
   "display_name": "Python [default]",
   "language": "python",
   "name": "python2"
  },
  "language_info": {
   "codemirror_mode": {
    "name": "ipython",
    "version": 2
   },
   "file_extension": ".py",
   "mimetype": "text/x-python",
   "name": "python",
   "nbconvert_exporter": "python",
   "pygments_lexer": "ipython2",
   "version": "2.7.12"
  }
 },
 "nbformat": 4,
 "nbformat_minor": 0
}

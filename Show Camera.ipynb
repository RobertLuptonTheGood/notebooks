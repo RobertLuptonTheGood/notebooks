{
 "cells": [
  {
   "cell_type": "code",
   "execution_count": 1,
   "metadata": {
    "collapsed": false
   },
   "outputs": [],
   "source": [
    "import lsst.daf.persistence as dafPersist\n",
    "import lsst.afw.cameraGeom.utils as cameraGeomUtils\n",
    "import lsst.afw.display.ds9 as ds9\n",
    "import lsst.afw.display.rgb as afwRgb"
   ]
  },
  {
   "cell_type": "code",
   "execution_count": 2,
   "metadata": {
    "collapsed": false
   },
   "outputs": [],
   "source": [
    "import os\n",
    "#os.environ[\"SUPRIME_DATA_DIR\"] = \"/tigress/HSC/HSC\"\n",
    "dataPath = os.path.join(os.environ[\"SUPRIME_DATA_DIR\"], \"rerun\", \"production-20151224\")\n",
    "\n",
    "butler = dafPersist.Butler(dataPath)"
   ]
  },
  {
   "cell_type": "code",
   "execution_count": 3,
   "metadata": {
    "collapsed": false
   },
   "outputs": [
    {
     "name": "stderr",
     "output_type": "stream",
     "text": [
      "/tigress/HSC/products-HSC-20150702/Linux64/afw/HSC-4.0.0/python/lsst/afw/display/rgb.py:135: RuntimeWarning: invalid value encountered in less\n",
      "  c[c < 0] = 0                # individual bands can still be < 0, even if fac isn't\n"
     ]
    }
   ],
   "source": [
    "camera = butler.get(\"camera\")\n",
    "visit = 23692\n",
    "\n",
    "frame = None if True else 2\n",
    "mos = cameraGeomUtils.showCamera(camera, \n",
    "                                 cameraGeomUtils.ButlerImage(butler, \"bias\", visit=visit, verbose=True), \n",
    "                                 bin=32, frame=frame)\n",
    "\n",
    "if frame is None:\n",
    "    afwRgb.displayRGB(afwRgb.makeRGB(*3*[mos], minimum=0, range=.1, Q=8))"
   ]
  },
  {
   "cell_type": "code",
   "execution_count": 7,
   "metadata": {
    "collapsed": false
   },
   "outputs": [],
   "source": [
    "cameraGeomUtils=reload(cameraGeomUtils)\n",
    "\n",
    "mos = cameraGeomUtils.showCamera(camera, \n",
    "                                 cameraGeomUtils.ButlerImage(butler, \"raw\", visit=visit, verbose=True), \n",
    "                                 bin=16, frame=3)"
   ]
  },
  {
   "cell_type": "code",
   "execution_count": 8,
   "metadata": {
    "collapsed": false
   },
   "outputs": [],
   "source": [
    "raw = butler.get('raw', visit=23692, ccd=50, immediate=True)"
   ]
  },
  {
   "cell_type": "code",
   "execution_count": 22,
   "metadata": {
    "collapsed": false
   },
   "outputs": [
    {
     "name": "stdout",
     "output_type": "stream",
     "text": [
      "(-922.84, 288.07)\n"
     ]
    }
   ],
   "source": []
  }
 ],
 "metadata": {
  "kernelspec": {
   "display_name": "Python 2",
   "language": "python",
   "name": "python2"
  },
  "language_info": {
   "codemirror_mode": {
    "name": "ipython",
    "version": 2
   },
   "file_extension": ".py",
   "mimetype": "text/x-python",
   "name": "python",
   "nbconvert_exporter": "python",
   "pygments_lexer": "ipython2",
   "version": "2.7.10"
  }
 },
 "nbformat": 4,
 "nbformat_minor": 0
}

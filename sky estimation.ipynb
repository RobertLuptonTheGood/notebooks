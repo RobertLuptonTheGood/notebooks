{
 "metadata": {
  "name": "",
  "signature": "sha256:598140e4eabd6a3d102c052b18d496fd8fa63f6e74aa5ee5e79337241a967b91"
 },
 "nbformat": 3,
 "nbformat_minor": 0,
 "worksheets": [
  {
   "cells": [
    {
     "cell_type": "code",
     "collapsed": false,
     "input": [
      "import numpy as np\n",
      "\n",
      "%matplotlib inline\n",
      "import matplotlib.pyplot as plt"
     ],
     "language": "python",
     "metadata": {},
     "outputs": [],
     "prompt_number": 1
    },
    {
     "cell_type": "markdown",
     "metadata": {},
     "source": [
      "Estimate the bias in a median as a function of the number of\n",
      "data points"
     ]
    },
    {
     "cell_type": "code",
     "collapsed": false,
     "input": [
      "def makeImage(L=20, seed=None, sky=10, F=100):\n",
      "    x = np.arange(-L//2, L//2+1)\n",
      "\n",
      "    alpha, x0 = 2, 0   # Star with this width and position\n",
      "    I = sky + F*np.exp(-0.5*(x - x0)**2/alpha**2)\n",
      "\n",
      "    np.random.seed(seed)\n",
      "    # np.random.poisson() returns ints\n",
      "    return x, I + np.random.normal(0, np.sqrt(I))\n",
      "\n",
      "sky = 10\n",
      "nTry = 100\n",
      "LL = 10*2**np.arange(1, 10, dtype=float)\n",
      "\n",
      "means = np.empty(len(LL))\n",
      "stds  = np.empty_like(means)\n",
      "rats  = np.empty_like(means)\n",
      "\n",
      "for i, L in enumerate(LL):\n",
      "    vals = np.empty(nTry)\n",
      "    for j in range(nTry):\n",
      "        x, I = makeImage(L, sky=sky)\n",
      "        vals[j] = np.median(I) - sky\n",
      "    means[i], stds[i] = np.mean(vals), np.std(vals)\n",
      "    rats[i] = stds[i]/(np.sqrt(pi/2)*np.sqrt(sky/L))\n",
      "    print \"%d %.2f +- %.2f %.2f\" % (L, means[i], stds[i], rats[i])\n",
      "\n",
      "plt.errorbar(LL, means, stds)\n",
      "plt.xscale('log')\n",
      "plt.axhline(0, ls=':', color='black')\n",
      "plt.xlabel('Size of image')\n",
      "_ = plt.ylabel('Bias')"
     ],
     "language": "python",
     "metadata": {},
     "outputs": [
      {
       "output_type": "stream",
       "stream": "stdout",
       "text": [
        "20 5.24 +- 1.66 1.88\n",
        "40 1.52 +- 0.74 1.19"
       ]
      },
      {
       "output_type": "stream",
       "stream": "stdout",
       "text": [
        "\n",
        "80 0.61 +- 0.47 1.06"
       ]
      },
      {
       "output_type": "stream",
       "stream": "stdout",
       "text": [
        "\n",
        "160 0.31 +- 0.32 1.02"
       ]
      },
      {
       "output_type": "stream",
       "stream": "stdout",
       "text": [
        "\n",
        "320 0.17 +- 0.24 1.06"
       ]
      },
      {
       "output_type": "stream",
       "stream": "stdout",
       "text": [
        "\n",
        "640 0.06 +- 0.17 1.09"
       ]
      },
      {
       "output_type": "stream",
       "stream": "stdout",
       "text": [
        "\n",
        "1280 0.04 +- 0.11 0.96"
       ]
      },
      {
       "output_type": "stream",
       "stream": "stdout",
       "text": [
        "\n",
        "2560 0.02 +- 0.08 1.01"
       ]
      },
      {
       "output_type": "stream",
       "stream": "stdout",
       "text": [
        "\n",
        "5120 0.01 +- 0.05 0.93"
       ]
      },
      {
       "output_type": "stream",
       "stream": "stdout",
       "text": [
        "\n"
       ]
      },
      {
       "metadata": {},
       "output_type": "display_data",
       "png": "[encoded data removed]",
       "text": [
        "<matplotlib.figure.Figure at 0x1247fbe50>"
       ]
      }
     ],
     "prompt_number": 135
    }
   ],
   "metadata": {}
  }
 ]
}
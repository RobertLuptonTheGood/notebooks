{
 "metadata": {
  "name": "",
  "signature": "sha256:fc0cbb2ca710d2055280310409f175954de3982f20135d5c95a252075db58db9"
 },
 "nbformat": 3,
 "nbformat_minor": 0,
 "worksheets": [
  {
   "cells": [
    {
     "cell_type": "markdown",
     "metadata": {},
     "source": [
      "Make true-colour cutouts from HSC data"
     ]
    },
    {
     "cell_type": "code",
     "collapsed": false,
     "input": [
      "import lsst.daf.persistence as dafPersist\n",
      "import lsst.afw.display.ds9 as ds9\n",
      "import lsst.afw.display.rgb as afwRgb\n",
      "import lsst.afw.geom as afwGeom\n",
      "import lsst.afw.coord as afwCoord\n",
      "import lsst.afw.image as afwImage"
     ],
     "language": "python",
     "metadata": {},
     "outputs": [
      {
       "ename": "ImportError",
       "evalue": "No module named rgb",
       "output_type": "pyerr",
       "traceback": [
        "\u001b[1;31m---------------------------------------------------------------------------\u001b[0m\n\u001b[1;31mImportError\u001b[0m                               Traceback (most recent call last)",
        "\u001b[1;32m<ipython-input-1-7df7c5878839>\u001b[0m in \u001b[0;36m<module>\u001b[1;34m()\u001b[0m\n\u001b[0;32m      1\u001b[0m \u001b[1;32mimport\u001b[0m \u001b[0mlsst\u001b[0m\u001b[1;33m.\u001b[0m\u001b[0mdaf\u001b[0m\u001b[1;33m.\u001b[0m\u001b[0mpersistence\u001b[0m \u001b[1;32mas\u001b[0m \u001b[0mdafPersist\u001b[0m\u001b[1;33m\u001b[0m\u001b[0m\n\u001b[0;32m      2\u001b[0m \u001b[1;32mimport\u001b[0m \u001b[0mlsst\u001b[0m\u001b[1;33m.\u001b[0m\u001b[0mafw\u001b[0m\u001b[1;33m.\u001b[0m\u001b[0mdisplay\u001b[0m\u001b[1;33m.\u001b[0m\u001b[0mds9\u001b[0m \u001b[1;32mas\u001b[0m \u001b[0mds9\u001b[0m\u001b[1;33m\u001b[0m\u001b[0m\n\u001b[1;32m----> 3\u001b[1;33m \u001b[1;32mimport\u001b[0m \u001b[0mlsst\u001b[0m\u001b[1;33m.\u001b[0m\u001b[0mafw\u001b[0m\u001b[1;33m.\u001b[0m\u001b[0mdisplay\u001b[0m\u001b[1;33m.\u001b[0m\u001b[0mrgb\u001b[0m \u001b[1;32mas\u001b[0m \u001b[0mafwRgb\u001b[0m\u001b[1;33m\u001b[0m\u001b[0m\n\u001b[0m\u001b[0;32m      4\u001b[0m \u001b[1;32mimport\u001b[0m \u001b[0mlsst\u001b[0m\u001b[1;33m.\u001b[0m\u001b[0mafw\u001b[0m\u001b[1;33m.\u001b[0m\u001b[0mgeom\u001b[0m \u001b[1;32mas\u001b[0m \u001b[0mafwGeom\u001b[0m\u001b[1;33m\u001b[0m\u001b[0m\n\u001b[0;32m      5\u001b[0m \u001b[1;32mimport\u001b[0m \u001b[0mlsst\u001b[0m\u001b[1;33m.\u001b[0m\u001b[0mafw\u001b[0m\u001b[1;33m.\u001b[0m\u001b[0mcoord\u001b[0m \u001b[1;32mas\u001b[0m \u001b[0mafwCoord\u001b[0m\u001b[1;33m\u001b[0m\u001b[0m\n",
        "\u001b[1;31mImportError\u001b[0m: No module named rgb"
       ]
      }
     ],
     "prompt_number": 1
    },
    {
     "cell_type": "code",
     "collapsed": false,
     "input": [
      "import os\n",
      "butler = dafPersist.Butler(os.path.join(os.environ[\"SUPRIME_DATA_DIR\"],\n",
      "                                        \"rerun\", \"ssp1-cosmos-20140724\"))\n",
      "skymap = butler.get(\"deepCoadd_skyMap\")"
     ],
     "language": "python",
     "metadata": {},
     "outputs": []
    },
    {
     "cell_type": "markdown",
     "metadata": {},
     "source": [
      "Select the object we want to make a Pretty Picture of"
     ]
    },
    {
     "cell_type": "code",
     "collapsed": false,
     "input": [
      "if False:\n",
      "    ra, dec = 150.33726, 1.6086657\n",
      "else:\n",
      "    ra, dec = 150.33054, 1.6008749\n",
      "    \n",
      "raDec = afwCoord.Coord(ra*afwGeom.degrees, dec*afwGeom.degrees)\n",
      "\n",
      "filters = \"grizy\"  # filters to process -- we choose our bands when we set B, R, G = ...\n",
      "\n",
      "cutoutSize = 500   # pixels"
     ],
     "language": "python",
     "metadata": {},
     "outputs": []
    },
    {
     "cell_type": "markdown",
     "metadata": {},
     "source": [
      "Figure out the area we want, and read the data.\n",
      "\n",
      "For coadds the WCS is the same in all bands, but the code handles the general case\n",
      "\n",
      "Start by finding the tract and patch"
     ]
    },
    {
     "cell_type": "code",
     "collapsed": false,
     "input": [
      "tractInfo, patchInfo = skymap.findTractPatchList([raDec])[0]\n",
      "tract = tractInfo.getId()\n",
      "patch = \"%d,%d\" % patchInfo[0].getIndex()"
     ],
     "language": "python",
     "metadata": {},
     "outputs": []
    },
    {
     "cell_type": "markdown",
     "metadata": {},
     "source": [
      "Then we can read the desired pixels\n",
      "\n",
      "(We don't use the butler to get the subimage in case it has a PSF that we can't read)"
     ]
    },
    {
     "cell_type": "code",
     "collapsed": false,
     "input": [
      "images = {}\n",
      "cutoutSize = 1000\n",
      "\n",
      "for f in filters:\n",
      "    filterName = \"HSC-%s\" % f.upper()\n",
      "    md = butler.get(\"deepCoadd_md\", immediate=True,\n",
      "                    tract=tract, patch=patch, filter=filterName)\n",
      "    wcs = afwImage.makeWcs(md)\n",
      "    xy = afwGeom.PointI(wcs.skyToPixel(raDec))\n",
      "\n",
      "    llc = afwGeom.PointI(xy - afwGeom.ExtentI(cutoutSize//2, cutoutSize//2))\n",
      "    bbox = afwGeom.BoxI(llc, afwGeom.ExtentI(cutoutSize, cutoutSize))\n",
      "\n",
      "    fileName = butler.get(\"deepCoadd_filename\", immediate=True,\n",
      "                          tract=tract, patch=patch, filter=filterName)[0]\n",
      "\n",
      "    md = None\n",
      "    images[f] = afwImage.MaskedImageF(fileName, md, bbox)"
     ],
     "language": "python",
     "metadata": {},
     "outputs": []
    },
    {
     "cell_type": "markdown",
     "metadata": {},
     "source": [
      "Generate a RGB images, and optionally write to disk"
     ]
    },
    {
     "cell_type": "code",
     "collapsed": false,
     "input": [
      "rgbFileFmt = \"foo-%s.png\" if False else None\n",
      "min = -0.0\n",
      "max = 0.3\n",
      "Q = 8\n",
      "\n",
      "for bands in [\"gri\", \"riz\", \"izy\"]:\n",
      "    B, G, R = bands\n",
      "    rgb = afwRgb.makeRGB(images[R].getImage(), images[G].getImage(), images[B].getImage(), min, max - min, Q)\n",
      "    \n",
      "    afwRgb.displayRGB(rgb)\n",
      "    \n",
      "    if rgbFileFmt:\n",
      "        afwRgb.writeRGB(rgbFileFmt % bands, rgb)"
     ],
     "language": "python",
     "metadata": {},
     "outputs": []
    },
    {
     "cell_type": "code",
     "collapsed": false,
     "input": [],
     "language": "python",
     "metadata": {},
     "outputs": []
    }
   ],
   "metadata": {}
  }
 ]
}
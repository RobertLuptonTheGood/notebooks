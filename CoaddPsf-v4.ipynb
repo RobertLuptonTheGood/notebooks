{
 "cells": [
  {
   "cell_type": "markdown",
   "metadata": {},
   "source": [
    "Analyse a Tract's CoaddPsf"
   ]
  },
  {
   "cell_type": "code",
   "execution_count": 1,
   "metadata": {
    "collapsed": false
   },
   "outputs": [],
   "source": [
    "import numpy as np\n",
    "import lsst.pipe.base as pipeBase\n",
    "import lsst.daf.persistence as dafPersist\n",
    "import lsst.pex.exceptions as pexExcept\n",
    "import lsst.afw.geom as afwGeom\n",
    "import lsst.afw.image as afwImage\n",
    "import lsst.afw.table as afwTable\n",
    "import lsst.afw.display.ds9 as ds9\n",
    "\n",
    "%matplotlib inline\n",
    "import matplotlib.pyplot as plt"
   ]
  },
  {
   "cell_type": "code",
   "execution_count": 136,
   "metadata": {
    "collapsed": false
   },
   "outputs": [],
   "source": [
    "def makeKey(patch, myVisit=None, keys=[]):\n",
    "    \"\"\"Return the key used to lookup data for a patch and maybe visit\n",
    "    \n",
    "    If keys is provided then a key present in keys is returned (if it exists) with \n",
    "    the requested key as a prefix.    \n",
    "    \"\"\"\n",
    "    key = str(patch)\n",
    "    if myVisit and True:\n",
    "        key += '-%d' % myVisit\n",
    "        \n",
    "    if keys and key not in keys:\n",
    "        for k in keys:\n",
    "            if k.startswith(key):\n",
    "                return k\n",
    "        \n",
    "    return key\n",
    "\n",
    "def drawPatches(calexpInfo, patches):\n",
    "    \"\"\"Overlay a matplotlib image with labelled patch numbers\"\"\"\n",
    "    for patch in patches:\n",
    "        key = makeKey(patch, keys=calexpInfo.keys())\n",
    "        \n",
    "        bbox = calexpInfo[key].bbox\n",
    "        wcs  = calexpInfo[key].wcs\n",
    "\n",
    "        ra = []; dec = []\n",
    "        for xy in bbox.getMin(), bbox.getMax():\n",
    "            rd = [_.asDegrees() for _ in wcs.pixelToSky(*xy)]\n",
    "            ra.append(rd[0]); dec.append(rd[1])\n",
    "        ra =  np.array([ra[0],  ra[1],  ra[1],  ra[0],  ra[0]])\n",
    "        dec = np.array([dec[0], dec[0], dec[1], dec[1], dec[0]])\n",
    "\n",
    "        rabar, decbar = np.mean(ra[0:-1]), np.mean(dec[0:-1])\n",
    "        if True:\n",
    "            if rabar < plt.xlim()[0] or rabar > plt.xlim()[1] or \\\n",
    "               decbar < plt.ylim()[0] or decbar > plt.ylim()[1]:\n",
    "                continue\n",
    "\n",
    "        plt.plot(ra, dec, '-', color='black')\n",
    "        plt.text(rabar, decbar, patch,\n",
    "                 horizontalalignment='center', verticalalignment='center')\n",
    "        \n",
    "def drawCcds(calexpInfo, ccds):\n",
    "    \"\"\"Overlay a matplotlib image with labelled CCD numbers\"\"\"\n",
    "    for ccd in ccds:\n",
    "        key = makeKey(ccd, myVisit, keys=calexpInfo.keys())\n",
    "        \n",
    "        bbox = calexpInfo[key].bbox\n",
    "        wcs  = calexpInfo[key].wcs\n",
    "\n",
    "        ra = []; dec = []\n",
    "        for xy in bbox.getMin(), bbox.getMax():\n",
    "            rd = [_.asDegrees() for _ in wcs.pixelToSky(*xy)]\n",
    "            ra.append(rd[0]); dec.append(rd[1])\n",
    "        ra =  np.array([ra[0],  ra[1],  ra[1],  ra[0],  ra[0]])\n",
    "        dec = np.array([dec[0], dec[0], dec[1], dec[1], dec[0]])\n",
    "\n",
    "        rabar, decbar = np.mean(ra[0:-1]), np.mean(dec[0:-1])\n",
    "        if True:\n",
    "            if rabar < plt.xlim()[0] or rabar > plt.xlim()[1] or \\\n",
    "               decbar < plt.ylim()[0] or decbar > plt.ylim()[1]:\n",
    "                continue\n",
    "\n",
    "        plt.plot(ra, dec, '-', color='black')\n",
    "        plt.text(rabar, decbar, ccd,\n",
    "                 horizontalalignment='center', verticalalignment='center')"
   ]
  },
  {
   "cell_type": "markdown",
   "metadata": {},
   "source": [
    "Create a butler and prepare to read data"
   ]
  },
  {
   "cell_type": "code",
   "execution_count": 3,
   "metadata": {
    "collapsed": false
   },
   "outputs": [],
   "source": [
    "butler = dafPersist.Butler(os.path.join(os.environ[\"SUPRIME_DATA_DIR\"], \"rerun\", \n",
    "                                        \"rearmstr/hsc-1127/visit1266-1304\"))\n",
    "\n",
    "#ds9.setMaskTransparency(75)\n",
    "\n",
    "try:\n",
    "    calexpInfo\n",
    "except NameError:\n",
    "    calexpInfo = {}\n",
    "    srcs = {}\n",
    "\n",
    "tract = 9614\n",
    "myVisits = [1266, 1304]               # Visits in rerun (needed to avoid butler bugs)\n",
    "filter = 'HSC-I'\n",
    "display = False"
   ]
  },
  {
   "cell_type": "markdown",
   "metadata": {},
   "source": [
    "Read the data.  Note that we don't keep all the pixels in the calexps"
   ]
  },
  {
   "cell_type": "code",
   "execution_count": 4,
   "metadata": {
    "collapsed": false
   },
   "outputs": [
    {
     "name": "stdout",
     "output_type": "stream",
     "text": [
      "\r",
      "coadd 2,4 "
     ]
    },
    {
     "name": "stdout",
     "output_type": "stream",
     "text": [
      "\r",
      "1266 2,4 "
     ]
    },
    {
     "name": "stdout",
     "output_type": "stream",
     "text": [
      "\r",
      "coadd 2,5 "
     ]
    },
    {
     "name": "stdout",
     "output_type": "stream",
     "text": [
      "\r",
      "1266 2,5 "
     ]
    },
    {
     "name": "stdout",
     "output_type": "stream",
     "text": [
      "\r",
      "coadd 2,6 "
     ]
    },
    {
     "name": "stdout",
     "output_type": "stream",
     "text": [
      "\r",
      "1266 2,6 "
     ]
    },
    {
     "name": "stdout",
     "output_type": "stream",
     "text": [
      "\r",
      "coadd 3,2 "
     ]
    },
    {
     "name": "stdout",
     "output_type": "stream",
     "text": [
      "\r",
      "1266 3,2 "
     ]
    },
    {
     "name": "stdout",
     "output_type": "stream",
     "text": [
      "\r",
      "coadd 3,3 "
     ]
    },
    {
     "name": "stdout",
     "output_type": "stream",
     "text": [
      "\r",
      "1266 3,3 "
     ]
    },
    {
     "name": "stdout",
     "output_type": "stream",
     "text": [
      "\r",
      "coadd 3,4 "
     ]
    },
    {
     "name": "stdout",
     "output_type": "stream",
     "text": [
      "\r",
      "1266 3,4 "
     ]
    },
    {
     "name": "stdout",
     "output_type": "stream",
     "text": [
      "\r",
      "coadd 3,5 "
     ]
    },
    {
     "name": "stdout",
     "output_type": "stream",
     "text": [
      "\r",
      "1266 3,5 "
     ]
    },
    {
     "name": "stdout",
     "output_type": "stream",
     "text": [
      "\r",
      "coadd 3,6 "
     ]
    },
    {
     "name": "stdout",
     "output_type": "stream",
     "text": [
      "\r",
      "1266 3,6 "
     ]
    },
    {
     "name": "stdout",
     "output_type": "stream",
     "text": [
      "\r",
      "coadd 3,7 "
     ]
    },
    {
     "name": "stdout",
     "output_type": "stream",
     "text": [
      "\r",
      "1266 3,7 "
     ]
    },
    {
     "name": "stdout",
     "output_type": "stream",
     "text": [
      "\r",
      "coadd 3,8 "
     ]
    },
    {
     "name": "stdout",
     "output_type": "stream",
     "text": [
      "\r",
      "1266 3,8 "
     ]
    },
    {
     "name": "stdout",
     "output_type": "stream",
     "text": [
      "\r",
      "coadd 4,1 "
     ]
    },
    {
     "name": "stdout",
     "output_type": "stream",
     "text": [
      "\r",
      "1266 4,1 "
     ]
    },
    {
     "name": "stdout",
     "output_type": "stream",
     "text": [
      "\r",
      "coadd 4,2 "
     ]
    },
    {
     "name": "stdout",
     "output_type": "stream",
     "text": [
      "\r",
      "1266 4,2 "
     ]
    },
    {
     "name": "stdout",
     "output_type": "stream",
     "text": [
      "\r",
      "coadd 4,3 "
     ]
    },
    {
     "name": "stdout",
     "output_type": "stream",
     "text": [
      "\r",
      "1266 4,3 "
     ]
    },
    {
     "name": "stdout",
     "output_type": "stream",
     "text": [
      "\r",
      "coadd 4,4 "
     ]
    },
    {
     "name": "stdout",
     "output_type": "stream",
     "text": [
      "\r",
      "1266 4,4 "
     ]
    },
    {
     "name": "stdout",
     "output_type": "stream",
     "text": [
      "\r",
      "coadd 4,5 "
     ]
    },
    {
     "name": "stdout",
     "output_type": "stream",
     "text": [
      "\r",
      "1266 4,5 "
     ]
    },
    {
     "name": "stdout",
     "output_type": "stream",
     "text": [
      "\r",
      "coadd 4,6 "
     ]
    },
    {
     "name": "stdout",
     "output_type": "stream",
     "text": [
      "\r",
      "1266 4,6 "
     ]
    },
    {
     "name": "stdout",
     "output_type": "stream",
     "text": [
      "\r",
      "coadd 4,7 "
     ]
    },
    {
     "name": "stdout",
     "output_type": "stream",
     "text": [
      "\r",
      "1266 4,7 "
     ]
    },
    {
     "name": "stdout",
     "output_type": "stream",
     "text": [
      "\r",
      "coadd 4,8 "
     ]
    },
    {
     "name": "stdout",
     "output_type": "stream",
     "text": [
      "\r",
      "1266 4,8 "
     ]
    },
    {
     "name": "stdout",
     "output_type": "stream",
     "text": [
      "\r",
      "coadd 5,1 "
     ]
    },
    {
     "name": "stdout",
     "output_type": "stream",
     "text": [
      "\r",
      "1266 5,1 "
     ]
    },
    {
     "name": "stdout",
     "output_type": "stream",
     "text": [
      "\r",
      "coadd 5,2 "
     ]
    },
    {
     "name": "stdout",
     "output_type": "stream",
     "text": [
      "\r",
      "1266 5,2 "
     ]
    },
    {
     "name": "stdout",
     "output_type": "stream",
     "text": [
      "\r",
      "coadd 5,3 "
     ]
    },
    {
     "name": "stdout",
     "output_type": "stream",
     "text": [
      "\r",
      "1266 5,3 "
     ]
    },
    {
     "name": "stdout",
     "output_type": "stream",
     "text": [
      "\r",
      "coadd 5,4 "
     ]
    },
    {
     "name": "stdout",
     "output_type": "stream",
     "text": [
      "\r",
      "1266 5,4 "
     ]
    },
    {
     "name": "stdout",
     "output_type": "stream",
     "text": [
      "\r",
      "coadd 5,5 "
     ]
    },
    {
     "name": "stdout",
     "output_type": "stream",
     "text": [
      "\r",
      "1266 5,5 "
     ]
    },
    {
     "name": "stdout",
     "output_type": "stream",
     "text": [
      "\r",
      "1304 5,5 "
     ]
    },
    {
     "name": "stdout",
     "output_type": "stream",
     "text": [
      "\r",
      "coadd 5,6 "
     ]
    },
    {
     "name": "stdout",
     "output_type": "stream",
     "text": [
      "\r",
      "1266 5,6 "
     ]
    },
    {
     "name": "stdout",
     "output_type": "stream",
     "text": [
      "\r",
      "1304 5,6 "
     ]
    },
    {
     "name": "stdout",
     "output_type": "stream",
     "text": [
      "\r",
      "coadd 5,7 "
     ]
    },
    {
     "name": "stdout",
     "output_type": "stream",
     "text": [
      "\r",
      "1266 5,7 "
     ]
    },
    {
     "name": "stdout",
     "output_type": "stream",
     "text": [
      "\r",
      "coadd 5,8 "
     ]
    },
    {
     "name": "stdout",
     "output_type": "stream",
     "text": [
      "\r",
      "1266 5,8 "
     ]
    },
    {
     "name": "stdout",
     "output_type": "stream",
     "text": [
      "\r",
      "coadd 6,1 "
     ]
    },
    {
     "name": "stdout",
     "output_type": "stream",
     "text": [
      "\r",
      "1266 6,1 "
     ]
    },
    {
     "name": "stdout",
     "output_type": "stream",
     "text": [
      "\r",
      "coadd 6,2 "
     ]
    },
    {
     "name": "stdout",
     "output_type": "stream",
     "text": [
      "\r",
      "1266 6,2 "
     ]
    },
    {
     "name": "stdout",
     "output_type": "stream",
     "text": [
      "\r",
      "coadd 6,3 "
     ]
    },
    {
     "name": "stdout",
     "output_type": "stream",
     "text": [
      "\r",
      "1266 6,3 "
     ]
    },
    {
     "name": "stdout",
     "output_type": "stream",
     "text": [
      "\r",
      "1304 6,3 "
     ]
    },
    {
     "name": "stdout",
     "output_type": "stream",
     "text": [
      "\r",
      "coadd 6,4 "
     ]
    },
    {
     "name": "stdout",
     "output_type": "stream",
     "text": [
      "\r",
      "1266 6,4 "
     ]
    },
    {
     "name": "stdout",
     "output_type": "stream",
     "text": [
      "\r",
      "1304 6,4 "
     ]
    },
    {
     "name": "stdout",
     "output_type": "stream",
     "text": [
      "\r",
      "coadd 6,5 "
     ]
    },
    {
     "name": "stdout",
     "output_type": "stream",
     "text": [
      "\r",
      "1266 6,5 "
     ]
    },
    {
     "name": "stdout",
     "output_type": "stream",
     "text": [
      "\r",
      "1304 6,5 "
     ]
    },
    {
     "name": "stdout",
     "output_type": "stream",
     "text": [
      "\r",
      "coadd 6,6 "
     ]
    },
    {
     "name": "stdout",
     "output_type": "stream",
     "text": [
      "\r",
      "1266 6,6 "
     ]
    },
    {
     "name": "stdout",
     "output_type": "stream",
     "text": [
      "\r",
      "1304 6,6 "
     ]
    },
    {
     "name": "stdout",
     "output_type": "stream",
     "text": [
      "\r",
      "coadd 6,7 "
     ]
    },
    {
     "name": "stdout",
     "output_type": "stream",
     "text": [
      "\r",
      "1266 6,7 "
     ]
    },
    {
     "name": "stdout",
     "output_type": "stream",
     "text": [
      "\r",
      "1304 6,7 "
     ]
    },
    {
     "name": "stdout",
     "output_type": "stream",
     "text": [
      "\r",
      "coadd 6,8 "
     ]
    },
    {
     "name": "stdout",
     "output_type": "stream",
     "text": [
      "\r",
      "1266 6,8 "
     ]
    },
    {
     "name": "stdout",
     "output_type": "stream",
     "text": [
      "\r",
      "1304 6,8 "
     ]
    },
    {
     "name": "stdout",
     "output_type": "stream",
     "text": [
      "\r",
      "coadd 7,1 "
     ]
    },
    {
     "name": "stdout",
     "output_type": "stream",
     "text": [
      "\r",
      "1266 7,1 "
     ]
    },
    {
     "name": "stdout",
     "output_type": "stream",
     "text": [
      "\r",
      "coadd 7,2 "
     ]
    },
    {
     "name": "stdout",
     "output_type": "stream",
     "text": [
      "\r",
      "1266 7,2 "
     ]
    },
    {
     "name": "stdout",
     "output_type": "stream",
     "text": [
      "\r",
      "1304 7,2 "
     ]
    },
    {
     "name": "stdout",
     "output_type": "stream",
     "text": [
      "\r",
      "coadd 7,3 "
     ]
    },
    {
     "name": "stdout",
     "output_type": "stream",
     "text": [
      "\r",
      "1266 7,3 "
     ]
    },
    {
     "name": "stdout",
     "output_type": "stream",
     "text": [
      "\r",
      "1304 7,3 "
     ]
    },
    {
     "name": "stdout",
     "output_type": "stream",
     "text": [
      "\r",
      "coadd 7,4 "
     ]
    },
    {
     "name": "stdout",
     "output_type": "stream",
     "text": [
      "\r",
      "1266 7,4 "
     ]
    },
    {
     "name": "stdout",
     "output_type": "stream",
     "text": [
      "\r",
      "1304 7,4 "
     ]
    },
    {
     "name": "stdout",
     "output_type": "stream",
     "text": [
      "\r",
      "coadd 7,5 "
     ]
    },
    {
     "name": "stdout",
     "output_type": "stream",
     "text": [
      "\r",
      "1266 7,5 "
     ]
    },
    {
     "name": "stdout",
     "output_type": "stream",
     "text": [
      "\r",
      "1304 7,5 "
     ]
    },
    {
     "name": "stdout",
     "output_type": "stream",
     "text": [
      "\r",
      "coadd 7,6 "
     ]
    },
    {
     "name": "stdout",
     "output_type": "stream",
     "text": [
      "\r",
      "1266 7,6 "
     ]
    },
    {
     "name": "stdout",
     "output_type": "stream",
     "text": [
      "\r",
      "1304 7,6 "
     ]
    },
    {
     "name": "stdout",
     "output_type": "stream",
     "text": [
      "\r",
      "coadd 7,7 "
     ]
    },
    {
     "name": "stdout",
     "output_type": "stream",
     "text": [
      "\r",
      "1266 7,7 "
     ]
    },
    {
     "name": "stdout",
     "output_type": "stream",
     "text": [
      "\r",
      "1304 7,7 "
     ]
    },
    {
     "name": "stdout",
     "output_type": "stream",
     "text": [
      "\r",
      "coadd 7,8 "
     ]
    },
    {
     "name": "stdout",
     "output_type": "stream",
     "text": [
      "\r",
      "1266 7,8 "
     ]
    },
    {
     "name": "stdout",
     "output_type": "stream",
     "text": [
      "\r",
      "1304 7,8 "
     ]
    },
    {
     "name": "stdout",
     "output_type": "stream",
     "text": [
      "\r",
      "coadd 8,1 "
     ]
    },
    {
     "name": "stdout",
     "output_type": "stream",
     "text": [
      "\r",
      "1266 8,1 "
     ]
    },
    {
     "name": "stdout",
     "output_type": "stream",
     "text": [
      "\r",
      "coadd 8,2 "
     ]
    },
    {
     "name": "stdout",
     "output_type": "stream",
     "text": [
      "\r",
      "1266 8,2 "
     ]
    },
    {
     "name": "stdout",
     "output_type": "stream",
     "text": [
      "\r",
      "1304 8,2 "
     ]
    },
    {
     "name": "stdout",
     "output_type": "stream",
     "text": [
      "\r",
      "coadd 8,3 "
     ]
    },
    {
     "name": "stdout",
     "output_type": "stream",
     "text": [
      "\r",
      "1266 8,3 "
     ]
    },
    {
     "name": "stdout",
     "output_type": "stream",
     "text": [
      "\r",
      "1304 8,3 "
     ]
    },
    {
     "name": "stdout",
     "output_type": "stream",
     "text": [
      "\r",
      "coadd 8,4 "
     ]
    },
    {
     "name": "stdout",
     "output_type": "stream",
     "text": [
      "\r",
      "1266 8,4 "
     ]
    },
    {
     "name": "stdout",
     "output_type": "stream",
     "text": [
      "\r",
      "1304 8,4 "
     ]
    },
    {
     "name": "stdout",
     "output_type": "stream",
     "text": [
      "\r",
      "coadd 8,5 "
     ]
    },
    {
     "name": "stdout",
     "output_type": "stream",
     "text": [
      "\r",
      "1266 8,5 "
     ]
    },
    {
     "name": "stdout",
     "output_type": "stream",
     "text": [
      "\r",
      "1304 8,5 "
     ]
    },
    {
     "name": "stdout",
     "output_type": "stream",
     "text": [
      "\r",
      "coadd 8,6 "
     ]
    },
    {
     "name": "stdout",
     "output_type": "stream",
     "text": [
      "\r",
      "1266 8,6 "
     ]
    },
    {
     "name": "stdout",
     "output_type": "stream",
     "text": [
      "\r",
      "1304 8,6 "
     ]
    },
    {
     "name": "stdout",
     "output_type": "stream",
     "text": [
      "\r",
      "coadd 8,7 "
     ]
    },
    {
     "name": "stdout",
     "output_type": "stream",
     "text": [
      "\r",
      "1266 8,7 "
     ]
    },
    {
     "name": "stdout",
     "output_type": "stream",
     "text": [
      "\r",
      "1304 8,7 "
     ]
    },
    {
     "name": "stdout",
     "output_type": "stream",
     "text": [
      "\r",
      "coadd 8,8 "
     ]
    },
    {
     "name": "stdout",
     "output_type": "stream",
     "text": [
      "\r",
      "1266 8,8 "
     ]
    },
    {
     "name": "stdout",
     "output_type": "stream",
     "text": [
      "\r",
      "1304 8,8\n"
     ]
    }
   ],
   "source": [
    "patches = set()\n",
    "for i in range(10):\n",
    "    for j in range(10):\n",
    "        patch = '%d,%d' % (i, j)\n",
    "        for myVisit in [None] + myVisits:\n",
    "            try:\n",
    "                if myVisit is None:\n",
    "                    calexp = butler.get('deepCoadd', immediate=True, \n",
    "                                        tract=tract, patch=patch, filter=filter)\n",
    "                else:\n",
    "                    calexp = butler.get('deepCoadd_tempExp', immediate=True, visit=myVisit,\n",
    "                                        tract=tract, patch=patch, filter=filter)\n",
    "\n",
    "                src = butler.get('deepCoadd_src', immediate=True, tract=tract, patch=patch, filter=filter)\n",
    "            except:\n",
    "                continue\n",
    "            #\n",
    "            # A butler bug looks up into _parents to find patches not present in this rerun\n",
    "            #\n",
    "            visitsInPatch = calexp.getInfo().getCoaddInputs().ccds.get('visit')\n",
    "            nVisit = 0\n",
    "            for v in myVisits:\n",
    "                if v in visitsInPatch:\n",
    "                    nVisit += 1\n",
    "            if nVisit == 0:\n",
    "                continue\n",
    "            \n",
    "            key = makeKey(patch, myVisit)\n",
    "            calexpInfo[key] = pipeBase.Struct(calexp=calexp if display else None,\n",
    "                                              bbox=calexp.getBBox(afwImage.PARENT),\n",
    "                                              psf=calexp.getPsf(),\n",
    "                                              xy0=calexp.getXY0(),\n",
    "                                              wcs=calexp.getWcs(), \n",
    "                                              )\n",
    "            srcs[key] = src\n",
    "    \n",
    "            patches.add(patch)\n",
    "            print \"\\r\", patch, myVisit if myVisit else \"coadd\",\n",
    "            sys.stdout.flush()\n",
    "\n",
    "myVisit = None"
   ]
  },
  {
   "cell_type": "code",
   "execution_count": 85,
   "metadata": {
    "collapsed": false
   },
   "outputs": [
    {
     "name": "stdout",
     "output_type": "stream",
     "text": [
      "\r",
      "1266 0 "
     ]
    },
    {
     "name": "stdout",
     "output_type": "stream",
     "text": [
      "\r",
      "1266 1 "
     ]
    },
    {
     "name": "stdout",
     "output_type": "stream",
     "text": [
      "\r",
      "1266 2 "
     ]
    },
    {
     "name": "stdout",
     "output_type": "stream",
     "text": [
      "\r",
      "1266 3 "
     ]
    },
    {
     "name": "stdout",
     "output_type": "stream",
     "text": [
      "\r",
      "1266 4 "
     ]
    },
    {
     "name": "stdout",
     "output_type": "stream",
     "text": [
      "\r",
      "1266 5 "
     ]
    },
    {
     "name": "stdout",
     "output_type": "stream",
     "text": [
      "\r",
      "1266 6 "
     ]
    },
    {
     "name": "stdout",
     "output_type": "stream",
     "text": [
      "\r",
      "1266 7 "
     ]
    },
    {
     "name": "stdout",
     "output_type": "stream",
     "text": [
      "\r",
      "1266 8 "
     ]
    },
    {
     "name": "stdout",
     "output_type": "stream",
     "text": [
      "\r",
      "1266 9 "
     ]
    },
    {
     "name": "stdout",
     "output_type": "stream",
     "text": [
      "\r",
      "1266 10 "
     ]
    },
    {
     "name": "stdout",
     "output_type": "stream",
     "text": [
      "\r",
      "1266 11 "
     ]
    },
    {
     "name": "stdout",
     "output_type": "stream",
     "text": [
      "\r",
      "1266 12 "
     ]
    },
    {
     "name": "stdout",
     "output_type": "stream",
     "text": [
      "\r",
      "1266 13 "
     ]
    },
    {
     "name": "stdout",
     "output_type": "stream",
     "text": [
      "\r",
      "1266 14 "
     ]
    },
    {
     "name": "stdout",
     "output_type": "stream",
     "text": [
      "\r",
      "1266 15 "
     ]
    },
    {
     "name": "stdout",
     "output_type": "stream",
     "text": [
      "\r",
      "1266 16 "
     ]
    },
    {
     "name": "stdout",
     "output_type": "stream",
     "text": [
      "\r",
      "1266 17 "
     ]
    },
    {
     "name": "stdout",
     "output_type": "stream",
     "text": [
      "\r",
      "1266 18 "
     ]
    },
    {
     "name": "stdout",
     "output_type": "stream",
     "text": [
      "\r",
      "1266 19 "
     ]
    },
    {
     "name": "stdout",
     "output_type": "stream",
     "text": [
      "\r",
      "1266 20 "
     ]
    },
    {
     "name": "stdout",
     "output_type": "stream",
     "text": [
      "\r",
      "1266 21 "
     ]
    },
    {
     "name": "stdout",
     "output_type": "stream",
     "text": [
      "\r",
      "1266 22 "
     ]
    },
    {
     "name": "stdout",
     "output_type": "stream",
     "text": [
      "\r",
      "1266 23 "
     ]
    },
    {
     "name": "stdout",
     "output_type": "stream",
     "text": [
      "\r",
      "1266 24 "
     ]
    },
    {
     "name": "stdout",
     "output_type": "stream",
     "text": [
      "\r",
      "1266 25 "
     ]
    },
    {
     "name": "stdout",
     "output_type": "stream",
     "text": [
      "\r",
      "1266 26 "
     ]
    },
    {
     "name": "stdout",
     "output_type": "stream",
     "text": [
      "\r",
      "1266 27 "
     ]
    },
    {
     "name": "stdout",
     "output_type": "stream",
     "text": [
      "\r",
      "1266 28 "
     ]
    },
    {
     "name": "stdout",
     "output_type": "stream",
     "text": [
      "\r",
      "1266 29 "
     ]
    },
    {
     "name": "stdout",
     "output_type": "stream",
     "text": [
      "\r",
      "1266 30 "
     ]
    },
    {
     "name": "stdout",
     "output_type": "stream",
     "text": [
      "\r",
      "1266 31 "
     ]
    },
    {
     "name": "stdout",
     "output_type": "stream",
     "text": [
      "\r",
      "1266 32 "
     ]
    },
    {
     "name": "stdout",
     "output_type": "stream",
     "text": [
      "\r",
      "1266 33 "
     ]
    },
    {
     "name": "stdout",
     "output_type": "stream",
     "text": [
      "\r",
      "1266 34 "
     ]
    },
    {
     "name": "stdout",
     "output_type": "stream",
     "text": [
      "\r",
      "1266 35 "
     ]
    },
    {
     "name": "stdout",
     "output_type": "stream",
     "text": [
      "\r",
      "1266 36 "
     ]
    },
    {
     "name": "stdout",
     "output_type": "stream",
     "text": [
      "\r",
      "1266 37 "
     ]
    },
    {
     "name": "stdout",
     "output_type": "stream",
     "text": [
      "\r",
      "1266 38 "
     ]
    },
    {
     "name": "stdout",
     "output_type": "stream",
     "text": [
      "\r",
      "1266 39 "
     ]
    },
    {
     "name": "stdout",
     "output_type": "stream",
     "text": [
      "\r",
      "1266 40 "
     ]
    },
    {
     "name": "stdout",
     "output_type": "stream",
     "text": [
      "\r",
      "1266 41 "
     ]
    },
    {
     "name": "stdout",
     "output_type": "stream",
     "text": [
      "\r",
      "1266 42 "
     ]
    },
    {
     "name": "stdout",
     "output_type": "stream",
     "text": [
      "\r",
      "1266 43 "
     ]
    },
    {
     "name": "stdout",
     "output_type": "stream",
     "text": [
      "\r",
      "1266 44 "
     ]
    },
    {
     "name": "stdout",
     "output_type": "stream",
     "text": [
      "\r",
      "1266 45 "
     ]
    },
    {
     "name": "stdout",
     "output_type": "stream",
     "text": [
      "\r",
      "1266 46 "
     ]
    },
    {
     "name": "stdout",
     "output_type": "stream",
     "text": [
      "\r",
      "1266 47 "
     ]
    },
    {
     "name": "stdout",
     "output_type": "stream",
     "text": [
      "\r",
      "1266 48 "
     ]
    },
    {
     "name": "stdout",
     "output_type": "stream",
     "text": [
      "\r",
      "1266 49 "
     ]
    },
    {
     "name": "stdout",
     "output_type": "stream",
     "text": [
      "\r",
      "1266 50 "
     ]
    },
    {
     "name": "stdout",
     "output_type": "stream",
     "text": [
      "\r",
      "1266 51 "
     ]
    },
    {
     "name": "stdout",
     "output_type": "stream",
     "text": [
      "\r",
      "1266 52 "
     ]
    },
    {
     "name": "stdout",
     "output_type": "stream",
     "text": [
      "\r",
      "1266 53 "
     ]
    },
    {
     "name": "stdout",
     "output_type": "stream",
     "text": [
      "\r",
      "1266 54 "
     ]
    },
    {
     "name": "stdout",
     "output_type": "stream",
     "text": [
      "\r",
      "1266 55 "
     ]
    },
    {
     "name": "stdout",
     "output_type": "stream",
     "text": [
      "\r",
      "1266 56 "
     ]
    },
    {
     "name": "stdout",
     "output_type": "stream",
     "text": [
      "\r",
      "1266 57 "
     ]
    },
    {
     "name": "stdout",
     "output_type": "stream",
     "text": [
      "\r",
      "1266 58 "
     ]
    },
    {
     "name": "stdout",
     "output_type": "stream",
     "text": [
      "\r",
      "1266 59 "
     ]
    },
    {
     "name": "stdout",
     "output_type": "stream",
     "text": [
      "\r",
      "1266 60 "
     ]
    },
    {
     "name": "stdout",
     "output_type": "stream",
     "text": [
      "\r",
      "1266 61 "
     ]
    },
    {
     "name": "stdout",
     "output_type": "stream",
     "text": [
      "\r",
      "1266 62 "
     ]
    },
    {
     "name": "stdout",
     "output_type": "stream",
     "text": [
      "\r",
      "1266 63 "
     ]
    },
    {
     "name": "stdout",
     "output_type": "stream",
     "text": [
      "\r",
      "1266 64 "
     ]
    },
    {
     "name": "stdout",
     "output_type": "stream",
     "text": [
      "\r",
      "1266 65 "
     ]
    },
    {
     "name": "stdout",
     "output_type": "stream",
     "text": [
      "\r",
      "1266 66 "
     ]
    },
    {
     "name": "stdout",
     "output_type": "stream",
     "text": [
      "\r",
      "1266 67 "
     ]
    },
    {
     "name": "stdout",
     "output_type": "stream",
     "text": [
      "\r",
      "1266 68 "
     ]
    },
    {
     "name": "stdout",
     "output_type": "stream",
     "text": [
      "\r",
      "1266 69 "
     ]
    },
    {
     "name": "stdout",
     "output_type": "stream",
     "text": [
      "\r",
      "1266 70 "
     ]
    },
    {
     "name": "stdout",
     "output_type": "stream",
     "text": [
      "\r",
      "1266 71 "
     ]
    },
    {
     "name": "stdout",
     "output_type": "stream",
     "text": [
      "\r",
      "1266 72 "
     ]
    },
    {
     "name": "stdout",
     "output_type": "stream",
     "text": [
      "\r",
      "1266 73 "
     ]
    },
    {
     "name": "stdout",
     "output_type": "stream",
     "text": [
      "\r",
      "1266 74 "
     ]
    },
    {
     "name": "stdout",
     "output_type": "stream",
     "text": [
      "\r",
      "1266 75 "
     ]
    },
    {
     "name": "stdout",
     "output_type": "stream",
     "text": [
      "\r",
      "1266 76 "
     ]
    },
    {
     "name": "stdout",
     "output_type": "stream",
     "text": [
      "\r",
      "1266 77 "
     ]
    },
    {
     "name": "stdout",
     "output_type": "stream",
     "text": [
      "\r",
      "1266 78 "
     ]
    },
    {
     "name": "stdout",
     "output_type": "stream",
     "text": [
      "\r",
      "1266 79 "
     ]
    },
    {
     "name": "stdout",
     "output_type": "stream",
     "text": [
      "\r",
      "1266 80 "
     ]
    },
    {
     "name": "stdout",
     "output_type": "stream",
     "text": [
      "\r",
      "1266 81 "
     ]
    },
    {
     "name": "stdout",
     "output_type": "stream",
     "text": [
      "\r",
      "1266 82 "
     ]
    },
    {
     "name": "stdout",
     "output_type": "stream",
     "text": [
      "\r",
      "1266 83 "
     ]
    },
    {
     "name": "stdout",
     "output_type": "stream",
     "text": [
      "\r",
      "1266 84 "
     ]
    },
    {
     "name": "stdout",
     "output_type": "stream",
     "text": [
      "\r",
      "1266 85 "
     ]
    },
    {
     "name": "stdout",
     "output_type": "stream",
     "text": [
      "\r",
      "1266 86 "
     ]
    },
    {
     "name": "stdout",
     "output_type": "stream",
     "text": [
      "\r",
      "1266 87 "
     ]
    },
    {
     "name": "stdout",
     "output_type": "stream",
     "text": [
      "\r",
      "1266 88 "
     ]
    },
    {
     "name": "stdout",
     "output_type": "stream",
     "text": [
      "\r",
      "1266 89 "
     ]
    },
    {
     "name": "stdout",
     "output_type": "stream",
     "text": [
      "\r",
      "1266 90 "
     ]
    },
    {
     "name": "stdout",
     "output_type": "stream",
     "text": [
      "\r",
      "1266 91 "
     ]
    },
    {
     "name": "stdout",
     "output_type": "stream",
     "text": [
      "\r",
      "1266 92 "
     ]
    },
    {
     "name": "stdout",
     "output_type": "stream",
     "text": [
      "\r",
      "1266 93 "
     ]
    },
    {
     "name": "stdout",
     "output_type": "stream",
     "text": [
      "\r",
      "1266 94 "
     ]
    },
    {
     "name": "stdout",
     "output_type": "stream",
     "text": [
      "\r",
      "1266 95 "
     ]
    },
    {
     "name": "stdout",
     "output_type": "stream",
     "text": [
      "\r",
      "1266 96 "
     ]
    },
    {
     "name": "stdout",
     "output_type": "stream",
     "text": [
      "\r",
      "1266 97 "
     ]
    },
    {
     "name": "stdout",
     "output_type": "stream",
     "text": [
      "\r",
      "1266 98 "
     ]
    },
    {
     "name": "stdout",
     "output_type": "stream",
     "text": [
      "\r",
      "1266 99 "
     ]
    },
    {
     "name": "stdout",
     "output_type": "stream",
     "text": [
      "\r",
      "1266 100 "
     ]
    },
    {
     "name": "stdout",
     "output_type": "stream",
     "text": [
      "\r",
      "1266 101 "
     ]
    },
    {
     "name": "stdout",
     "output_type": "stream",
     "text": [
      "\r",
      "1266 102 "
     ]
    },
    {
     "name": "stdout",
     "output_type": "stream",
     "text": [
      "\r",
      "1266 103 "
     ]
    },
    {
     "name": "stdout",
     "output_type": "stream",
     "text": [
      "\r",
      "1304 0 "
     ]
    },
    {
     "name": "stdout",
     "output_type": "stream",
     "text": [
      "\r",
      "1304 1 "
     ]
    },
    {
     "name": "stdout",
     "output_type": "stream",
     "text": [
      "\r",
      "1304 2 "
     ]
    },
    {
     "name": "stdout",
     "output_type": "stream",
     "text": [
      "\r",
      "1304 3 "
     ]
    },
    {
     "name": "stdout",
     "output_type": "stream",
     "text": [
      "\r",
      "1304 4 "
     ]
    },
    {
     "name": "stdout",
     "output_type": "stream",
     "text": [
      "\r",
      "1304 5 "
     ]
    },
    {
     "name": "stdout",
     "output_type": "stream",
     "text": [
      "\r",
      "1304 6 "
     ]
    },
    {
     "name": "stdout",
     "output_type": "stream",
     "text": [
      "\r",
      "1304 7 "
     ]
    },
    {
     "name": "stdout",
     "output_type": "stream",
     "text": [
      "\r",
      "1304 8 "
     ]
    },
    {
     "name": "stdout",
     "output_type": "stream",
     "text": [
      "\r",
      "1304 9 "
     ]
    },
    {
     "name": "stdout",
     "output_type": "stream",
     "text": [
      "\r",
      "1304 10 "
     ]
    },
    {
     "name": "stdout",
     "output_type": "stream",
     "text": [
      "\r",
      "1304 11 "
     ]
    },
    {
     "name": "stdout",
     "output_type": "stream",
     "text": [
      "\r",
      "1304 12 "
     ]
    },
    {
     "name": "stdout",
     "output_type": "stream",
     "text": [
      "\r",
      "1304 13 "
     ]
    },
    {
     "name": "stdout",
     "output_type": "stream",
     "text": [
      "\r",
      "1304 14 "
     ]
    },
    {
     "name": "stdout",
     "output_type": "stream",
     "text": [
      "\r",
      "1304 15 "
     ]
    },
    {
     "name": "stdout",
     "output_type": "stream",
     "text": [
      "\r",
      "1304 16 "
     ]
    },
    {
     "name": "stdout",
     "output_type": "stream",
     "text": [
      "\r",
      "1304 17 "
     ]
    },
    {
     "name": "stdout",
     "output_type": "stream",
     "text": [
      "\r",
      "1304 18 "
     ]
    },
    {
     "name": "stdout",
     "output_type": "stream",
     "text": [
      "\r",
      "1304 19 "
     ]
    },
    {
     "name": "stdout",
     "output_type": "stream",
     "text": [
      "\r",
      "1304 20 "
     ]
    },
    {
     "name": "stdout",
     "output_type": "stream",
     "text": [
      "\r",
      "1304 21 "
     ]
    },
    {
     "name": "stdout",
     "output_type": "stream",
     "text": [
      "\r",
      "1304 22 "
     ]
    },
    {
     "name": "stdout",
     "output_type": "stream",
     "text": [
      "\r",
      "1304 23 "
     ]
    },
    {
     "name": "stdout",
     "output_type": "stream",
     "text": [
      "\r",
      "1304 24 "
     ]
    },
    {
     "name": "stdout",
     "output_type": "stream",
     "text": [
      "\r",
      "1304 25 "
     ]
    },
    {
     "name": "stdout",
     "output_type": "stream",
     "text": [
      "\r",
      "1304 26 "
     ]
    },
    {
     "name": "stdout",
     "output_type": "stream",
     "text": [
      "\r",
      "1304 27 "
     ]
    },
    {
     "name": "stdout",
     "output_type": "stream",
     "text": [
      "\r",
      "1304 28 "
     ]
    },
    {
     "name": "stdout",
     "output_type": "stream",
     "text": [
      "\r",
      "1304 29 "
     ]
    },
    {
     "name": "stdout",
     "output_type": "stream",
     "text": [
      "\r",
      "1304 30 "
     ]
    },
    {
     "name": "stdout",
     "output_type": "stream",
     "text": [
      "\r",
      "1304 31 "
     ]
    },
    {
     "name": "stdout",
     "output_type": "stream",
     "text": [
      "\r",
      "1304 32 "
     ]
    },
    {
     "name": "stdout",
     "output_type": "stream",
     "text": [
      "\r",
      "1304 33 "
     ]
    },
    {
     "name": "stdout",
     "output_type": "stream",
     "text": [
      "\r",
      "1304 34 "
     ]
    },
    {
     "name": "stdout",
     "output_type": "stream",
     "text": [
      "\r",
      "1304 35 "
     ]
    },
    {
     "name": "stdout",
     "output_type": "stream",
     "text": [
      "\r",
      "1304 36 "
     ]
    },
    {
     "name": "stdout",
     "output_type": "stream",
     "text": [
      "\r",
      "1304 37 "
     ]
    },
    {
     "name": "stdout",
     "output_type": "stream",
     "text": [
      "\r",
      "1304 38 "
     ]
    },
    {
     "name": "stdout",
     "output_type": "stream",
     "text": [
      "\r",
      "1304 39 "
     ]
    },
    {
     "name": "stdout",
     "output_type": "stream",
     "text": [
      "\r",
      "1304 40 "
     ]
    },
    {
     "name": "stdout",
     "output_type": "stream",
     "text": [
      "\r",
      "1304 41 "
     ]
    },
    {
     "name": "stdout",
     "output_type": "stream",
     "text": [
      "\r",
      "1304 42 "
     ]
    },
    {
     "name": "stdout",
     "output_type": "stream",
     "text": [
      "\r",
      "1304 43 "
     ]
    },
    {
     "name": "stdout",
     "output_type": "stream",
     "text": [
      "\r",
      "1304 44 "
     ]
    },
    {
     "name": "stdout",
     "output_type": "stream",
     "text": [
      "\r",
      "1304 45 "
     ]
    },
    {
     "name": "stdout",
     "output_type": "stream",
     "text": [
      "\r",
      "1304 46 "
     ]
    },
    {
     "name": "stdout",
     "output_type": "stream",
     "text": [
      "\r",
      "1304 47 "
     ]
    },
    {
     "name": "stdout",
     "output_type": "stream",
     "text": [
      "\r",
      "1304 48 "
     ]
    },
    {
     "name": "stdout",
     "output_type": "stream",
     "text": [
      "\r",
      "1304 49 "
     ]
    },
    {
     "name": "stdout",
     "output_type": "stream",
     "text": [
      "\r",
      "1304 50 "
     ]
    },
    {
     "name": "stdout",
     "output_type": "stream",
     "text": [
      "\r",
      "1304 51 "
     ]
    },
    {
     "name": "stdout",
     "output_type": "stream",
     "text": [
      "\r",
      "1304 52 "
     ]
    },
    {
     "name": "stdout",
     "output_type": "stream",
     "text": [
      "\r",
      "1304 53 "
     ]
    },
    {
     "name": "stdout",
     "output_type": "stream",
     "text": [
      "\r",
      "1304 54 "
     ]
    },
    {
     "name": "stdout",
     "output_type": "stream",
     "text": [
      "\r",
      "1304 55 "
     ]
    },
    {
     "name": "stdout",
     "output_type": "stream",
     "text": [
      "\r",
      "1304 56 "
     ]
    },
    {
     "name": "stdout",
     "output_type": "stream",
     "text": [
      "\r",
      "1304 57 "
     ]
    },
    {
     "name": "stdout",
     "output_type": "stream",
     "text": [
      "\r",
      "1304 58 "
     ]
    },
    {
     "name": "stdout",
     "output_type": "stream",
     "text": [
      "\r",
      "1304 59 "
     ]
    },
    {
     "name": "stdout",
     "output_type": "stream",
     "text": [
      "\r",
      "1304 60 "
     ]
    },
    {
     "name": "stdout",
     "output_type": "stream",
     "text": [
      "\r",
      "1304 61 "
     ]
    },
    {
     "name": "stdout",
     "output_type": "stream",
     "text": [
      "\r",
      "1304 62 "
     ]
    },
    {
     "name": "stdout",
     "output_type": "stream",
     "text": [
      "\r",
      "1304 63 "
     ]
    },
    {
     "name": "stdout",
     "output_type": "stream",
     "text": [
      "\r",
      "1304 64 "
     ]
    },
    {
     "name": "stdout",
     "output_type": "stream",
     "text": [
      "\r",
      "1304 65 "
     ]
    },
    {
     "name": "stdout",
     "output_type": "stream",
     "text": [
      "\r",
      "1304 66 "
     ]
    },
    {
     "name": "stdout",
     "output_type": "stream",
     "text": [
      "\r",
      "1304 67 "
     ]
    },
    {
     "name": "stdout",
     "output_type": "stream",
     "text": [
      "\r",
      "1304 68 "
     ]
    },
    {
     "name": "stdout",
     "output_type": "stream",
     "text": [
      "\r",
      "1304 69 "
     ]
    },
    {
     "name": "stdout",
     "output_type": "stream",
     "text": [
      "\r",
      "1304 70 "
     ]
    },
    {
     "name": "stdout",
     "output_type": "stream",
     "text": [
      "\r",
      "1304 71 "
     ]
    },
    {
     "name": "stdout",
     "output_type": "stream",
     "text": [
      "\r",
      "1304 72 "
     ]
    },
    {
     "name": "stdout",
     "output_type": "stream",
     "text": [
      "\r",
      "1304 73 "
     ]
    },
    {
     "name": "stdout",
     "output_type": "stream",
     "text": [
      "\r",
      "1304 74 "
     ]
    },
    {
     "name": "stdout",
     "output_type": "stream",
     "text": [
      "\r",
      "1304 75 "
     ]
    },
    {
     "name": "stdout",
     "output_type": "stream",
     "text": [
      "\r",
      "1304 76 "
     ]
    },
    {
     "name": "stdout",
     "output_type": "stream",
     "text": [
      "\r",
      "1304 77 "
     ]
    },
    {
     "name": "stdout",
     "output_type": "stream",
     "text": [
      "\r",
      "1304 78 "
     ]
    },
    {
     "name": "stdout",
     "output_type": "stream",
     "text": [
      "\r",
      "1304 79 "
     ]
    },
    {
     "name": "stdout",
     "output_type": "stream",
     "text": [
      "\r",
      "1304 80 "
     ]
    },
    {
     "name": "stdout",
     "output_type": "stream",
     "text": [
      "\r",
      "1304 81 "
     ]
    },
    {
     "name": "stdout",
     "output_type": "stream",
     "text": [
      "\r",
      "1304 82 "
     ]
    },
    {
     "name": "stdout",
     "output_type": "stream",
     "text": [
      "\r",
      "1304 83 "
     ]
    },
    {
     "name": "stdout",
     "output_type": "stream",
     "text": [
      "\r",
      "1304 84 "
     ]
    },
    {
     "name": "stdout",
     "output_type": "stream",
     "text": [
      "\r",
      "1304 85 "
     ]
    },
    {
     "name": "stdout",
     "output_type": "stream",
     "text": [
      "\r",
      "1304 86 "
     ]
    },
    {
     "name": "stdout",
     "output_type": "stream",
     "text": [
      "\r",
      "1304 87 "
     ]
    },
    {
     "name": "stdout",
     "output_type": "stream",
     "text": [
      "\r",
      "1304 88 "
     ]
    },
    {
     "name": "stdout",
     "output_type": "stream",
     "text": [
      "\r",
      "1304 89 "
     ]
    },
    {
     "name": "stdout",
     "output_type": "stream",
     "text": [
      "\r",
      "1304 90 "
     ]
    },
    {
     "name": "stdout",
     "output_type": "stream",
     "text": [
      "\r",
      "1304 91 "
     ]
    },
    {
     "name": "stdout",
     "output_type": "stream",
     "text": [
      "\r",
      "1304 92 "
     ]
    },
    {
     "name": "stdout",
     "output_type": "stream",
     "text": [
      "\r",
      "1304 93 "
     ]
    },
    {
     "name": "stdout",
     "output_type": "stream",
     "text": [
      "\r",
      "1304 94 "
     ]
    },
    {
     "name": "stdout",
     "output_type": "stream",
     "text": [
      "\r",
      "1304 95 "
     ]
    },
    {
     "name": "stdout",
     "output_type": "stream",
     "text": [
      "\r",
      "1304 96 "
     ]
    },
    {
     "name": "stdout",
     "output_type": "stream",
     "text": [
      "\r",
      "1304 97 "
     ]
    },
    {
     "name": "stdout",
     "output_type": "stream",
     "text": [
      "\r",
      "1304 98 "
     ]
    },
    {
     "name": "stdout",
     "output_type": "stream",
     "text": [
      "\r",
      "1304 99 "
     ]
    },
    {
     "name": "stdout",
     "output_type": "stream",
     "text": [
      "\r",
      "1304 100 "
     ]
    },
    {
     "name": "stdout",
     "output_type": "stream",
     "text": [
      "\r",
      "1304 101 "
     ]
    },
    {
     "name": "stdout",
     "output_type": "stream",
     "text": [
      "\r",
      "1304 102 "
     ]
    },
    {
     "name": "stdout",
     "output_type": "stream",
     "text": [
      "\r",
      "1304 103\n"
     ]
    }
   ],
   "source": [
    "ccds = set()\n",
    "for myVisit in myVisits:\n",
    "    for ccd in range(104):\n",
    "        if ccd >= 100:\n",
    "            continue          # the bounding boxes are weird for 100--103 for reasons I haven't sorted out\n",
    "\n",
    "        try:\n",
    "            calexp = butler.get('calexp', immediate=True, visit=myVisit, ccd=ccd)\n",
    "            src = butler.get('src', immediate=True, visit=myVisit, ccd=ccd)\n",
    "        except Exception as e:\n",
    "            print e\n",
    "            continue\n",
    "            \n",
    "        key = makeKey(ccd, myVisit)\n",
    "        calexpInfo[key] = pipeBase.Struct(calexp=calexp if display else None,\n",
    "                                              bbox=calexp.getBBox(afwImage.PARENT),\n",
    "                                              psf=calexp.getPsf(),\n",
    "                                              xy0=calexp.getXY0(),\n",
    "                                              wcs=calexp.getWcs(), \n",
    "                                              )\n",
    "        srcs[key] = src\n",
    "    \n",
    "        ccds.add(ccd)\n",
    "        print \"\\r\", myVisit, ccd,\n",
    "\n",
    "myVisit = None"
   ]
  },
  {
   "cell_type": "code",
   "execution_count": 6,
   "metadata": {
    "collapsed": false
   },
   "outputs": [],
   "source": [
    "# Display on ds9\n",
    "frame0 = 0\n",
    "    \n",
    "for i, patch in enumerate(patches):\n",
    "    key = makeKey(patch, myVisit)\n",
    "\n",
    "    if not calexpInfo[key].calexp:\n",
    "        continue\n",
    "    xy0 = afwGeom.PointD(calexpInfo[key].xy0)\n",
    "    wcs = calexpInfo[key].wcs\n",
    "\n",
    "    ds9.mtv(calexpInfo[key].calexp, title='%d %s %s' % (tract, patch, filter), frame=frame0+i)\n",
    "    with ds9.Buffering():\n",
    "        for s in srcs[key]:\n",
    "            ds9.dot('o', *(wcs.skyToPixel(s.getCoord()) - xy0), frame=frame0+i, ctype=ds9.WHITE)"
   ]
  },
  {
   "cell_type": "markdown",
   "metadata": {},
   "source": [
    "Prepare to measure the PSF models"
   ]
  },
  {
   "cell_type": "code",
   "execution_count": 51,
   "metadata": {
    "collapsed": false
   },
   "outputs": [],
   "source": [
    "from lsst.meas.algorithms.detection import SourceDetectionTask\n",
    "from lsst.meas.algorithms.measurement import SourceMeasurementTask\n",
    "\n",
    "detectionConfig = SourceDetectionTask.ConfigClass()\n",
    "detectionConfig.reEstimateBackground = False\n",
    "\n",
    "measurementConfig = SourceMeasurementTask.ConfigClass()\n",
    "measurementConfig.algorithms['flux.naive'].radius = 20.0 - 2   # subtract a little so ensure that the radius fits in the stamp\n",
    "#\n",
    "# Create the tasks\n",
    "#\n",
    "schema = afwTable.SourceTable.makeMinimalSchema()\n",
    "\n",
    "sourceDetectionTask =   SourceDetectionTask(config=detectionConfig, schema=schema)\n",
    "sourceMeasurementTask = SourceMeasurementTask(config=measurementConfig,\n",
    "                                              schema=schema)\n",
    "try:\n",
    "    SourceDetectionTask.run\n",
    "except AttributeError:\n",
    "    SourceDetectionTask.run = SourceDetectionTask.makeSourceCatalog "
   ]
  },
  {
   "cell_type": "markdown",
   "metadata": {},
   "source": [
    "Create a grid of PSFs"
   ]
  },
  {
   "cell_type": "code",
   "execution_count": 338,
   "metadata": {
    "collapsed": false
   },
   "outputs": [],
   "source": [
    "gridN = [30, 50, 75, 125][2]\n",
    "myVisit = [1266, 1304, None][-1]      # None => coadd\n",
    "byPatch = True\n",
    "\n",
    "if not myVisit and not byPatch:\n",
    "    raise RuntimeError(\"You cannot plot a coadd by CCD\")\n",
    "\n",
    "dataArea = sorted(patches if byPatch else ccds)\n",
    "\n",
    "areaBBox = None\n",
    "wcs0 = None\n",
    "for key in dataArea:\n",
    "    key0 = key\n",
    "    key = makeKey(key, myVisit, keys=calexpInfo.keys())\n",
    "    if not key in calexpInfo:\n",
    "        continue\n",
    "\n",
    "    if wcs0 is None:\n",
    "        wcs0 = calexpInfo[key].wcs\n",
    "    \n",
    "    bbox = calexpInfo[key].bbox\n",
    "    bbox = type(bbox)(bbox)\n",
    "    \n",
    "    if not byPatch:\n",
    "        boxMin = bbox.getMin()\n",
    "        bbox.shift(boxMin - afwGeom.PointI(wcs0.skyToPixel(calexpInfo[key].wcs.pixelToSky(afwGeom.PointD(boxMin)))))\n",
    "\n",
    "    if not areaBBox:\n",
    "        areaBBox = bbox\n",
    "    else:\n",
    "        areaBBox.include(bbox.getMin())\n",
    "        areaBBox.include(bbox.getMax())\n",
    "\n",
    "xsize, ysize = areaBBox.getDimensions()\n",
    "if not byPatch:\n",
    "    areaXY0 = areaBBox.getMin()\n",
    "    areaBBox.shift(afwGeom.ExtentI(-areaXY0[0], -areaXY0[1]))\n",
    "xy0 = areaBBox.getMin()\n",
    "\n",
    "x = xy0[0] + np.linspace(0.5*xsize/gridN, xsize - 0.5*xsize/gridN, gridN)\n",
    "y = xy0[1] + np.linspace(0.5*ysize/gridN, ysize - 0.5*ysize/gridN, gridN)\n",
    "\n",
    "X, Y = np.meshgrid(x, y)\n",
    "X, Y = X.flatten(), Y.flatten()\n",
    "Xdeg, Ydeg = np.empty_like(X), np.empty_like(Y)\n",
    "dx   = np.nan + np.empty_like(X)\n",
    "dy   = np.nan + np.empty_like(dx)\n",
    "dmag = np.nan + np.empty_like(dx)\n",
    "\n",
    "for key in dataArea:\n",
    "    key = makeKey(key, myVisit)\n",
    "    if not key in calexpInfo:\n",
    "        continue\n",
    "    \n",
    "    bbox = calexpInfo[key].bbox\n",
    "    if not byPatch:\n",
    "        bbox = type(bbox)(bbox)\n",
    "        boxMin = bbox.getMin()\n",
    "        bbox.shift(boxMin - afwGeom.PointI(wcs0.skyToPixel(calexpInfo[key].wcs.pixelToSky(afwGeom.PointD(boxMin)))))\n",
    "        bbox.shift(afwGeom.ExtentI(-areaXY0[0], -areaXY0[1]))\n",
    "    \n",
    "    psf = calexpInfo[key].psf\n",
    "    sigma = psf.computeShape().getDeterminantRadius()\n",
    "\n",
    "    wcs = calexpInfo[key].wcs\n",
    "    pixelScale = wcs.pixelScale().asArcseconds()\n",
    "\n",
    "    for i, xy in enumerate(zip(X, Y)):\n",
    "        if not bbox.contains(afwGeom.PointI(afwGeom.PointD(*xy))):\n",
    "            continue\n",
    "\n",
    "        x, y = xy\n",
    "        xc = xy if byPatch else (x - bbox.getMinX(), y - bbox.getMinY())\n",
    "\n",
    "        Xdeg[i], Ydeg[i] = [_.asDegrees() for _ in wcs.pixelToSky(afwGeom.PointD(*xc))]\n",
    "\n",
    "        xc = afwGeom.PointD(*xc)\n",
    "        try:\n",
    "           im = psf.computeImage(xc).convertF()\n",
    "        except pexExcept.LsstCppException as e:\n",
    "            #print key, bbox, e\n",
    "            continue\n",
    "            \n",
    "        #\n",
    "        # Make a slightly-larger image so that we'll be able to\n",
    "        # measure it using our PSF\n",
    "        #\n",
    "        if True:\n",
    "            ngrow = 3\n",
    "            _bbox = im.getBBox(afwImage.PARENT)\n",
    "            #bbox = type(bbox)(bbox)\n",
    "            _bbox.grow(ngrow)\n",
    "            bim = im.Factory(_bbox)\n",
    "            bim[ngrow:-ngrow, ngrow:-ngrow] = im\n",
    "\n",
    "        exp = afwImage.makeExposure(afwImage.makeMaskedImage(bim))\n",
    "        exp.setPsf(psf)\n",
    "        tab = afwTable.SourceTable.make(schema)\n",
    "        \n",
    "        #ds9.mtv(exp, title=\"%d,%d\" % (int(xy[0]), int(xy[1])))\n",
    "        result = sourceDetectionTask.run(tab, exp, sigma=sigma)\n",
    "        sourceMeasurementTask.measure(exp, result.sources)\n",
    "\n",
    "        dc = result.sources[0].getCentroid() - xc\n",
    "        dx[i] = pixelScale*dc[0]\n",
    "        dy[i] = pixelScale*dc[1]\n",
    "    \n",
    "        dmag[i] = result.sources[0].getCalibFlux()\n",
    "\n",
    "dmag = -2.5*np.log10(dmag)"
   ]
  },
  {
   "cell_type": "code",
   "execution_count": 339,
   "metadata": {
    "collapsed": false
   },
   "outputs": [
    {
     "data": {
      "image/png": "[encoded data removed]",
      "text/plain": [
       "<matplotlib.figure.Figure at 0x2ae627ce5310>"
      ]
     },
     "metadata": {},
     "output_type": "display_data"
    }
   ],
   "source": [
    "Q = plt.scatter(Xdeg, Ydeg, c=dmag, s=5, norm=pyplot.Normalize(0.0, 0.07),\n",
    "                edgecolors=\"none\")\n",
    "cb = plt.colorbar()\n",
    "cb.ax.get_yaxis().labelpad = 15\n",
    "cb.set_label('$\\Delta$ PSF Magnitude', rotation=270)\n",
    "\n",
    "plt.axes().set_aspect(\"equal\")\n",
    "plt.xlim(213.8, 215.2)\n",
    "plt.ylim(0.2, 1.6)\n",
    "\n",
    "if byPatch:\n",
    "    drawPatches(calexpInfo, patches)\n",
    "else:\n",
    "    drawCcds(calexpInfo, ccds)\n",
    "\n",
    "plt.xlabel(\"Ra (degrees)\")\n",
    "plt.ylabel(\"Dec (degrees)\")\n",
    "plt.title(\"%s%s%s %s\" % ((\"Tract %d\" % tract) if byPatch else \"\", \n",
    "                         ((\" %s\" % calexpInfo.keys()[0]) if len(calexpInfo.keys()) == 1 else \"\"), \n",
    "                         (\" visit %d\" % myVisit if myVisit else \"\"),\n",
    "                         filter[-1:].lower()))\n",
    "\n",
    "plt.savefig('psfFlux%s.pdf' % ((\"-%d\" % myVisit) if myVisit else \"\"))"
   ]
  },
  {
   "cell_type": "code",
   "execution_count": 340,
   "metadata": {
    "collapsed": false
   },
   "outputs": [
    {
     "data": {
      "image/png": "[encoded data removed]",
      "text/plain": [
       "<matplotlib.figure.Figure at 0x2ae627de6510>"
      ]
     },
     "metadata": {},
     "output_type": "display_data"
    }
   ],
   "source": [
    "pivot='middle'\n",
    "width=None # 5e-4\n",
    "labelLen = 0.005\n",
    "scale = 5*labelLen                  # larger => smaller arrows\n",
    "\n",
    "vlen = np.hypot(dx, dy)\n",
    "good = vlen < 3*labelLen\n",
    "\n",
    "Q = plt.quiver(Xdeg[good], Ydeg[good], dx[good], dy[good], vlen[good], norm=pyplot.Normalize(0, 2*labelLen),\n",
    "               #color=plt.cm.jet, \n",
    "               units='xy', scale_units='xy',\n",
    "               width=width, pivot=pivot, scale=scale, \n",
    "               edgecolor=\"none\",\n",
    "               #headlength=1.5, headwidth=2.5, headaxislength=2.25,\n",
    "               )\n",
    "cb = plt.colorbar()\n",
    "cb.ax.get_yaxis().labelpad = 15\n",
    "cb.set_label('arcsec', rotation=270)\n",
    "plt.quiverkey(Q, 0.05, 0.05, 2*labelLen, \"%g arcsec\" % (2*labelLen), coordinates='axes',\n",
    "              color='black', labelpos='E')\n",
    "\n",
    "plt.axes().set_aspect(\"equal\")\n",
    "plt.xlim(213.8, 215.2)\n",
    "plt.ylim(0.2, 1.6)\n",
    "\n",
    "if byPatch:\n",
    "    drawPatches(calexpInfo, patches)\n",
    "else:\n",
    "    drawCcds(calexpInfo, ccds)\n",
    "\n",
    "plt.xlabel(\"Ra (degrees)\")\n",
    "plt.ylabel(\"Dec (degrees)\")\n",
    "plt.title(\"%s%s%s %s\" % ((\"Tract %d\" % tract) if byPatch else \"\",\n",
    "                             ((\" %s\" % calexpInfo.keys()[0]) if len(calexpInfo.keys()) == 1 else \"\"), \n",
    "                              (\" visit %d\" % myVisit if myVisit else \"\"),\n",
    "                              filter[-1:].lower()))\n",
    "\n",
    "plt.savefig('psfOffsets%s.pdf' % ((\"-%d\" % myVisit) if myVisit else \"\"))"
   ]
  },
  {
   "cell_type": "code",
   "execution_count": null,
   "metadata": {
    "collapsed": false
   },
   "outputs": [],
   "source": []
  }
 ],
 "metadata": {},
 "nbformat": 4,
 "nbformat_minor": 0
}

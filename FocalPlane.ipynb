{
 "cells": [
  {
   "cell_type": "markdown",
   "metadata": {},
   "source": [
    "Convert CCD pixels to focal plane coordinates.\n",
    "\n",
    "N.b.  this is the \"old\" way of doing things, that's still the HSC way.  This will change in the next few months"
   ]
  },
  {
   "cell_type": "code",
   "execution_count": 6,
   "metadata": {
    "collapsed": false
   },
   "outputs": [],
   "source": [
    "import lsst.daf.persistence as dafPersist\n",
    "import lsst.afw.geom as afwGeom"
   ]
  },
  {
   "cell_type": "markdown",
   "metadata": {},
   "source": [
    "Obtain a butler able to read data from disk.  You'll have to find your own root directory (I use $SUPRIME_DATA_DIR)"
   ]
  },
  {
   "cell_type": "code",
   "execution_count": 7,
   "metadata": {
    "collapsed": false
   },
   "outputs": [],
   "source": [
    "import os\n",
    "#os.environ[\"SUPRIME_DATA_DIR\"] = \"/tigress/HSC/HSC\"\n",
    "dataPath = os.path.join(os.environ[\"SUPRIME_DATA_DIR\"], \"rerun\", \"production-20151224\")\n",
    "\n",
    "butler = dafPersist.Butler(dataPath)"
   ]
  },
  {
   "cell_type": "markdown",
   "metadata": {},
   "source": [
    "Now go through each science-grade CCD asking for the mapping from pixel (xp, yp) to focal plane coordinates.  \n",
    "\n",
    "We ask for the focal plane coordinates in units of mm, but Furusawa-san preferred to set up the geometry in units of pixels, so multiply by 15e-3 to get real mm (15 micron pixels)"
   ]
  },
  {
   "cell_type": "code",
   "execution_count": 13,
   "metadata": {
    "collapsed": false
   },
   "outputs": [
    {
     "name": "stdout",
     "output_type": "stream",
     "text": [
      "0 1_53 207.5637 -130.75185\n",
      "1 1_54 207.56625 -63.57315\n",
      "2 1_55 207.57165 3.54945\n",
      "3 1_56 207.561 70.7124\n",
      "4 1_42 175.6953 -197.87565\n",
      "5 1_43 175.704 -130.731\n",
      "6 1_44 175.7115 -63.58635\n",
      "7 1_45 175.7586 3.5316\n",
      "8 1_46 175.7235 70.71945\n",
      "9 1_47 175.7175 137.8527\n",
      "10 1_36 143.86155 -197.8644\n",
      "11 1_37 143.8884 -130.74975\n",
      "12 1_38 143.8599 -63.52695\n",
      "13 1_39 143.85075 3.5592\n",
      "14 1_40 143.91615 70.69125\n",
      "15 1_41 143.87895 137.84865\n",
      "16 0_30 111.98805 -194.53605\n",
      "17 0_29 112.0005 -127.3416\n",
      "18 0_28 112.01745 -60.2262\n",
      "19 1_32 112.0371 3.54435\n",
      "20 1_33 112.0104 70.7112\n",
      "21 1_34 112.0788 137.80695\n",
      "22 0_27 80.1336 -261.61425\n",
      "23 0_26 80.19345 -194.4933\n",
      "24 0_25 80.19825 -127.3455\n",
      "25 0_24 80.18295 -60.18105\n",
      "26 1_00 80.1906 3.5415\n",
      "27 1_01 80.2056 70.70565\n",
      "28 1_02 80.2458 137.82675\n",
      "29 1_03 80.1762 204.99495\n",
      "30 0_23 48.33615 -261.61965\n",
      "31 0_22 48.3033 -194.5098\n",
      "32 0_21 48.29685 -127.359\n",
      "33 0_20 48.36135 -60.204\n",
      "34 1_04 48.3381 3.54225\n",
      "35 1_05 48.32205 70.704\n",
      "36 1_06 48.35505 137.82645\n",
      "37 1_07 48.3351 204.99915\n",
      "38 0_19 16.47795 -261.6207\n",
      "39 0_18 16.4421 -194.47335\n",
      "40 0_17 16.4742 -127.34205\n",
      "41 0_16 16.4928 -60.1716\n",
      "42 1_08 16.52775 3.54885\n",
      "43 1_09 16.5027 70.71015\n",
      "44 1_10 16.5123 137.8635\n",
      "45 1_11 16.50135 204.9918\n",
      "46 0_15 -15.3768 -261.6285\n",
      "47 0_14 -15.3972 -194.4843\n",
      "48 0_13 -15.3624 -127.35225\n",
      "49 0_12 -15.3483 -60.1989\n",
      "50 1_12 -15.342 3.5697\n",
      "51 1_13 -15.318 70.6977\n",
      "52 1_14 -15.35475 137.88345\n",
      "53 1_15 -15.33405 204.9828\n",
      "54 0_11 -47.2134 -261.6378\n",
      "55 0_10 -47.2278 -194.47635\n",
      "56 0_09 -47.19255 -127.3272\n",
      "57 0_08 -47.20995 -60.21435\n",
      "58 1_16 -47.18055 3.5571\n",
      "59 1_17 -47.17605 70.72605\n",
      "60 1_18 -47.1498 137.86725\n",
      "61 1_19 -47.17905 205.00095\n",
      "62 0_07 -79.0296 -261.62955\n",
      "63 0_06 -79.0677 -194.48595\n",
      "64 0_05 -79.05915 -127.3179\n",
      "65 0_04 -79.04145 -60.18405\n",
      "66 1_20 -79.0248 3.567\n",
      "67 1_21 -79.02075 70.743\n",
      "68 1_22 -79.0197 137.8464\n",
      "69 1_23 -79.0122 205.0035\n",
      "70 0_03 -110.9508 -261.60705\n",
      "71 0_02 -110.90205 -194.481\n",
      "72 0_01 -110.8749 -127.32735\n",
      "73 0_00 -110.9187 -60.2103\n",
      "74 1_24 -110.8656 3.5793\n",
      "75 1_25 -110.87265 70.7409\n",
      "76 1_26 -110.8857 137.88735\n",
      "77 1_27 -110.8629 205.0083\n",
      "78 0_34 -142.71285 -194.5143\n",
      "79 0_33 -142.72335 -127.3116\n",
      "80 0_32 -142.72665 -60.1737\n",
      "81 1_28 -142.74135 3.6129\n",
      "82 1_29 -142.731 70.71675\n",
      "83 1_30 -142.71615 137.85975\n",
      "84 0_41 -174.56865 -194.4762\n",
      "85 0_40 -174.57225 -127.32765\n",
      "86 0_39 -174.58755 -60.15\n",
      "87 0_38 -174.62235 6.93345\n",
      "88 0_37 -174.594 74.10945\n",
      "89 0_36 -174.57 141.2439\n",
      "90 0_47 -206.42085 -194.445\n",
      "91 0_46 -206.43015 -127.3272\n",
      "92 0_45 -206.41875 -60.16245\n",
      "93 0_44 -206.4498 6.9615\n",
      "94 0_43 -206.4096 74.133\n",
      "95 0_42 -206.4033 141.2514\n",
      "96 0_56 -238.2765 -127.3329\n",
      "97 0_55 -238.27845 -60.162\n",
      "98 0_54 -238.29735 6.98205\n",
      "99 0_53 -238.2936 74.14665\n"
     ]
    }
   ],
   "source": [
    "for ccd in range(100):\n",
    "    raw = butler.get('raw', visit=23692, ccd=ccd)\n",
    "    det = raw.getDetector()\n",
    "    \n",
    "    xp, yp = 0, 0\n",
    "    xfp, yfp = [15e-3*_ for _ in det.getPositionFromPixel(afwGeom.PointD(xp, yp)).getMm()]\n",
    "    print ccd, det.getId().getName(), xfp, yfp"
   ]
  }
 ],
 "metadata": {
  "kernelspec": {
   "display_name": "Python 2",
   "language": "python",
   "name": "python2"
  },
  "language_info": {
   "codemirror_mode": {
    "name": "ipython",
    "version": 2
   },
   "file_extension": ".py",
   "mimetype": "text/x-python",
   "name": "python",
   "nbconvert_exporter": "python",
   "pygments_lexer": "ipython2",
   "version": "2.7.10"
  }
 },
 "nbformat": 4,
 "nbformat_minor": 0
}

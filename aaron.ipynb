{
 "cells": [
  {
   "cell_type": "code",
   "execution_count": 2,
   "metadata": {},
   "outputs": [],
   "source": [
    "import os\n",
    "import numpy as np\n",
    "import matplotlib.pyplot as plt\n",
    "%matplotlib ipympl\n",
    "plt.rcParams['figure.figsize'] = [7, 6]\n",
    "\n",
    "import lsst.daf.persistence as dafPersist\n",
    "import lsst.afw.display as afwDisplay\n",
    "import lsst.afw.display.utils as afwDisplayUtils\n",
    "import lsst.afw.geom as afwGeom\n",
    "import lsst.afw.math as afwMath\n",
    "import lsst.afw.cameraGeom as cameraGeom\n",
    "import lsst.afw.cameraGeom.utils as cgUtils"
   ]
  },
  {
   "cell_type": "code",
   "execution_count": 3,
   "metadata": {},
   "outputs": [],
   "source": [
    "afwDisplay.setDefaultBackend(\"matplotlib\")"
   ]
  },
  {
   "cell_type": "code",
   "execution_count": 4,
   "metadata": {},
   "outputs": [],
   "source": [
    "if True:\n",
    "    if True:\n",
    "        from lsst.obs.lsst.phosim import PhosimMapper as camMapper\n",
    "    else:\n",
    "        from lsst.obs.lsst import LsstCamMapper as camMapper\n",
    "\n",
    "    dataId = dict(visit=204595, raftName='R11', detectorName='S11')\n",
    "else:\n",
    "    from lsst.obs.lsst.ts8 import Ts8Mapper as camMapper\n",
    "    dataId = dict(raftName='RTM-010', detectorName='S11', visit=201807241028453)\n",
    "    \n",
    "camera = camMapper._makeCamera()"
   ]
  },
  {
   "cell_type": "markdown",
   "metadata": {},
   "source": [
    "#### Get a butler so we can read some images\n",
    "\n",
    "Only needed for this notebook"
   ]
  },
  {
   "cell_type": "code",
   "execution_count": 5,
   "metadata": {},
   "outputs": [],
   "source": [
    "if False:\n",
    "    butler = dafPersist.Butler(os.path.join(\"/project/rhl/Data/testdata_obs_lsst\", \"Outputs\", cameraName, \"rerun/rlupton\", \"tmp\"))\n",
    "else:\n",
    "    butler = None"
   ]
  },
  {
   "cell_type": "markdown",
   "metadata": {},
   "source": [
    "## Routines to read per-amplifier images and convert coordinates to/from CCD pixel coordinates"
   ]
  },
  {
   "cell_type": "code",
   "execution_count": 6,
   "metadata": {},
   "outputs": [],
   "source": [
    "from lsst.obs.lsst.cameraTransforms import LsstCameraTransforms, channelToAmp, getAmpImage"
   ]
  },
  {
   "cell_type": "markdown",
   "metadata": {},
   "source": [
    "### Setup some DM stuff that the butler would usually handle\n",
    "\n",
    "Note that we need a camera to initialise the LsstCameraTransforms\n"
   ]
  },
  {
   "cell_type": "code",
   "execution_count": 7,
   "metadata": {},
   "outputs": [],
   "source": [
    "raftName, detectorName = dataId[\"raftName\"], dataId[\"detectorName\"]\n",
    "detectorName = \"%s_%s\" % (raftName, detectorName)\n",
    "\n",
    "lct = LsstCameraTransforms(camera)"
   ]
  },
  {
   "cell_type": "markdown",
   "metadata": {},
   "source": [
    "#### Get a DM detector and ask it about itself"
   ]
  },
  {
   "cell_type": "code",
   "execution_count": 8,
   "metadata": {},
   "outputs": [
    {
     "name": "stdout",
     "output_type": "stream",
     "text": [
      "R11_S11 DetectorType.SCIENCE ITL ITL-3800C-017-Dev\n"
     ]
    }
   ],
   "source": [
    "det = lct.getDetector(detectorName)\n",
    "print(det.getName(), det.getType(), det.getPhysicalType(), det.getSerial())"
   ]
  },
  {
   "cell_type": "markdown",
   "metadata": {},
   "source": [
    "#### Convert some CCD coordinates to amp coordinates\n",
    "\n",
    "Validate this by looking at some images with recognisable pixels"
   ]
  },
  {
   "cell_type": "code",
   "execution_count": 13,
   "metadata": {},
   "outputs": [],
   "source": [
    "# Choose some pixels to check by eye\n",
    "if camera.getName() == \"ts8\":\n",
    "    if False:\n",
    "        cx, cy = 1543, 2022   # C03\n",
    "    elif False:\n",
    "        cx, cy = 2942, 2035   # C05\n",
    "    else:\n",
    "        cx, cy = 2682, 1969   # C15\n",
    "elif camera.getName() in (\"lsstCam\", \"phosim\",):\n",
    "    if False:\n",
    "        cx, cy = 3805, 3708   # C07\n",
    "    elif True:\n",
    "        cx, cy = 3332, 1147   # C16\n",
    "else:\n",
    "    raise NameError(camera.getName())\n",
    "\n",
    "#\n",
    "# Convert from the CCD coordinates to per-amp coordinates\n",
    "#\n",
    "channel, ampX, ampY = lct.ccdPixelToAmpPixel(cx, cy, detectorName)\n",
    "\n",
    "if butler is not None:\n",
    "    #\n",
    "    # Read the raw amp data, assuming that the butler isn't adding any information\n",
    "    #\n",
    "    rawa = getAmpImage(butler, dataId, channel)\n",
    "\n",
    "    #\n",
    "    # Display the amp image, showing the selected point\n",
    "    #\n",
    "    disp = afwDisplay.Display(4, reopenPlot=True)\n",
    "\n",
    "    stats = afwMath.makeStatistics(rawa.image, afwMath.MEDIAN | afwMath.STDEVCLIP)\n",
    "    med = stats.getValue(afwMath.MEDIAN)\n",
    "    std = stats.getValue(afwMath.STDEVCLIP)\n",
    "    disp.scale('linear', med - 1*std, med + 2*std)\n",
    "\n",
    "    disp.mtv(rawa, title=channelToAmp(lct.getDetector(detectorName), channel).getName())\n",
    "    disp.dot('+', ampX, ampY, ctype=afwDisplay.RED)\n",
    "    disp.zoom(16, ampX, ampY)"
   ]
  },
  {
   "cell_type": "markdown",
   "metadata": {},
   "source": [
    "### Plot the whole focal plane"
   ]
  },
  {
   "cell_type": "code",
   "execution_count": 16,
   "metadata": {},
   "outputs": [
    {
     "data": {
      "application/vnd.jupyter.widget-view+json": {
       "model_id": "dd0ecbe6885b4ab0826454391c606994",
       "version_major": 2,
       "version_minor": 0
      },
      "text/plain": [
       "FigureCanvasNbAgg()"
      ]
     },
     "metadata": {},
     "output_type": "display_data"
    }
   ],
   "source": [
    "plt.close('all')\n",
    "cgUtils.plotFocalPlane(camera)\n",
    "plt.title(camera.getName());"
   ]
  },
  {
   "cell_type": "markdown",
   "metadata": {},
   "source": [
    "#### Convert a CCD position to focal plane coordinates and plot it"
   ]
  },
  {
   "cell_type": "code",
   "execution_count": 17,
   "metadata": {},
   "outputs": [
    {
     "name": "stdout",
     "output_type": "stream",
     "text": [
      "R11_S11 (  -0.500,   -0.500)pix -> (-141.886, -147.043)mm\n",
      "R11_S11 (4071.499, 3999.499)pix -> (-108.730, -100.580)mm\n"
     ]
    }
   ],
   "source": [
    "detectorName = \"%(raftName)s_%(detectorName)s\" % (dataId)\n",
    "\n",
    "for ccdXY, color in [\n",
    "    ((-0.5, -0.5), \"red\"),   # bottom left corner of CCD\n",
    "    (camera[detectorName].getBBox().getEnd() - afwGeom.ExtentD(0.501, 0.501), \"yellow\"),  # top right of CCD\n",
    "    ]:\n",
    "    fpXMm, fpYMm = lct.ccdPixelToFocalMm(*ccdXY, detectorName)\n",
    "\n",
    "    plt.plot(fpXMm, fpYMm, '+', color=color)\n",
    "    print(\"%s (%8.3f, %8.3f)pix -> (%8.3f, %8.3f)mm\" % (detectorName, ccdXY[0], ccdXY[1], fpXMm, fpYMm))"
   ]
  },
  {
   "cell_type": "markdown",
   "metadata": {},
   "source": [
    "#### Demonstrate the reverse mapping;  focal plane back to CCD"
   ]
  },
  {
   "cell_type": "code",
   "execution_count": 18,
   "metadata": {},
   "outputs": [
    {
     "name": "stdout",
     "output_type": "stream",
     "text": [
      "(-108.730, -100.580)mm -> R11_S11 (4071.499, 3999.499)pix\n"
     ]
    }
   ],
   "source": [
    "dname, ccdX, ccdY = lct.focalMmToCcdPixel(fpXMm, fpYMm)\n",
    "print(\"(%.3f, %.3f)mm -> %s (%.3f, %.3f)pix\" % (fpXMm, fpYMm, dname, ccdX, ccdY))"
   ]
  },
  {
   "cell_type": "markdown",
   "metadata": {},
   "source": [
    "#### And focal plane to amplifier"
   ]
  },
  {
   "cell_type": "code",
   "execution_count": 19,
   "metadata": {},
   "outputs": [
    {
     "name": "stdout",
     "output_type": "stream",
     "text": [
      "(-108.730, -100.580)mm -> R11_S11 channel 9 (3.000, 0.000)pix\n"
     ]
    }
   ],
   "source": [
    "dname, channel, ampX, ampY = lct.focalMmToAmpPixel(fpXMm, fpYMm)\n",
    "print(\"(%.3f, %.3f)mm -> %s channel %d (%.3f, %.3f)pix\" % (fpXMm, fpYMm, dname, channel, ampX, ampY))"
   ]
  },
  {
   "cell_type": "code",
   "execution_count": 20,
   "metadata": {},
   "outputs": [],
   "source": [
    "if butler is not None:\n",
    "    #\n",
    "    # Read the raw amp data, assuming that the butler isn't adding any information\n",
    "    #\n",
    "    rawa = getAmpImage(butler, dataId, channel)\n",
    "\n",
    "    #\n",
    "    # Display the amp image, showing the selected point\n",
    "    #\n",
    "    disp = afwDisplay.Display(5, reopenPlot=True)\n",
    "\n",
    "    disp.scale('asinh', 'zscale', Q=2)\n",
    "\n",
    "    disp.mtv(rawa, title=channelToAmp(lct.getDetector(detectorName), channel).getName())\n",
    "    disp.dot('+', ampX, ampY, ctype=afwDisplay.RED)\n",
    "    disp.zoom(32, ampX, ampY)"
   ]
  }
 ],
 "metadata": {
  "kernelspec": {
   "display_name": "LSST",
   "language": "python",
   "name": "lsst"
  },
  "language_info": {
   "codemirror_mode": {
    "name": "ipython",
    "version": 3
   },
   "file_extension": ".py",
   "mimetype": "text/x-python",
   "name": "python",
   "nbconvert_exporter": "python",
   "pygments_lexer": "ipython3",
   "version": "3.7.2"
  }
 },
 "nbformat": 4,
 "nbformat_minor": 2
}

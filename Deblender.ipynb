{
 "cells": [
  {
   "cell_type": "code",
   "execution_count": 1,
   "metadata": {
    "collapsed": false
   },
   "outputs": [],
   "source": [
    "import lsst.daf.persistence as dafPersist\n",
    "import lsst.analysis.deblender as deblender\n",
    "import lsst.afw.display as afwDisplay\n",
    "\n",
    "disp1  = afwDisplay.Display(1)\n",
    "disp2 = afwDisplay.Display(2)\n",
    "\n",
    "%matplotlib inline\n",
    "import matplotlib.pyplot as plt\n",
    "plt.rcParams['figure.figsize'] = (13, 8)"
   ]
  },
  {
   "cell_type": "code",
   "execution_count": 2,
   "metadata": {
    "collapsed": false
   },
   "outputs": [],
   "source": [
    "import os\n",
    "\n",
    "if \"SUPRIME_DATA_DIR\" not in os.environ:\n",
    "    os.environ[\"SUPRIME_DATA_DIR\"] = \"/datasets/hsc/repo\"\n",
    "        \n",
    "dataPath = os.path.join(os.environ[\"SUPRIME_DATA_DIR\"], \"rerun\", \"private\", \"hchiang2\", \"RC\", \"DM-10084-multiband\")\n",
    "\n",
    "butler = dafPersist.Butler(dataPath)\n",
    "skymap = butler.get(\"deepCoadd_skyMap\")"
   ]
  },
  {
   "cell_type": "markdown",
   "metadata": {},
   "source": [
    "### Read some data"
   ]
  },
  {
   "cell_type": "code",
   "execution_count": 3,
   "metadata": {
    "collapsed": true
   },
   "outputs": [],
   "source": [
    "dataId = dict(tract=8766, patch='2,1', filter='HSC-I')\n",
    "\n",
    "coadd = butler.get(\"deepCoadd_calexp\", dataId, immediate=True)\n",
    "\n",
    "ss = butler.get('deepCoadd_meas', dataId)\n",
    "families = deblender.Families(ss, butler, nChildMin=0)"
   ]
  },
  {
   "cell_type": "markdown",
   "metadata": {},
   "source": [
    "### Display it"
   ]
  },
  {
   "cell_type": "code",
   "execution_count": 4,
   "metadata": {
    "collapsed": false
   },
   "outputs": [],
   "source": [
    "if True:\n",
    "    disp1.mtv(coadd, title=\"%(tract)s %(patch)s\" % dataId)\n",
    "else:\n",
    "    disp1.erase()\n",
    "    disp1._xy0 = coadd.getXY0()\n",
    "\n",
    "with disp1.Buffering():\n",
    "    for s in ss:\n",
    "        disp1.dot('+' if s['deblend_nChild'] > 0 else 'x',\n",
    "                  *s.getCentroid(), size=3, ctype=afwDisplay.RED)"
   ]
  },
  {
   "cell_type": "markdown",
   "metadata": {},
   "source": [
    "### You only need to set these dicts to make 'r' work as a callback to show RGB images of blends"
   ]
  },
  {
   "cell_type": "code",
   "execution_count": 4,
   "metadata": {
    "collapsed": false
   },
   "outputs": [],
   "source": [
    "for bandName in \"GRI\":\n",
    "    filterName = \"HSC-%s\" % bandName.upper()\n",
    "    \n",
    "    deblender.coaddDict[filterName] = butler.get(\"deepCoadd_calexp\", dataId, filter=filterName)\n",
    "    sources = butler.get('deepCoadd_meas', dataId, filter=filterName)\n",
    "    deblender.familiesDict[filterName] = deblender.Families(sources, butler, nChildMin=0)"
   ]
  },
  {
   "cell_type": "markdown",
   "metadata": {},
   "source": [
    "### Show the deblended families\n",
    "\n",
    "Put us into a loop waiting on the display.  Sigh.\n",
    "\n",
    "Live keys in display window:\n",
    "-  d on an object in frame frame to show the children in display\n",
    "-  l  Toggle various useful stretches for the children\n",
    "-  r  Display RGB mosaic of children in notebook (you must have run previous cell)\n",
    "-  1 2 3 4  Zoom levels for children\n",
    "-  q to quit the interactive loop"
   ]
  },
  {
   "cell_type": "code",
   "execution_count": 5,
   "metadata": {
    "collapsed": false
   },
   "outputs": [
    {
     "data": {
      "image/png": "[encoded data removed]",
      "text/plain": [
       "<matplotlib.figure.Figure at 0x7fd7a250a090>"
      ]
     },
     "metadata": {},
     "output_type": "display_data"
    }
   ],
   "source": [
    "deblender.showBlend(coadd, families, display=disp2, imageDisplay=disp1)"
   ]
  },
  {
   "cell_type": "markdown",
   "metadata": {},
   "source": [
    "### Here's how to take ra, dec and get (tract, patch)"
   ]
  },
  {
   "cell_type": "code",
   "execution_count": 7,
   "metadata": {
    "collapsed": false
   },
   "outputs": [
    {
     "name": "stdout",
     "output_type": "stream",
     "text": [
      "9695 3,7\n"
     ]
    }
   ],
   "source": [
    "import lsst.afw.geom as afwGeom\n",
    "import lsst.afw.coord as afwCoord\n",
    "\n",
    "def decimalRaDec(raStr, decStr):\n",
    "    \"\"\"Convert ra, dec as strings to decimals.\n",
    "    A leading sign for the dec field is optional\n",
    "\n",
    "    E.g. decimalRaDec(\"09:59:21.76\", \"+02:06:38.4\")\n",
    "    \"\"\"\n",
    "    ra, dec = raStr.split(':'), decStr.split(':')\n",
    "    if dec[0][0] in \"-+\":\n",
    "        decSign = +1 if dec[0][0] == '+' else -1\n",
    "        dec[0] = dec[0][1:]\n",
    "    else:\n",
    "        decSign = +1\n",
    "\n",
    "    d, m, s = [float(_) for _ in dec]\n",
    "    dec = decSign*(d + (m + s/60.0)/60.0)\n",
    "\n",
    "    h, m, s = [float(_) for _ in ra]\n",
    "    ra = 15*(h + (m + s/60.0)/60.0)\n",
    "\n",
    "    return ra, dec\n",
    "\n",
    "ra, dec = [#(\"09:59:21.76\", \"+02:06:38.4\"),\n",
    "           (\"22:20:12.83\", \"+01:20:23.7\"),\n",
    "           (\"02:15:19.24\", \"-03:48:11.1\"),\n",
    "           (\"02:28:41.53\", \"-05:00:05.4\"),\n",
    "           (\"22:16:08.70\", \"+00:55:39.1\"),\n",
    "           (\"22:24:25.92\", \"+01:21:21.7\"),\n",
    "           ][0]\n",
    "ra, dec = decimalRaDec(ra, dec)\n",
    "    \n",
    "raDec = afwCoord.Coord(ra*afwGeom.degrees, dec*afwGeom.degrees)\n",
    "tractInfo, patchInfo = skymap.findClosestTractPatchList([raDec])[0]\n",
    "\n",
    "dataId = dict(tract = tractInfo.getId(),\n",
    "              patch = \"%d,%d\" % patchInfo[0].getIndex(),\n",
    "              filter='HSC-Z')\n",
    "\n",
    "print dataId[\"tract\"], dataId[\"patch\"]"
   ]
  },
  {
   "cell_type": "markdown",
   "metadata": {},
   "source": [
    "### Playground"
   ]
  }
 ],
 "metadata": {
  "kernelspec": {
   "display_name": "Python 2",
   "language": "python",
   "name": "python2"
  },
  "language_info": {
   "codemirror_mode": {
    "name": "ipython",
    "version": 2
   },
   "file_extension": ".py",
   "mimetype": "text/x-python",
   "name": "python",
   "nbconvert_exporter": "python",
   "pygments_lexer": "ipython2",
   "version": "2.7.13"
  }
 },
 "nbformat": 4,
 "nbformat_minor": 0
}

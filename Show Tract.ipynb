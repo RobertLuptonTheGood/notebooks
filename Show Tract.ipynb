{
 "cells": [
  {
   "cell_type": "markdown",
   "metadata": {},
   "source": [
    "Assemble and display a tract"
   ]
  },
  {
   "cell_type": "code",
   "execution_count": 1,
   "metadata": {
    "collapsed": false
   },
   "outputs": [],
   "source": [
    "import collections\n",
    "import numpy as np\n",
    "\n",
    "import lsst.daf.persistence as dafPersist\n",
    "import lsst.afw.image as afwImage\n",
    "import lsst.afw.detection as afwDetect\n",
    "import lsst.afw.geom as afwGeom\n",
    "import lsst.afw.cameraGeom.utils as cameraGeomUtils\n",
    "import lsst.afw.display.ds9 as ds9\n",
    "import lsst.afw.display.utils as displayUtils\n",
    "import lsst.afw.display.rgb as afwRgb"
   ]
  },
  {
   "cell_type": "code",
   "execution_count": 2,
   "metadata": {
    "collapsed": false
   },
   "outputs": [],
   "source": [
    "import os\n",
    "os.environ[\"SUPRIME_DATA_DIR\"] = \"/tigress/HSC/HSC\" if False else \"/data1b/work/yasuda/mbrown\"\n",
    "rerun = \"yasuda/5166\"\n",
    "dataPath = os.path.join(os.environ[\"SUPRIME_DATA_DIR\"], \"rerun\", rerun)\n",
    "\n",
    "butler = dafPersist.Butler(dataPath)\n",
    "skymap = butler.get(\"deepCoadd_skyMap\")"
   ]
  },
  {
   "cell_type": "code",
   "execution_count": 111,
   "metadata": {
    "collapsed": true
   },
   "outputs": [],
   "source": [
    "def assembleTiles(images):\n",
    "    \"\"\"Assemble a list of tiles according to their XY0 values\"\"\"\n",
    "    bigBBox = afwGeom.BoxI()\n",
    "\n",
    "    for im in images:\n",
    "        bigBBox.include(im.getBBox(afwImage.PARENT))\n",
    "\n",
    "    bigIm = afwImage.MaskedImageF(bigBBox)\n",
    "    for im in images:\n",
    "        if True:\n",
    "            sub = bigIm.Factory(bigIm, im.getBBox(afwImage.PARENT), afwImage.PARENT)\n",
    "            sub <<= im.getMaskedImage()\n",
    "            del sub\n",
    "        else:\n",
    "            bigIm[im.getBBox(afwImage.PARENT)] = im\n",
    "\n",
    "    return bigIm\n",
    "\n",
    "#-=-=-=-=-=-=-=-=-=-=-=-=-=-=-=-=-=-=-=-=-=-=-=-=-=-=-=-=-=-=-=-=-=-=-=-=-=-=-=-\n",
    "\n",
    "def assemblePatches(patches, patchInfo):\n",
    "    \"\"\"Assemble a list of tiles according to their XY0 values\"\"\"\n",
    "    bigBBox = afwGeom.BoxI()\n",
    "    \n",
    "    for p in patches:\n",
    "        pi = patchInfo[p]\n",
    "        bigBBox.include(pi.getInnerBBox())\n",
    "\n",
    "    bigIm = afwImage.MaskedImageF(bigBBox)\n",
    "    for p in patches:\n",
    "        im = patches[p].getMaskedImage()\n",
    "        pi = patchInfo[p]\n",
    "\n",
    "        if True:\n",
    "            sub = bigIm.Factory(bigIm, pi.getInnerBBox(), afwImage.PARENT)\n",
    "            sub <<= im.Factory(im, pi.getInnerBBox(), afwImage.PARENT)\n",
    "            del sub\n",
    "        else:\n",
    "            bigIm[pi.getInnerBBox()] = im[pi.getInnerBBox()]\n",
    "\n",
    "    return bigIm\n",
    "\n",
    "#-=-=-=-=-=-=-=-=-=-=-=-=-=-=-=-=-=-=-=-=-=-=-=-=-=-=-=-=-=-=-=-=-=-=-=-=-=-=-=-\n",
    "\n",
    "def getTract(butler, dataId, pps=None, butlerType=\"deepCoadd_calexp\"):\n",
    "    skymap = butler.get(\"deepCoadd_skyMap\")\n",
    "    patchInfo = dict(('%d,%d' % _.getIndex(), _) for _ in skymap[dataId[\"tract\"]])\n",
    "\n",
    "    if pps is None:\n",
    "        pps = list(patchInfo)\n",
    "        \n",
    "    filterName = dataId[\"filter\"]\n",
    "    if len(filterName) == 1:\n",
    "        filterName = \"HSC-%s\" % filterName.upper()\n",
    "        \n",
    "    patches = {}\n",
    "    for pp in pps:\n",
    "        patches[pp] = butler.get(butlerType, dataId, filter=filterName, patch=pp)\n",
    "\n",
    "    return assemblePatches(patches, patchInfo)\n",
    "\n",
    "def getPatchInfo(butler, dataId, pps=None, butlerType=\"deepCoadd_calexp\"):\n",
    "    skymap = butler.get(\"deepCoadd_skyMap\")\n",
    "    patchInfo = dict(('%d,%d' % _.getIndex(), _) for _ in skymap[dataId[\"tract\"]])\n",
    "    \n",
    "    if pps is None:\n",
    "        pps = list(patchInfo)\n",
    "\n",
    "    filterName = dataId[\"filter\"]\n",
    "    if len(filterName) == 1:\n",
    "        filterName = \"HSC-%s\" % filterName.upper()\n",
    "        \n",
    "    info = collections.OrderedDict()\n",
    "    for pp in pps:\n",
    "        patch = butler.get(butlerType, dataId, filter=filterName, patch=pp)\n",
    "        info[pp] = patch.getInfo()\n",
    "\n",
    "    return info"
   ]
  },
  {
   "cell_type": "code",
   "execution_count": 112,
   "metadata": {
    "collapsed": false
   },
   "outputs": [
    {
     "name": "stdout",
     "output_type": "stream",
     "text": [
      "3,3\n",
      "\t24164  0.371\n",
      "\t24196  0.364\n",
      "\t24228  0.265\n",
      "3,4\n",
      "\t24164  0.370\n",
      "\t24196  0.363\n",
      "\t24228  0.267\n",
      "3,5\n",
      "\t24164  0.369\n",
      "\t24196  0.364\n",
      "\t24228  0.268\n",
      "4,3\n",
      "\t24164  0.371\n",
      "\t24196  0.363\n",
      "\t24228  0.266\n",
      "4,4\n",
      "\t24164  0.370\n",
      "\t24196  0.361\n",
      "\t24228  0.269\n",
      "4,5\n",
      "\t24164  0.371\n",
      "\t24196  0.361\n",
      "\t24228  0.269\n",
      "5,3\n",
      "\t24164  0.369\n",
      "\t24196  0.363\n",
      "\t24228  0.268\n",
      "5,4\n",
      "\t24164  0.369\n",
      "\t24196  0.364\n",
      "\t24228  0.266\n",
      "5,5\n",
      "\t24164  0.370\n",
      "\t24196  0.362\n",
      "\t24228  0.268\n"
     ]
    }
   ],
   "source": [
    "if True:\n",
    "    info = getPatchInfo(butler, dataId=dict(tract=tract, filter='g'), pps=pps)\n",
    "\n",
    "for pp in info:\n",
    "    print pp\n",
    "    inputs = info[pp].getCoaddInputs()\n",
    "    w = 0\n",
    "    for v in inputs.visits:\n",
    "        w += v[\"weight\"]\n",
    "    for v in inputs.visits:\n",
    "        print \"\\t%5d  %.3f\" % (v.getId(), v[\"weight\"]/w)"
   ]
  },
  {
   "cell_type": "code",
   "execution_count": 75,
   "metadata": {
    "collapsed": false
   },
   "outputs": [],
   "source": [
    "if False:\n",
    "    p = butler.get('deepCoadd_calexp', tract=0, patch='5,5', filter='HSC-G', immediate=True)\n",
    "    ds9.mtv(p)"
   ]
  },
  {
   "cell_type": "code",
   "execution_count": 76,
   "metadata": {
    "collapsed": false
   },
   "outputs": [],
   "source": [
    "if False:\n",
    "    d = butler.get('deepCoadd_tempExp_diff', tract=0, patch='5,5', filter='HSC-G', visit=24164, immediate=True)\n",
    "    ds9.mtv(d, frame=1)"
   ]
  },
  {
   "cell_type": "code",
   "execution_count": 48,
   "metadata": {
    "collapsed": false
   },
   "outputs": [],
   "source": [
    "tract = 0\n",
    "pps = [\"%d,%d\" % (i , j) for i in range(3, 6) for j in range(3, 6)]\n",
    "#pps = [\"%d,%d\" % (i , j) for i in range(5, 6) for j in range(5, 6)]\n",
    "visits = [24164, 24196, 24228]\n",
    "\n",
    "fullPatchIm = getTract(butler, dataId=dict(tract=tract, filter='g'), pps=pps,\n",
    "                       butlerType=\"deepCoadd_calexp\")\n",
    "patchIm = fullPatchIm\n",
    "\n",
    "ds9.mtv(patchIm, frame=1, title=\"%d %s\" % (tract, str(pps)[1:-1].replace(\"'\", \"\")))"
   ]
  },
  {
   "cell_type": "code",
   "execution_count": 50,
   "metadata": {
    "collapsed": true
   },
   "outputs": [
    {
     "name": "stdout",
     "output_type": "stream",
     "text": [
      "24164\n",
      "24196\n",
      "24228\n"
     ]
    }
   ],
   "source": [
    "diffIms = collections.OrderedDict()\n",
    "for frame, v in enumerate(visits, 2):\n",
    "    if v in diffIms:\n",
    "        continue\n",
    "    print v\n",
    "    diffIms[v] = getTract(butler, dataId=dict(tract=tract, filter='g', visit=v), pps=pps,\n",
    "                          butlerType=\"deepCoadd_tempExp_diff\")\n",
    "    if False:\n",
    "        ds9.mtv(diffIms[v], frame=frame, title=v)"
   ]
  },
  {
   "cell_type": "code",
   "execution_count": 51,
   "metadata": {
    "collapsed": true
   },
   "outputs": [
    {
     "name": "stdout",
     "output_type": "stream",
     "text": [
      "24164\n",
      "24196\n",
      "24228\n"
     ]
    }
   ],
   "source": [
    "visitIms = collections.OrderedDict()\n",
    "for frame, v in enumerate(diffIms.keys(), 2 + 3):\n",
    "    if v in visitIms:\n",
    "        continue\n",
    "    print v\n",
    "    visitIms[v] = getTract(butler, dataId=dict(tract=tract, visit=v, filter='g'), pps=pps,\n",
    "                           butlerType=\"deepCoadd_tempExp\")\n",
    "    if False:\n",
    "        ds9.mtv(visitIms[v], frame=frame, title=v)"
   ]
  },
  {
   "cell_type": "markdown",
   "metadata": {},
   "source": [
    "Now some code to mask the artefacts in a difference image"
   ]
  },
  {
   "cell_type": "code",
   "execution_count": 74,
   "metadata": {
    "collapsed": false
   },
   "outputs": [],
   "source": [
    "if False:\n",
    "    fullPatchIm = patchIm\n",
    "\n",
    "if True:\n",
    "    bbox = fullPatchIm.getBBox()\n",
    "else:\n",
    "    bbox = afwGeom.BoxI(afwGeom.PointI(9000, 9000), afwGeom.PointI(12000 - 1, 12000 - 1))\n",
    "\n",
    "patchIm = fullPatchIm[bbox]\n",
    "\n",
    "if False:\n",
    "    ds9.mtv(patchIm, frame=1, title=\"%d %s\" % (tract, str(pps)[1:-1].replace(\"'\", \"\")))\n",
    "\n",
    "threshold = 2    # sigma (but the data's correlated, so this isn't directly interpretable)\n",
    "nGrow = 15       # pixels; saturated footprints only\n",
    "fs = afwDetect.FootprintSet(patchIm, afwDetect.Threshold(threshold, afwDetect.Threshold.PIXEL_STDEV))\n",
    "\n",
    "frame = 1\n",
    "x0, y0 = patchIm.getXY0()\n",
    "mask = patchIm.getMask()\n",
    "image = patchIm.getImage()\n",
    "brightThreshold = np.inf\n",
    "clippedNpixMin = 1000\n",
    "\n",
    "CLIPPED = 1 << mask.getMaskPlane(\"CLIPPED\")\n",
    "SAT = 1 << mask.getMaskPlane(\"SAT\")\n",
    "INTRP = 1 << mask.getMaskPlane(\"INTRP\")\n",
    "\n",
    "maskedPixels = (patchIm.getMask().getArray() & SAT)\n",
    "height, width = maskedPixels.shape\n",
    "\n",
    "for foot in fs.getFootprints():\n",
    "    peak = foot.getPeaks()[0]\n",
    "    x, y, = peak.getIx(), peak.getIy()\n",
    "    setBits = foot.overlapsMask(mask)\n",
    "    if image.get(x - x0, y - y0) > brightThreshold or (setBits & SAT) or \\\n",
    "       ((setBits & CLIPPED) and foot.getNpix() >= clippedNpixMin):\n",
    "        if (setBits & SAT) and nGrow:\n",
    "            foot = afwDetect.growFootprint(foot, nGrow)\n",
    "        for s in foot.getSpans():\n",
    "            sy = s.getY() - y0\n",
    "            sx0, sx1 = s.getX0() - x0, s.getX1() - x0\n",
    "            \n",
    "            try:\n",
    "                maskedPixels[sy, sx0:sx1+1] = 1\n",
    "            except IndexError:\n",
    "                if sy < 0 or sy >= height:\n",
    "                    continue\n",
    "                if sx0 < 0:\n",
    "                    sx0 = 0\n",
    "                if sx1 >= width:\n",
    "                    sx1 = width - 1\n",
    "                maskedPixels[sy, sx0:sx1+1] = 1\n",
    "\n",
    "if True:             # include union of chip gaps in maskedPixels\n",
    "    for v in diffIms:\n",
    "        maskedPixels[np.isnan(diffIms[v][bbox].getImage().getArray())] = 1\n",
    "\n",
    "cleaned = collections.OrderedDict()\n",
    "for frame, v in enumerate(diffIms, 2):\n",
    "    cleaned[v] = diffIms[v][bbox].clone()\n",
    "    imArr = cleaned[v].getImage().getArray()\n",
    "    mskArr = cleaned[v].getMask().getArray()\n",
    "    mskArr &= CLIPPED\n",
    "\n",
    "    bad = np.logical_or(np.isnan(imArr), maskedPixels > 0)        \n",
    "    good = np.logical_and(np.isfinite(imArr), maskedPixels == 0)\n",
    "\n",
    "    q25, q50, q75 = np.percentile(imArr[good], [25, 50, 75])\n",
    "    imArr[bad] = np.random.normal(q50, 0.741*(q75 - q25), size=np.sum(bad))\n",
    "    mskArr[bad] |= INTRP\n",
    "    \n",
    "    if False:\n",
    "        ds9.mtv(cleaned[v], frame=frame, title=v)\n",
    "    if False:\n",
    "        ds9.mtv(visitIms[v][bbox], frame=frame + 3, title=v)"
   ]
  },
  {
   "cell_type": "code",
   "execution_count": 76,
   "metadata": {
    "collapsed": false
   },
   "outputs": [],
   "source": [
    "R, G, B = [im.getImage().clone() for im in cleaned.values()]\n",
    "\n",
    "# make the blue a bit brighter by mixing in some green\n",
    "G.getArray()[:] += 0.5*B.getArray()\n",
    "\n",
    "# Set the pixel masks\n",
    "mskVal = 5\n",
    "for im in [G, B]:\n",
    "    im.getArray()[bad] += mskVal\n",
    "    \n",
    "clippedPixels = (patchIm.getMask().getArray() & CLIPPED) == CLIPPED\n",
    "for im in [R, B]:\n",
    "    im.getArray()[clippedPixels] += mskVal\n",
    "\n",
    "#\n",
    "# Add in the ghost of the direct image\n",
    "#\n",
    "addGhost = True\n",
    "if addGhost:\n",
    "    for im in [R, G, B]:\n",
    "        im.getArray()[:] += 100*patchIm.getImage().getArray()\n",
    "    \n",
    "rgb = afwRgb.makeRGB(R, G, B, minimum=-10, range=30, Q=8)\n",
    "afwRgb.writeRGB(\"tract-0-3,5-diff%s.png\" % (\"-ghost\" if addGhost else \"\"), rgb)\n",
    "\n",
    "if False:\n",
    "    afwRgb.displayRGB(rgb)"
   ]
  },
  {
   "cell_type": "code",
   "execution_count": 77,
   "metadata": {
    "collapsed": false
   },
   "outputs": [],
   "source": [
    "gray = afwRgb.makeRGB(*3*[patchIm[bbox]], minimum=-0.1, range=0.3, Q=8)\n",
    "afwRgb.writeRGB(\"tract-0-3,5.png\", gray)"
   ]
  },
  {
   "cell_type": "code",
   "execution_count": 59,
   "metadata": {
    "collapsed": false
   },
   "outputs": [],
   "source": [
    "if False:\n",
    "    ds9.mtv(butler.get(\"deepCoadd_tempExp\", tract=0, patch='3,3', filter='HSC-G', visit=24228))"
   ]
  },
  {
   "cell_type": "code",
   "execution_count": 113,
   "metadata": {
    "collapsed": false
   },
   "outputs": [
    {
     "name": "stdout",
     "output_type": "stream",
     "text": [
      "180.0\n"
     ]
    }
   ],
   "source": [
    "calexp = butler.get(\"calexp\", ccd=55, filter='HSC-G', visit=24228)\n",
    "calib = calexp.getCalib()\n",
    "print calib.getExptime()"
   ]
  },
  {
   "cell_type": "code",
   "execution_count": 132,
   "metadata": {
    "collapsed": false
   },
   "outputs": [
    {
     "name": "stdout",
     "output_type": "stream",
     "text": [
      "[195.5876425659588, 4.032620171976911]\n"
     ]
    }
   ],
   "source": [
    "import lsst.afw.cameraGeom as afwCamGeom\n",
    "boreSight = calexp.getDetector().getCenter()   # pixels in FPA coordinates\n",
    "pointing = calexp.getWcs().pixelToSky(boreSight.getPixels(1)) # where the boresight's pointing\n",
    "print [_.asDegrees() for _ in pointing]"
   ]
  }
 ],
 "metadata": {
  "kernelspec": {
   "display_name": "Python 2",
   "language": "python",
   "name": "python2"
  },
  "language_info": {
   "codemirror_mode": {
    "name": "ipython",
    "version": 2
   },
   "file_extension": ".py",
   "mimetype": "text/x-python",
   "name": "python",
   "nbconvert_exporter": "python",
   "pygments_lexer": "ipython2",
   "version": "2.7.10"
  }
 },
 "nbformat": 4,
 "nbformat_minor": 0
}

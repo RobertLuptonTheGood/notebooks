{
 "metadata": {
  "name": "",
  "signature": "sha256:46f12e17c1b46121cede54c5eb1db7592c1c909e0d77556d2c85876aa6009d68"
 },
 "nbformat": 3,
 "nbformat_minor": 0,
 "worksheets": [
  {
   "cells": [
    {
     "cell_type": "markdown",
     "metadata": {},
     "source": [
      "Calculate the optimal radius for aperture photometry, on the assumption that the sky noise dominates"
     ]
    },
    {
     "cell_type": "code",
     "collapsed": false,
     "input": [
      "import numpy as np\n",
      "import scipy.optimize\n",
      "import scipy.integrate\n",
      "\n",
      "%matplotlib inline\n",
      "import matplotlib.pyplot as plt"
     ],
     "language": "python",
     "metadata": {},
     "outputs": [],
     "prompt_number": 1
    },
    {
     "cell_type": "code",
     "collapsed": false,
     "input": [
      "def profile(r):\n",
      "    \"\"\"Profile of an approximate Moffat\"\"\"\n",
      "    b = 0.1             # Relative amplitude of second component\n",
      "    ns = 2.0            # Relative width of second component\n",
      "    return (np.exp(-r**2/2.0) + \n",
      "            b*np.exp(-(r/ns)**2/2.0))/(2*np.pi*(1 + ns**2*b))\n",
      "\n",
      "def cumulativeProfile(profile, R):\n",
      "    \"\"\"Cumulative flux to R for a profile prof(r)\"\"\"\n",
      "    return scipy.integrate.quad(lambda r: 2*pi*r*profile(r), 0, R)[0]\n",
      "\n",
      "def SN(r):\n",
      "    return cumulativeProfile(profile, r)/np.sqrt(pi*r**2)\n",
      "    \n",
      "optimal = scipy.optimize.brent(lambda r: -SN(r), (), (1, 2))\n",
      "\n",
      "x = np.linspace(0, 4) # , dtype=float)\n",
      "plt.plot(x, [SN(_) for _ in x])\n",
      "plt.axvline(optimal, ls=':')\n",
      "_ = plt.text(x[2*len(x)//3], 0.85*plt.ylim()[1], \"R = %.3f\" % (optimal))"
     ],
     "language": "python",
     "metadata": {},
     "outputs": [
      {
       "metadata": {},
       "output_type": "display_data",
       "png": "[encoded data removed]",
       "text": [
        "<matplotlib.figure.Figure at 0x7fd27289db90>"
       ]
      }
     ],
     "prompt_number": 12
    }
   ],
   "metadata": {}
  }
 ]
}
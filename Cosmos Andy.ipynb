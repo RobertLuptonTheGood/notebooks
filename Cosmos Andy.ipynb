{
 "metadata": {
  "name": "",
  "signature": "sha256:a8c32e683b17ef433624d2baaa9ce7d64cb4f526d2a3d4495f534f86659d44ae"
 },
 "nbformat": 3,
 "nbformat_minor": 0,
 "worksheets": [
  {
   "cells": [
    {
     "cell_type": "code",
     "collapsed": false,
     "input": [
      "import lsst.daf.persistence as dafPersist\n",
      "import lsst.afw.display.ds9 as ds9\n",
      "import lsst.afw.geom as afwGeom\n",
      "import lsst.afw.image as afwImage"
     ],
     "language": "python",
     "metadata": {},
     "outputs": [],
     "prompt_number": 48
    },
    {
     "cell_type": "code",
     "collapsed": false,
     "input": [
      "butler = dafPersist.Butler(os.path.join(os.environ[\"SUPRIME_DATA_DIR\"], \"rerun\", \"ssp1-cosmos-20140609\"))"
     ],
     "language": "python",
     "metadata": {},
     "outputs": [],
     "prompt_number": 49
    },
    {
     "cell_type": "code",
     "collapsed": false,
     "input": [
      "import cutouts\n",
      "if not False:\n",
      "    cutouts = reload(cutouts)\n",
      "\n",
      "position = afwGeom.PointD(2150, 2265)\n",
      "pstamp, pstampHST, pstampPSF, im, srcs, s = cutouts.run(butler, dict(tract=0, patch='5,10', filter='HSC-R'), \n",
      "                                                        position=position, returnExposure=True,\n",
      "                                                        frame=None)"
     ],
     "language": "python",
     "metadata": {},
     "outputs": [
      {
       "output_type": "stream",
       "stream": "stdout",
       "text": [
        "(21984, 42069) (66, 96)\n"
       ]
      }
     ],
     "prompt_number": 80
    },
    {
     "cell_type": "code",
     "collapsed": false,
     "input": [
      "if False:\n",
      "    frame = 1\n",
      "    ds9.mtv(pstamp, frame=frame, title=\"HSC deep\"); ds9.zoom(4, frame=frame);  frame += 1\n",
      "    ds9.mtv(pstampHST, frame=frame, title=\"HST\");   ds9.zoom(1, frame=frame);  frame += 1\n",
      "    ds9.mtv(pstampPSF, frame=3, title=\"PSF\");       ds9.zoom(8, frame=frame);  frame += 1"
     ],
     "language": "python",
     "metadata": {},
     "outputs": [],
     "prompt_number": 81
    },
    {
     "cell_type": "code",
     "collapsed": false,
     "input": [
      "fileName = \"foo.fits\"\n",
      "if isinstance(pstamp, afwImage.ImageF):\n",
      "    pstamp.writeFits(fileName)\n",
      "else:\n",
      "    pstamp.getMaskedImage().getImage().writeFits(fileName, pstamp.getWcs().getFitsMetadata())\n",
      "pstampHST.writeFits(fileName, None, \"a\"); \n",
      "pstampPSF.writeFits(fileName, None, \"a\");    "
     ],
     "language": "python",
     "metadata": {},
     "outputs": [],
     "prompt_number": 82
    },
    {
     "cell_type": "code",
     "collapsed": false,
     "input": [
      "%matplotlib inline\n",
      "import matplotlib.pyplot as pyplot\n",
      "import numpy as np"
     ],
     "language": "python",
     "metadata": {},
     "outputs": [],
     "prompt_number": 83
    },
    {
     "cell_type": "code",
     "collapsed": false,
     "input": [
      "[_.asDegrees() for _ in im.getWcs().pixelToSky(position + afwGeom.ExtentD(im.getXY0()))]"
     ],
     "language": "python",
     "metadata": {},
     "outputs": [
      {
       "metadata": {},
       "output_type": "pyout",
       "prompt_number": 84,
       "text": [
        "[150.63443445115968, 2.383253091388864]"
       ]
      }
     ],
     "prompt_number": 84
    },
    {
     "cell_type": "code",
     "collapsed": false,
     "input": [
      "[_.asDegrees() for _ in pstamp.getWcs().pixelToSky(position - afwGeom.ExtentD(pstamp.getXY0() - im.getXY0()))]"
     ],
     "language": "python",
     "metadata": {},
     "outputs": [
      {
       "metadata": {},
       "output_type": "pyout",
       "prompt_number": 85,
       "text": [
        "[148.57773578212107, 6.301920334461716]"
       ]
      }
     ],
     "prompt_number": 85
    },
    {
     "cell_type": "code",
     "collapsed": false,
     "input": [
      "[_.asDegrees() for _ in pstamp.getWcs().pixelToSky(position - afwGeom.ExtentD(pstamp.getXY0()))]"
     ],
     "language": "python",
     "metadata": {},
     "outputs": [
      {
       "metadata": {},
       "output_type": "pyout",
       "prompt_number": 86,
       "text": [
        "[149.5099414479083, 4.446862483441654]"
       ]
      }
     ],
     "prompt_number": 86
    },
    {
     "cell_type": "code",
     "collapsed": false,
     "input": [
      "[_.asDegrees() for _ in pstamp.getWcs().pixelToSky(66, 96)]"
     ],
     "language": "python",
     "metadata": {},
     "outputs": [
      {
       "metadata": {},
       "output_type": "pyout",
       "prompt_number": 87,
       "text": [
        "[149.60743044912311, 4.345812010195724]"
       ]
      }
     ],
     "prompt_number": 87
    },
    {
     "cell_type": "code",
     "collapsed": false,
     "input": [
      "position, pstamp.getXY0(), im.getXY0()"
     ],
     "language": "python",
     "metadata": {},
     "outputs": [
      {
       "metadata": {},
       "output_type": "pyout",
       "prompt_number": 88,
       "text": [
        "(Point2D(2150, 2265), Point2I(0, 0), Point2I(19900, 39900))"
       ]
      }
     ],
     "prompt_number": 88
    },
    {
     "cell_type": "code",
     "collapsed": false,
     "input": [
      "if False:\n",
      "    ds9.mtv(im)\n",
      "ds9.pan(*position); ds9.dot('+', *position)"
     ],
     "language": "python",
     "metadata": {},
     "outputs": [],
     "prompt_number": 89
    }
   ],
   "metadata": {}
  }
 ]
}